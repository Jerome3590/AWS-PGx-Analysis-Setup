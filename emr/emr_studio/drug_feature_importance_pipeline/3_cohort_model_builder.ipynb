{
 "cells": [
  {
   "cell_type": "code",
   "execution_count": 1,
   "id": "d4d5dedf-e7c6-476d-a86e-34eb13b5f870",
   "metadata": {
    "execution": {
     "iopub.execute_input": "2025-01-02T21:42:30.858852Z",
     "iopub.status.busy": "2025-01-02T21:42:30.858509Z",
     "iopub.status.idle": "2025-01-02T21:42:31.107640Z",
     "shell.execute_reply": "2025-01-02T21:42:31.106972Z",
     "shell.execute_reply.started": "2025-01-02T21:42:30.858820Z"
    },
    "tags": []
   },
   "outputs": [
    {
     "data": {
      "text/html": [
       "Current session configs: <tt>{'conf': {'spark.broadcast.compress': 'true', 'spark.jars.packages': 'ai.catboost:catboost-spark_3.5_2.12:1.2.7', 'spark.jars.packages.resolve.transitive': 'true', 'spark.executor.memory': '180g', 'spark.executor.cores': '1', 'spark.executorEnv.CATBOOST_WORKER_INIT_TIMEOUT': '3600s', 'spark.executor.extraJavaOptions': '--add-exports java.base/sun.net.util=ALL-UNNAMED', 'spark.executor.memoryOverhead': '8g', 'spark.driver.extraJavaOptions': '--add-exports java.base/sun.net.util=ALL-UNNAMED', 'spark.driver.memory': '45g', 'spark.dynamicAllocation.enabled': 'true', 'spark.dynamicAllocation.minExecutors': '2', 'spark.dynamicAllocation.maxExecutors': '103', 'spark.network.timeout': '1200s', 'spark.rpc.askTimeout': '1200s', 'spark.rpc.message.maxSize': '512', 'spark.sql.broadcastTimeout': '1200s', 'spark.sql.session.timeout': '1200s', 'spark.sql.shuffle.partitions': '103', 'spark.sql.autoBroadcastJoinThreshold': '-1', 'spark.shuffle.service.enabled': 'true', 'spark.task.cpus': '1', 'spark.yarn.am.memory': '45g'}, 'proxyUser': 'assumed-role_EMRStudio_User_Role_jdixon3590', 'kind': 'pyspark'}</tt><br>"
      ],
      "text/plain": [
       "<IPython.core.display.HTML object>"
      ]
     },
     "metadata": {},
     "output_type": "display_data"
    },
    {
     "data": {
      "text/html": [
       "No active sessions."
      ],
      "text/plain": [
       "<IPython.core.display.HTML object>"
      ]
     },
     "metadata": {},
     "output_type": "display_data"
    }
   ],
   "source": [
    "%%configure -f\n",
    "{\n",
    "    \"conf\": {\n",
    "        \"spark.broadcast.compress\": \"true\", \n",
    "        \"spark.jars.packages\": \"ai.catboost:catboost-spark_3.5_2.12:1.2.7\",\n",
    "        \"spark.jars.packages.resolve.transitive\": \"true\",\n",
    "        \"spark.executor.memory\": \"180g\",\n",
    "        \"spark.executor.cores\": \"1\",   \n",
    "        \"spark.executorEnv.CATBOOST_WORKER_INIT_TIMEOUT\": \"3600s\",\n",
    "        \"spark.executor.extraJavaOptions\": \"--add-exports java.base/sun.net.util=ALL-UNNAMED\",\n",
    "        \"spark.executor.memoryOverhead\": \"8g\",\n",
    "        \"spark.driver.extraJavaOptions\": \"--add-exports java.base/sun.net.util=ALL-UNNAMED\",\n",
    "        \"spark.driver.memory\": \"45g\",          \n",
    "        \"spark.dynamicAllocation.enabled\": \"true\",\n",
    "        \"spark.dynamicAllocation.minExecutors\": \"2\",\n",
    "        \"spark.dynamicAllocation.maxExecutors\": \"103\",     \n",
    "        \"spark.network.timeout\": \"1200s\",  \n",
    "        \"spark.rpc.askTimeout\": \"1200s\", \n",
    "        \"spark.rpc.message.maxSize\": \"512\",\n",
    "        \"spark.sql.broadcastTimeout\": \"1200s\",\n",
    "        \"spark.sql.session.timeout\": \"1200s\",\n",
    "        \"spark.sql.shuffle.partitions\": \"103\",\n",
    "        \"spark.sql.autoBroadcastJoinThreshold\": \"-1\",\n",
    "        \"spark.shuffle.service.enabled\": \"true\",\n",
    "        \"spark.task.cpus\": \"1\",  \n",
    "        \"spark.yarn.am.memory\": \"45g\"\n",
    "    }\n",
    "}"
   ]
  },
  {
   "cell_type": "code",
   "execution_count": 2,
   "id": "ba04fa74-e410-455e-ba84-919cbeefe66b",
   "metadata": {
    "execution": {
     "iopub.execute_input": "2025-01-02T21:42:33.016810Z",
     "iopub.status.busy": "2025-01-02T21:42:33.016570Z",
     "iopub.status.idle": "2025-01-02T21:43:10.076933Z",
     "shell.execute_reply": "2025-01-02T21:43:10.076281Z",
     "shell.execute_reply.started": "2025-01-02T21:42:33.016781Z"
    },
    "tags": []
   },
   "outputs": [
    {
     "data": {
      "application/vnd.jupyter.widget-view+json": {
       "model_id": "91b1b7427a794501b3f00e893cbf07e2",
       "version_major": 2,
       "version_minor": 0
      },
      "text/plain": [
       "VBox()"
      ]
     },
     "metadata": {},
     "output_type": "display_data"
    },
    {
     "name": "stdout",
     "output_type": "stream",
     "text": [
      "Starting Spark application\n"
     ]
    },
    {
     "data": {
      "text/html": [
       "<table>\n",
       "<tbody><tr><th>ID</th><th>YARN Application ID</th><th>Kind</th><th>State</th><th>Spark UI</th><th>Driver log</th><th>User</th><th>Current session?</th></tr><tr><td>0</td><td>application_1735853484859_0001</td><td>pyspark</td><td>idle</td><td><a target=\"_blank\" href=\"http://ip-172-31-2-81.ec2.internal:20888/proxy/application_1735853484859_0001/\" class=\"emr-proxy-link j-1H9CFZQ64OIV4 application_1735853484859_0001\" emr-resource=\"j-1H9CFZQ64OIV4\n",
       "\" application-id=\"application_1735853484859_0001\">Link</a></td><td><a target=\"_blank\" href=\"http://ip-172-31-10-159.ec2.internal:8042/node/containerlogs/container_1735853484859_0001_01_000001/livy\">Link</a></td><td>None</td><td>✔</td></tr></tbody></table>"
      ],
      "text/plain": [
       "<IPython.core.display.HTML object>"
      ]
     },
     "metadata": {},
     "output_type": "display_data"
    },
    {
     "data": {
      "application/vnd.jupyter.widget-view+json": {
       "model_id": "",
       "version_major": 2,
       "version_minor": 0
      },
      "text/plain": [
       "FloatProgress(value=0.0, bar_style='info', description='Progress:', layout=Layout(height='25px', width='50%'),…"
      ]
     },
     "metadata": {},
     "output_type": "display_data"
    },
    {
     "name": "stdout",
     "output_type": "stream",
     "text": [
      "SparkSession available as 'spark'.\n"
     ]
    },
    {
     "data": {
      "application/vnd.jupyter.widget-view+json": {
       "model_id": "",
       "version_major": 2,
       "version_minor": 0
      },
      "text/plain": [
       "FloatProgress(value=0.0, bar_style='info', description='Progress:', layout=Layout(height='25px', width='50%'),…"
      ]
     },
     "metadata": {},
     "output_type": "display_data"
    }
   ],
   "source": [
    "import pyspark\n",
    "from pyspark.sql import SparkSession\n",
    "from pyspark.sql.functions import col, when\n",
    "from pyspark.ml.linalg import Vectors\n",
    "from pyspark.sql.types import StructType, StructField, DoubleType, StringType\n",
    "import catboost_spark"
   ]
  },
  {
   "cell_type": "code",
   "execution_count": 3,
   "id": "df7407cc-8efe-4fe0-8003-0a06d020be06",
   "metadata": {
    "execution": {
     "iopub.execute_input": "2025-01-02T21:43:14.282043Z",
     "iopub.status.busy": "2025-01-02T21:43:14.281801Z",
     "iopub.status.idle": "2025-01-02T21:43:14.339603Z",
     "shell.execute_reply": "2025-01-02T21:43:14.338952Z",
     "shell.execute_reply.started": "2025-01-02T21:43:14.282012Z"
    },
    "tags": [
     "parameters"
    ]
   },
   "outputs": [
    {
     "data": {
      "application/vnd.jupyter.widget-view+json": {
       "model_id": "894aa6b06f9c42e4aae59b8c761da271",
       "version_major": 2,
       "version_minor": 0
      },
      "text/plain": [
       "VBox()"
      ]
     },
     "metadata": {},
     "output_type": "display_data"
    },
    {
     "data": {
      "application/vnd.jupyter.widget-view+json": {
       "model_id": "",
       "version_major": 2,
       "version_minor": 0
      },
      "text/plain": [
       "FloatProgress(value=0.0, bar_style='info', description='Progress:', layout=Layout(height='25px', width='50%'),…"
      ]
     },
     "metadata": {},
     "output_type": "display_data"
    }
   ],
   "source": [
    "# Adding a parameter tag\n",
    "cohort = 'cohort6'"
   ]
  },
  {
   "cell_type": "code",
   "execution_count": 4,
   "id": "8bfe237a-df8a-47fe-805d-1c91368c5f8b",
   "metadata": {
    "execution": {
     "iopub.execute_input": "2025-01-02T21:43:17.221524Z",
     "iopub.status.busy": "2025-01-02T21:43:17.221276Z",
     "iopub.status.idle": "2025-01-02T21:43:28.549312Z",
     "shell.execute_reply": "2025-01-02T21:43:28.548650Z",
     "shell.execute_reply.started": "2025-01-02T21:43:17.221492Z"
    },
    "tags": []
   },
   "outputs": [
    {
     "data": {
      "application/vnd.jupyter.widget-view+json": {
       "model_id": "568aecafb6244ce487c3161a705179b5",
       "version_major": 2,
       "version_minor": 0
      },
      "text/plain": [
       "VBox()"
      ]
     },
     "metadata": {},
     "output_type": "display_data"
    },
    {
     "data": {
      "application/vnd.jupyter.widget-view+json": {
       "model_id": "",
       "version_major": 2,
       "version_minor": 0
      },
      "text/plain": [
       "FloatProgress(value=0.0, bar_style='info', description='Progress:', layout=Layout(height='25px', width='50%'),…"
      ]
     },
     "metadata": {},
     "output_type": "display_data"
    },
    {
     "name": "stdout",
     "output_type": "stream",
     "text": [
      "Reading train and test datasets...\n",
      "Train and test datasets successfully loaded."
     ]
    }
   ],
   "source": [
    "# S3 Paths\n",
    "s3_bucket = f\"s3://pgx-repository/ade-risk-model/Step5_Time_to_Event_Model/2_processed_datasets/{cohort}\"\n",
    "train_input_path = f\"{s3_bucket}/train\"\n",
    "test_input_path = f\"{s3_bucket}/test\"\n",
    "\n",
    "# Read processed train and test datasets from S3\n",
    "print(\"Reading train and test datasets...\")\n",
    "train_df = spark.read.parquet(train_input_path)\n",
    "test_df = spark.read.parquet(test_input_path)\n",
    "\n",
    "print(\"Train and test datasets successfully loaded.\")"
   ]
  },
  {
   "cell_type": "code",
   "execution_count": 5,
   "id": "7c8b8757-0c37-4dc0-9337-410dc9616c43",
   "metadata": {
    "execution": {
     "iopub.execute_input": "2025-01-02T21:47:34.887896Z",
     "iopub.status.busy": "2025-01-02T21:47:34.887634Z",
     "iopub.status.idle": "2025-01-02T21:47:35.143030Z",
     "shell.execute_reply": "2025-01-02T21:47:35.142380Z",
     "shell.execute_reply.started": "2025-01-02T21:47:34.887865Z"
    },
    "tags": []
   },
   "outputs": [
    {
     "data": {
      "application/vnd.jupyter.widget-view+json": {
       "model_id": "7a1d83284724454fa9560828cb3fa28d",
       "version_major": 2,
       "version_minor": 0
      },
      "text/plain": [
       "VBox()"
      ]
     },
     "metadata": {},
     "output_type": "display_data"
    },
    {
     "data": {
      "application/vnd.jupyter.widget-view+json": {
       "model_id": "",
       "version_major": 2,
       "version_minor": 0
      },
      "text/plain": [
       "FloatProgress(value=0.0, bar_style='info', description='Progress:', layout=Layout(height='25px', width='50%'),…"
      ]
     },
     "metadata": {},
     "output_type": "display_data"
    },
    {
     "name": "stdout",
     "output_type": "stream",
     "text": [
      "Train Dataframe Schema:\n",
      "root\n",
      " |-- mi_person_key: string (nullable = true)\n",
      " |-- drug_date: date (nullable = true)\n",
      " |-- ADE_Date: date (nullable = true)\n",
      " |-- standardized_drug_name: string (nullable = true)\n",
      " |-- label: integer (nullable = true)\n",
      " |-- person_key_index: double (nullable = true)\n",
      " |-- drug_name_index: double (nullable = true)\n",
      " |-- drug_name_one_hot: vector (nullable = true)\n",
      " |-- features: vector (nullable = true)\n",
      "\n",
      "Test Dataframe Schema:\n",
      "root\n",
      " |-- mi_person_key: string (nullable = true)\n",
      " |-- drug_date: date (nullable = true)\n",
      " |-- ADE_Date: date (nullable = true)\n",
      " |-- standardized_drug_name: string (nullable = true)\n",
      " |-- label: integer (nullable = true)\n",
      " |-- person_key_index: double (nullable = true)\n",
      " |-- drug_name_index: double (nullable = true)\n",
      " |-- drug_name_one_hot: vector (nullable = true)\n",
      " |-- features: vector (nullable = true)"
     ]
    }
   ],
   "source": [
    "# Verify output\n",
    "print(\"Train Dataframe Schema:\")\n",
    "train_df.printSchema()\n",
    "print(\"Test Dataframe Schema:\")\n",
    "test_df.printSchema()"
   ]
  },
  {
   "cell_type": "code",
   "execution_count": 7,
   "id": "d12668bd-ea78-43a2-a8b4-6b228472cd48",
   "metadata": {
    "execution": {
     "iopub.execute_input": "2025-01-02T21:48:27.822516Z",
     "iopub.status.busy": "2025-01-02T21:48:27.822263Z",
     "iopub.status.idle": "2025-01-02T21:48:28.075701Z",
     "shell.execute_reply": "2025-01-02T21:48:28.075031Z",
     "shell.execute_reply.started": "2025-01-02T21:48:27.822484Z"
    }
   },
   "outputs": [
    {
     "data": {
      "application/vnd.jupyter.widget-view+json": {
       "model_id": "0a0e282d6ce7438c99de3b7094ed8cb1",
       "version_major": 2,
       "version_minor": 0
      },
      "text/plain": [
       "VBox()"
      ]
     },
     "metadata": {},
     "output_type": "display_data"
    },
    {
     "data": {
      "application/vnd.jupyter.widget-view+json": {
       "model_id": "",
       "version_major": 2,
       "version_minor": 0
      },
      "text/plain": [
       "FloatProgress(value=0.0, bar_style='info', description='Progress:', layout=Layout(height='25px', width='50%'),…"
      ]
     },
     "metadata": {},
     "output_type": "display_data"
    }
   ],
   "source": [
    "# Repartition the DataFrames to match the number of instances (103)\n",
    "train_df = train_df.repartition(103)\n",
    "test_df = test_df.repartition(103)"
   ]
  },
  {
   "cell_type": "code",
   "execution_count": 8,
   "id": "4cfe3820-8c8b-41a2-a92d-3331f7086a14",
   "metadata": {
    "execution": {
     "iopub.execute_input": "2025-01-02T21:48:47.477475Z",
     "iopub.status.busy": "2025-01-02T21:48:47.477228Z",
     "iopub.status.idle": "2025-01-02T21:48:48.742710Z",
     "shell.execute_reply": "2025-01-02T21:48:48.742075Z",
     "shell.execute_reply.started": "2025-01-02T21:48:47.477445Z"
    },
    "tags": []
   },
   "outputs": [
    {
     "data": {
      "application/vnd.jupyter.widget-view+json": {
       "model_id": "c90596af1e0548ae9926ce6da0b2185a",
       "version_major": 2,
       "version_minor": 0
      },
      "text/plain": [
       "VBox()"
      ]
     },
     "metadata": {},
     "output_type": "display_data"
    },
    {
     "data": {
      "application/vnd.jupyter.widget-view+json": {
       "model_id": "",
       "version_major": 2,
       "version_minor": 0
      },
      "text/plain": [
       "FloatProgress(value=0.0, bar_style='info', description='Progress:', layout=Layout(height='25px', width='50%'),…"
      ]
     },
     "metadata": {},
     "output_type": "display_data"
    },
    {
     "name": "stdout",
     "output_type": "stream",
     "text": [
      "Disk Memory Serialized 1x Replicated\n",
      "Disk Memory Serialized 1x Replicated"
     ]
    }
   ],
   "source": [
    "# CatBoost Pool objects\n",
    "from pyspark import StorageLevel\n",
    "\n",
    "# Cache or persist the Spark DataFrames before creating the Pool\n",
    "train_df = train_df.select(\"features\", \"label\").persist(StorageLevel.MEMORY_AND_DISK)\n",
    "test_df = test_df.select(\"features\", \"label\").persist(StorageLevel.MEMORY_AND_DISK)\n",
    "\n",
    "# Create the CatBoost Pool objects\n",
    "train_pool = catboost_spark.Pool(train_df)\n",
    "test_pool = catboost_spark.Pool(test_df)\n",
    "\n",
    "# Confirm the DataFrames are cached/persisted\n",
    "print(train_df.storageLevel)\n",
    "print(test_df.storageLevel)"
   ]
  },
  {
   "cell_type": "code",
   "execution_count": null,
   "id": "84d92489-4702-4c25-83d1-f129d1cbcbfa",
   "metadata": {
    "tags": []
   },
   "outputs": [],
   "source": [
    "# Seeds for different runs - 10 models\n",
    "seeds = [3, 24, 18, 17, 19, 11, 38, 74, 35, 90]\n",
    "\n",
    "# Start model number tracker\n",
    "model_num = 1\n",
    "\n",
    "# Loop to train and save models (10 runs for stable feature selection)\n",
    "for seed in seeds:\n",
    "    print(f\"Training model {model_num} with seed {seed}...\")\n",
    "    \n",
    "    # Initialize CatBoost Spark Classifier with the current seed\n",
    "    classifier = catboost_spark.CatBoostClassifier(randomSeed=seed)\n",
    "\n",
    "    # Train the model\n",
    "    model = classifier.fit(train_pool, evalDatasets=[test_pool])\n",
    "\n",
    "    # Define the path to save the Spark model, including the model number\n",
    "    spark_model_path = f\"s3://pgx-repository/ade-risk-model/Step5_Time_to_Event_Model/4_models/{cohort}/spark_model_{model_num}\"\n",
    "\n",
    "    # Save the Spark model (with metadata)\n",
    "    model.write().overwrite().save(spark_model_path)\n",
    "\n",
    "    print(f\"Spark model {model_num} with metadata saved to: {spark_model_path}\")\n",
    "    \n",
    "    # Clean up memory for next run\n",
    "    del classifier\n",
    "    del model\n",
    "    \n",
    "    # Increment the model number for the next run\n",
    "    model_num += 1"
   ]
  },
  {
   "cell_type": "code",
   "execution_count": 9,
   "id": "b0a9d3a5-085f-4609-a78e-acc8fc03f798",
   "metadata": {
    "execution": {
     "iopub.execute_input": "2025-01-02T21:49:29.801818Z",
     "iopub.status.busy": "2025-01-02T21:49:29.801570Z",
     "iopub.status.idle": "2025-01-03T00:48:52.111884Z",
     "shell.execute_reply": "2025-01-03T00:48:52.111194Z",
     "shell.execute_reply.started": "2025-01-02T21:49:29.801787Z"
    },
    "tags": []
   },
   "outputs": [
    {
     "data": {
      "application/vnd.jupyter.widget-view+json": {
       "model_id": "2219f6b4b1504d0ab262b8e66235f99d",
       "version_major": 2,
       "version_minor": 0
      },
      "text/plain": [
       "VBox()"
      ]
     },
     "metadata": {},
     "output_type": "display_data"
    },
    {
     "data": {
      "application/vnd.jupyter.widget-view+json": {
       "model_id": "e70578bd561743109fc9f6e24055d36e",
       "version_major": 2,
       "version_minor": 0
      },
      "text/plain": [
       "FloatProgress(value=0.0, bar_style='info', description='Progress:', layout=Layout(height='25px', width='50%'),…"
      ]
     },
     "metadata": {},
     "output_type": "display_data"
    },
    {
     "name": "stderr",
     "output_type": "stream",
     "text": [
      "Exception in thread cell_monitor-8:\n",
      "Traceback (most recent call last):\n",
      "  File \"/mnt/notebook-env/lib/python3.9/threading.py\", line 980, in _bootstrap_inner\n",
      "    self.run()\n",
      "  File \"/mnt/notebook-env/lib/python3.9/threading.py\", line 917, in run\n",
      "    self._target(*self._args, **self._kwargs)\n",
      "  File \"/mnt/notebook-env/lib/python3.9/site-packages/awseditorssparkmonitoringwidget/cellmonitor.py\", line 178, in cell_monitor\n",
      "    job_binned_stages[job_id][stage_id] = all_stages[stage_id]\n",
      "KeyError: 1733\n",
      "An error was encountered:\n",
      "Invalid status code '400' from http://localhost:8998/sessions/0/statements/8 with error payload: {\"msg\":\"requirement failed: Session isn't active.\"}\n"
     ]
    }
   ],
   "source": [
    "# Additional Seeds for miscellaneous or missing runs\n",
    "seeds = [3]\n",
    "\n",
    "# Start model number tracker\n",
    "model_num = 1\n",
    "\n",
    "# Loop to train and save models (10 runs for stable feature selection)\n",
    "for seed in seeds:\n",
    "    print(f\"Training model {model_num} with seed {seed}...\")\n",
    "    \n",
    "    # Initialize CatBoost Spark Classifier with the current seed\n",
    "    classifier = catboost_spark.CatBoostClassifier(randomSeed=seed)\n",
    "\n",
    "    # Train the model\n",
    "    model = classifier.fit(train_pool, evalDatasets=[test_pool])\n",
    "\n",
    "    # Define the path to save the Spark model, including the model number\n",
    "    spark_model_path = f\"s3://pgx-repository/ade-risk-model/Step5_Time_to_Event_Model/4_models/{cohort}/spark_model_{model_num}\"\n",
    "\n",
    "    # Save the Spark model (with metadata)\n",
    "    model.write().overwrite().save(spark_model_path)\n",
    "\n",
    "    print(f\"Spark model {model_num} with metadata saved to: {spark_model_path}\")\n",
    "    \n",
    "    # Clean up memory for next run\n",
    "    del classifier\n",
    "    del model\n",
    "    \n",
    "    # Increment the model number for the next run\n",
    "    model_num += 1"
   ]
  },
  {
   "cell_type": "code",
   "execution_count": null,
   "id": "f61b8922-5a40-4728-ac0c-7803e78f49d9",
   "metadata": {},
   "outputs": [],
   "source": [
    "train_df.unpersist()\n",
    "test_df.unpersist()"
   ]
  },
  {
   "cell_type": "code",
   "execution_count": null,
   "id": "d994ae6d-b4ba-4622-9bcb-cc119f29e502",
   "metadata": {},
   "outputs": [],
   "source": []
  }
 ],
 "metadata": {
  "kernelspec": {
   "display_name": "PySpark",
   "language": "",
   "name": "pysparkkernel"
  },
  "language_info": {
   "codemirror_mode": {
    "name": "python",
    "version": 3
   },
   "file_extension": ".py",
   "mimetype": "text/x-python",
   "name": "pyspark",
   "pygments_lexer": "python3"
  },
  "widgets": {
   "application/vnd.jupyter.widget-state+json": {
    "state": {
     "0a01636119c44ea28ebc581481e89a45": {
      "model_module": "@jupyter-widgets/base",
      "model_module_version": "1.2.0",
      "model_name": "LayoutModel",
      "state": {
       "max_height": "500px",
       "overflow_y": "scroll"
      }
     },
     "3bd949c37ddd4d48baaae20936dd6fc6": {
      "model_module": "@jupyter-widgets/controls",
      "model_module_version": "1.5.0",
      "model_name": "AccordionModel",
      "state": {
       "_titles": {
        "0": "Spark Job Progress"
       },
       "children": [
        "IPY_MODEL_cd1e41387a694a46bc0feb3bc43b740e"
       ],
       "layout": "IPY_MODEL_7d4b92517e9b44c6969566f46f1867d9",
       "selected_index": null
      }
     },
     "4682619abf6741158e0833cb191ba05c": {
      "model_module": "@jupyter-widgets/controls",
      "model_module_version": "1.5.0",
      "model_name": "VBoxModel",
      "state": {
       "layout": "IPY_MODEL_0a01636119c44ea28ebc581481e89a45"
      }
     },
     "566fd5d0063e43e680c50fbb4a863d3e": {
      "model_module": "@jupyter-widgets/controls",
      "model_module_version": "1.5.0",
      "model_name": "VBoxModel",
      "state": {
       "layout": "IPY_MODEL_fa059ada50bd44f0abfd975d70325ef1"
      }
     },
     "7d4b92517e9b44c6969566f46f1867d9": {
      "model_module": "@jupyter-widgets/base",
      "model_module_version": "1.2.0",
      "model_name": "LayoutModel",
      "state": {}
     },
     "9f84776f493a44eea35a4dd51f233853": {
      "model_module": "@jupyter-widgets/base",
      "model_module_version": "1.2.0",
      "model_name": "LayoutModel",
      "state": {}
     },
     "cd1e41387a694a46bc0feb3bc43b740e": {
      "model_module": "@jupyter-widgets/controls",
      "model_module_version": "1.5.0",
      "model_name": "VBoxModel",
      "state": {
       "children": [
        "IPY_MODEL_4682619abf6741158e0833cb191ba05c"
       ],
       "layout": "IPY_MODEL_9f84776f493a44eea35a4dd51f233853"
      }
     },
     "fa059ada50bd44f0abfd975d70325ef1": {
      "model_module": "@jupyter-widgets/base",
      "model_module_version": "1.2.0",
      "model_name": "LayoutModel",
      "state": {}
     }
    },
    "version_major": 2,
    "version_minor": 0
   }
  }
 },
 "nbformat": 4,
 "nbformat_minor": 5
}

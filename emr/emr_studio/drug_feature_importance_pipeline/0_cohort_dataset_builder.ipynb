{
 "cells": [
  {
   "cell_type": "code",
   "execution_count": 1,
   "id": "d4d5dedf-e7c6-476d-a86e-34eb13b5f870",
   "metadata": {
    "execution": {
     "iopub.execute_input": "2024-12-24T15:35:31.972447Z",
     "iopub.status.busy": "2024-12-24T15:35:31.972117Z",
     "iopub.status.idle": "2024-12-24T15:35:32.282712Z",
     "shell.execute_reply": "2024-12-24T15:35:32.281788Z",
     "shell.execute_reply.started": "2024-12-24T15:35:31.972416Z"
    },
    "tags": []
   },
   "outputs": [
    {
     "data": {
      "text/html": [
       "Current session configs: <tt>{'conf': {'spark.jars.packages': 'ai.catboost:catboost-spark_3.5_2.12:1.2.7', 'spark.executor.memory': '24g', 'spark.executor.cores': '4', 'spark.driver.memory': '24g', 'spark.yarn.am.memory': '4g', 'spark.dynamicAllocation.enabled': 'true', 'spark.task.cpus': '4', 'spark.jars.packages.resolve.transitive': 'true', 'spark.executor.extraJavaOptions': '--add-exports java.base/sun.net.util=ALL-UNNAMED', 'spark.driver.extraJavaOptions': '--add-exports java.base/sun.net.util=ALL-UNNAMED', 'spark.network.timeout': '1200s', 'spark.rpc.askTimeout': '1200s', 'spark.executor.memoryOverhead': '4g'}, 'proxyUser': 'assumed-role_EMRStudio_User_Role_jdixon3590', 'kind': 'pyspark'}</tt><br>"
      ],
      "text/plain": [
       "<IPython.core.display.HTML object>"
      ]
     },
     "metadata": {},
     "output_type": "display_data"
    },
    {
     "data": {
      "text/html": [
       "No active sessions."
      ],
      "text/plain": [
       "<IPython.core.display.HTML object>"
      ]
     },
     "metadata": {},
     "output_type": "display_data"
    }
   ],
   "source": [
    "%%configure -f\n",
    "{\n",
    "    \"conf\": {\n",
    "        \"spark.jars.packages\": \"ai.catboost:catboost-spark_3.5_2.12:1.2.7\",\n",
    "        \"spark.executor.memory\": \"24g\",\n",
    "        \"spark.executor.cores\": \"4\",       \n",
    "        \"spark.driver.memory\": \"24g\",      \n",
    "        \"spark.yarn.am.memory\": \"4g\",     \n",
    "        \"spark.dynamicAllocation.enabled\": \"true\", \n",
    "        \"spark.task.cpus\": \"4\",          \n",
    "        \"spark.jars.packages.resolve.transitive\": \"true\",\n",
    "        \"spark.executor.extraJavaOptions\": \"--add-exports java.base/sun.net.util=ALL-UNNAMED\",\n",
    "        \"spark.driver.extraJavaOptions\": \"--add-exports java.base/sun.net.util=ALL-UNNAMED\",\n",
    "        \"spark.network.timeout\": \"1200s\",  \n",
    "        \"spark.rpc.askTimeout\": \"1200s\", \n",
    "        \"spark.executor.memoryOverhead\": \"4g\"\n",
    "    }\n",
    "}"
   ]
  },
  {
   "cell_type": "code",
   "execution_count": 2,
   "id": "ba04fa74-e410-455e-ba84-919cbeefe66b",
   "metadata": {
    "execution": {
     "iopub.execute_input": "2024-12-24T15:35:36.882334Z",
     "iopub.status.busy": "2024-12-24T15:35:36.882101Z",
     "iopub.status.idle": "2024-12-24T15:36:38.254482Z",
     "shell.execute_reply": "2024-12-24T15:36:38.253536Z",
     "shell.execute_reply.started": "2024-12-24T15:35:36.882307Z"
    },
    "tags": []
   },
   "outputs": [
    {
     "data": {
      "application/vnd.jupyter.widget-view+json": {
       "model_id": "89a93a9813fa48ac9a73b1f2c91709a9",
       "version_major": 2,
       "version_minor": 0
      },
      "text/plain": [
       "VBox()"
      ]
     },
     "metadata": {},
     "output_type": "display_data"
    },
    {
     "name": "stdout",
     "output_type": "stream",
     "text": [
      "Starting Spark application\n"
     ]
    },
    {
     "data": {
      "text/html": [
       "<table>\n<tbody><tr><th>ID</th><th>YARN Application ID</th><th>Kind</th><th>State</th><th>Spark UI</th><th>Driver log</th><th>User</th><th>Current session?</th></tr><tr><td>0</td><td>application_1735050777177_0001</td><td>pyspark</td><td>idle</td><td><a target=\"_blank\" href=\"http://ip-172-31-14-6.ec2.internal:20888/proxy/application_1735050777177_0001/\" class=\"emr-proxy-link j-18BS8II4LUQ17 application_1735050777177_0001\" emr-resource=\"j-18BS8II4LUQ17\n\" application-id=\"application_1735050777177_0001\">Link</a></td><td><a target=\"_blank\" href=\"http://ip-172-31-13-202.ec2.internal:8042/node/containerlogs/container_1735050777177_0001_01_000001/livy\">Link</a></td><td>None</td><td>✔</td></tr></tbody></table>"
      ],
      "text/plain": [
       "<IPython.core.display.HTML object>"
      ]
     },
     "metadata": {},
     "output_type": "display_data"
    },
    {
     "data": {
      "application/vnd.jupyter.widget-view+json": {
       "model_id": "",
       "version_major": 2,
       "version_minor": 0
      },
      "text/plain": [
       "FloatProgress(value=0.0, bar_style='info', description='Progress:', layout=Layout(height='25px', width='50%'),…"
      ]
     },
     "metadata": {},
     "output_type": "display_data"
    },
    {
     "name": "stdout",
     "output_type": "stream",
     "text": [
      "SparkSession available as 'spark'.\n"
     ]
    },
    {
     "data": {
      "application/vnd.jupyter.widget-view+json": {
       "model_id": "",
       "version_major": 2,
       "version_minor": 0
      },
      "text/plain": [
       "FloatProgress(value=0.0, bar_style='info', description='Progress:', layout=Layout(height='25px', width='50%'),…"
      ]
     },
     "metadata": {},
     "output_type": "display_data"
    }
   ],
   "source": [
    "import pyspark\n",
    "from pyspark.sql import SparkSession\n",
    "from pyspark.sql.functions import col, when\n",
    "from pyspark.ml.linalg import Vectors\n",
    "from pyspark.sql.types import StructType, StructField, DoubleType, StringType\n",
    "import catboost_spark"
   ]
  },
  {
   "cell_type": "code",
   "execution_count": 9,
   "id": "a2ef83f3-7573-4ed1-98d0-601c881c4d2d",
   "metadata": {
    "execution": {
     "iopub.execute_input": "2024-12-24T16:14:32.457798Z",
     "iopub.status.busy": "2024-12-24T16:14:32.457562Z",
     "iopub.status.idle": "2024-12-24T16:14:32.516142Z",
     "shell.execute_reply": "2024-12-24T16:14:32.515367Z",
     "shell.execute_reply.started": "2024-12-24T16:14:32.457771Z"
    },
    "tags": [
     "parameters"
    ]
   },
   "outputs": [
    {
     "data": {
      "application/vnd.jupyter.widget-view+json": {
       "model_id": "ee45565f83cf4011a75876b812809baf",
       "version_major": 2,
       "version_minor": 0
      },
      "text/plain": [
       "VBox()"
      ]
     },
     "metadata": {},
     "output_type": "display_data"
    },
    {
     "data": {
      "application/vnd.jupyter.widget-view+json": {
       "model_id": "",
       "version_major": 2,
       "version_minor": 0
      },
      "text/plain": [
       "FloatProgress(value=0.0, bar_style='info', description='Progress:', layout=Layout(height='25px', width='50%'),…"
      ]
     },
     "metadata": {},
     "output_type": "display_data"
    }
   ],
   "source": [
    "# Adding a parameter tag\n",
    "cohort = 'cohort1'\n",
    "age_band = '0-12'"
   ]
  },
  {
   "cell_type": "code",
   "execution_count": 11,
   "id": "412df372",
   "metadata": {
    "execution": {
     "iopub.execute_input": "2024-12-24T16:16:03.122275Z",
     "iopub.status.busy": "2024-12-24T16:16:03.122022Z",
     "iopub.status.idle": "2024-12-24T16:16:12.433009Z",
     "shell.execute_reply": "2024-12-24T16:16:12.432043Z",
     "shell.execute_reply.started": "2024-12-24T16:16:03.122248Z"
    },
    "tags": []
   },
   "outputs": [
    {
     "data": {
      "application/vnd.jupyter.widget-view+json": {
       "model_id": "b9701c4359e44c6ba87a19abfda2e75e",
       "version_major": 2,
       "version_minor": 0
      },
      "text/plain": [
       "VBox()"
      ]
     },
     "metadata": {},
     "output_type": "display_data"
    },
    {
     "data": {
      "application/vnd.jupyter.widget-view+json": {
       "model_id": "",
       "version_major": 2,
       "version_minor": 0
      },
      "text/plain": [
       "FloatProgress(value=0.0, bar_style='info', description='Progress:', layout=Layout(height='25px', width='50%'),…"
      ]
     },
     "metadata": {},
     "output_type": "display_data"
    },
    {
     "name": "stdout",
     "output_type": "stream",
     "text": [
      "Reading train and test datasets...\n",
      "ADE and non-ADE datasets successfully loaded."
     ]
    }
   ],
   "source": [
    "from pyspark.sql import SparkSession\n",
    "from pyspark.sql import functions as F\n",
    "import ai.catboost.spark as catboost_spark\n",
    "import boto3\n",
    "import json\n",
    "\n",
    "# S3 Paths\n",
    "s3_bucket = \"s3://pgxdatalake\"\n",
    "ade_input_path = f\"{s3_bucket}/apcd_ade_45/{age_band}\"\n",
    "non_ade_input_path = f\"{s3_bucket}/apcd_non_ed/{age_band}\"\n",
    "\n",
    "# Read processed train and test datasets from S3\n",
    "print(\"Reading train and test datasets...\")\n",
    "ade_df = spark.read.parquet(ade_input_path)\n",
    "non_ade_df = spark.read.parquet(non_ade_input_path)\n",
    "\n",
    "print(\"ADE and non-ADE datasets successfully loaded.\")"
   ]
  },
  {
   "cell_type": "code",
   "execution_count": 13,
   "id": "9164ce6f-15fb-492a-baf7-5a36a5e18889",
   "metadata": {
    "execution": {
     "iopub.execute_input": "2024-12-24T16:19:59.457506Z",
     "iopub.status.busy": "2024-12-24T16:19:59.457240Z",
     "iopub.status.idle": "2024-12-24T16:19:59.516318Z",
     "shell.execute_reply": "2024-12-24T16:19:59.515757Z",
     "shell.execute_reply.started": "2024-12-24T16:19:59.457466Z"
    }
   },
   "outputs": [
    {
     "data": {
      "application/vnd.jupyter.widget-view+json": {
       "model_id": "3c93b0fcd73c48288a962f38261e024a",
       "version_major": 2,
       "version_minor": 0
      },
      "text/plain": [
       "VBox()"
      ]
     },
     "metadata": {},
     "output_type": "display_data"
    },
    {
     "data": {
      "application/vnd.jupyter.widget-view+json": {
       "model_id": "",
       "version_major": 2,
       "version_minor": 0
      },
      "text/plain": [
       "FloatProgress(value=0.0, bar_style='info', description='Progress:', layout=Layout(height='25px', width='50%'),…"
      ]
     },
     "metadata": {},
     "output_type": "display_data"
    },
    {
     "name": "stdout",
     "output_type": "stream",
     "text": [
      "ADE DataFrame Schema:\n",
      "root\n",
      " |-- mi_person_key: integer (nullable = true)\n",
      " |-- age_band: string (nullable = true)\n",
      " |-- member_gender: string (nullable = true)\n",
      " |-- member_race: string (nullable = true)\n",
      " |-- payer_type: string (nullable = true)\n",
      " |-- payer_lob: string (nullable = true)\n",
      " |-- primary_insurance_flag: string (nullable = true)\n",
      " |-- member_zip_code_dos: string (nullable = true)\n",
      " |-- member_county_dos: string (nullable = true)\n",
      " |-- member_age_dos: integer (nullable = true)\n",
      " |-- ADE_Date: date (nullable = true)\n",
      " |-- drug_name: string (nullable = true)\n",
      " |-- drug_date: date (nullable = true)\n",
      " |-- drug_class_1: string (nullable = true)\n",
      " |-- drug_class_2: string (nullable = true)\n",
      " |-- drug_class_3: string (nullable = true)\n",
      " |-- Year: integer (nullable = true)\n",
      " |-- Hospitalization: string (nullable = false)\n",
      "\n",
      "\n",
      "non-ADE DataFrame Schema:\n",
      "root\n",
      " |-- mi_person_key: integer (nullable = true)\n",
      " |-- age_band: string (nullable = true)\n",
      " |-- ADE_Date: date (nullable = true)\n",
      " |-- drug_name: string (nullable = true)\n",
      " |-- drug_date: date (nullable = true)\n",
      " |-- drug_class_1: string (nullable = true)\n",
      " |-- drug_class_2: string (nullable = true)\n",
      " |-- drug_class_3: string (nullable = true)\n",
      " |-- Year: integer (nullable = true)\n",
      " |-- Hospitalization: string (nullable = false)"
     ]
    }
   ],
   "source": [
    "print(\"ADE DataFrame Schema:\")\n",
    "ade_df.printSchema()\n",
    "print(\"\\nnon-ADE DataFrame Schema:\")\n",
    "non_ade_df.printSchema()"
   ]
  },
  {
   "cell_type": "code",
   "execution_count": 14,
   "id": "2128419e-f00e-46cc-9b01-b82cf413a4ce",
   "metadata": {
    "execution": {
     "iopub.execute_input": "2024-12-24T16:21:58.954800Z",
     "iopub.status.busy": "2024-12-24T16:21:58.954553Z",
     "iopub.status.idle": "2024-12-24T16:22:08.260898Z",
     "shell.execute_reply": "2024-12-24T16:22:08.260156Z",
     "shell.execute_reply.started": "2024-12-24T16:21:58.954772Z"
    }
   },
   "outputs": [
    {
     "data": {
      "application/vnd.jupyter.widget-view+json": {
       "model_id": "97ad5db278114fd9952583086e14838d",
       "version_major": 2,
       "version_minor": 0
      },
      "text/plain": [
       "VBox()"
      ]
     },
     "metadata": {},
     "output_type": "display_data"
    },
    {
     "data": {
      "application/vnd.jupyter.widget-view+json": {
       "model_id": "",
       "version_major": 2,
       "version_minor": 0
      },
      "text/plain": [
       "FloatProgress(value=0.0, bar_style='info', description='Progress:', layout=Layout(height='25px', width='50%'),…"
      ]
     },
     "metadata": {},
     "output_type": "display_data"
    },
    {
     "name": "stdout",
     "output_type": "stream",
     "text": [
      "+-------------+--------+-------------+-----------+--------------------+----------+----------------------+-------------------+--------------------+--------------+----------+--------------------+----------+---------------+--------------------+--------------------+----+---------------+\n",
      "|mi_person_key|age_band|member_gender|member_race|          payer_type| payer_lob|primary_insurance_flag|member_zip_code_dos|   member_county_dos|member_age_dos|  ADE_Date|           drug_name| drug_date|   drug_class_1|        drug_class_2|        drug_class_3|Year|Hospitalization|\n",
      "+-------------+--------+-------------+-----------+--------------------+----------+----------------------+-------------------+--------------------+--------------+----------+--------------------+----------+---------------+--------------------+--------------------+----+---------------+\n",
      "|   1000091911|    0-12|            M|         03|MLI - Medicaid Lo...|  MEDICAID|                     Y|              22031|       059 - FAIRFAX|            11|2019-11-08| optichamber diamond|2019-09-30|MEDICAL DEVICES|Respiratory Thera...|Spacer/Aerosol-Ho...|2019|              1|\n",
      "|   1000099046|    0-12|            F|         03|MLI - Medicaid Lo...|  MEDICAID|                     Y|              23464|810 - VIRGINIA BE...|            11|2019-11-15|bd pen needle/nan...|2019-11-15|MEDICAL DEVICES|Parenteral Therap...|  Needles & Syringes|2019|              1|\n",
      "|   1000099046|    0-12|            F|         03|MLI - Medicaid Lo...|  MEDICAID|                     Y|              23464|810 - VIRGINIA BE...|            11|2019-11-15|aerochamber plus ...|2019-11-15|MEDICAL DEVICES|Respiratory Thera...|Spacer/Aerosol-Ho...|2019|              1|\n",
      "|   1000109667|    0-12|            F|         03|MLI - Medicaid Lo...|  MEDICAID|                     Y|              23805|730 - PETERSBURG ...|            10|2019-12-16|optichamber diamo...|2019-11-11|MEDICAL DEVICES|Respiratory Thera...|Spacer/Aerosol-Ho...|2019|              1|\n",
      "|   1000109667|    0-12|            F|         03|MLI - Medicaid Lo...|  MEDICAID|                     Y|              23805|730 - PETERSBURG ...|            10|2019-12-14|optichamber diamo...|2019-11-11|MEDICAL DEVICES|Respiratory Thera...|Spacer/Aerosol-Ho...|2019|              1|\n",
      "|   1000109667|    0-12|            F|         03|MLI - Medicaid Lo...|  MEDICAID|                     Y|              23805|730 - PETERSBURG ...|            10|2019-12-15|optichamber diamo...|2019-11-11|MEDICAL DEVICES|Respiratory Thera...|Spacer/Aerosol-Ho...|2019|              1|\n",
      "|   1000110772|    0-12|            M|         03|HMO - Commercial HMO|COMMERCIAL|                     Y|              22306|       059 - FAIRFAX|             8|2019-09-23|devilbiss pulmo-a...|2019-09-23|MEDICAL DEVICES|Respiratory Thera...|          Nebulizers|2019|              1|\n",
      "|   1000161957|    0-12|            F|         09|HMO - Commercial HMO|COMMERCIAL|                     Y|              23452|810 - VIRGINIA BE...|             2|2019-01-14| optichamber diamond|2019-01-14|MEDICAL DEVICES|Respiratory Thera...|Spacer/Aerosol-Ho...|2019|              1|\n",
      "|   1000240051|    0-12|            M|         09|MLI - Medicaid Lo...|  MEDICAID|                     Y|              20169|153 - PRINCE WILLIAM|             1|2019-07-12|airial pediatric ...|2019-07-12|MEDICAL DEVICES|Respiratory Thera...|          Nebulizers|2019|              1|\n",
      "|   1000367821|    0-12|            M|         09|PPO - Commercial PPO|COMMERCIAL|                     Y|              20136|153 - PRINCE WILLIAM|            10|2019-01-22| optichamber diamond|2019-01-22|MEDICAL DEVICES|Respiratory Thera...|Spacer/Aerosol-Ho...|2019|              1|\n",
      "+-------------+--------+-------------+-----------+--------------------+----------+----------------------+-------------------+--------------------+--------------+----------+--------------------+----------+---------------+--------------------+--------------------+----+---------------+\n",
      "only showing top 10 rows"
     ]
    }
   ],
   "source": [
    "ade_df.show(10)"
   ]
  },
  {
   "cell_type": "code",
   "execution_count": 15,
   "id": "d5d73603-4d0a-4dff-8f2d-02cf42e9190b",
   "metadata": {
    "execution": {
     "iopub.execute_input": "2024-12-24T16:23:33.773068Z",
     "iopub.status.busy": "2024-12-24T16:23:33.772709Z",
     "iopub.status.idle": "2024-12-24T16:23:43.076629Z",
     "shell.execute_reply": "2024-12-24T16:23:43.075842Z",
     "shell.execute_reply.started": "2024-12-24T16:23:33.773023Z"
    }
   },
   "outputs": [
    {
     "data": {
      "application/vnd.jupyter.widget-view+json": {
       "model_id": "218dc40cf2b94dd28f8a04c9b92235d8",
       "version_major": 2,
       "version_minor": 0
      },
      "text/plain": [
       "VBox()"
      ]
     },
     "metadata": {},
     "output_type": "display_data"
    },
    {
     "data": {
      "application/vnd.jupyter.widget-view+json": {
       "model_id": "",
       "version_major": 2,
       "version_minor": 0
      },
      "text/plain": [
       "FloatProgress(value=0.0, bar_style='info', description='Progress:', layout=Layout(height='25px', width='50%'),…"
      ]
     },
     "metadata": {},
     "output_type": "display_data"
    },
    {
     "name": "stdout",
     "output_type": "stream",
     "text": [
      "+-------------+--------+----------+--------------------+----------+-----------------+--------------------+--------------------+----+---------------+\n",
      "|mi_person_key|age_band|  ADE_Date|           drug_name| drug_date|     drug_class_1|        drug_class_2|        drug_class_3|Year|Hospitalization|\n",
      "+-------------+--------+----------+--------------------+----------+-----------------+--------------------+--------------------+----+---------------+\n",
      "|   1000002320|    0-12|2020-02-03|        erythromycin|2020-02-03|OPHTHALMIC AGENTS|Ophthalmic Anti-i...|Ophthalmic Antibi...|2020|              0|\n",
      "|   1000005224|    0-12|2020-02-04|citalopram hydrob...|2019-12-27|  ANTIDEPRESSANTS|Selective Seroton...|Selective Seroton...|2020|              0|\n",
      "|   1000005224|    0-12|2020-03-02|citalopram hydrob...|2020-02-17|  ANTIDEPRESSANTS|Selective Seroton...|Selective Seroton...|2020|              0|\n",
      "|   1000005224|    0-12|2020-04-21|citalopram hydrob...|2020-03-12|  ANTIDEPRESSANTS|Selective Seroton...|Selective Seroton...|2020|              0|\n",
      "|   1000005224|    0-12|2020-04-21|citalopram hydrob...|2020-04-21|  ANTIDEPRESSANTS|Selective Seroton...|Selective Seroton...|2020|              0|\n",
      "|   1000005224|    0-12|2020-03-09|citalopram hydrob...|2020-02-17|  ANTIDEPRESSANTS|Selective Seroton...|Selective Seroton...|2020|              0|\n",
      "|   1000005224|    0-12|2020-09-17|citalopram hydrob...|2020-09-17|  ANTIDEPRESSANTS|Selective Seroton...|Selective Seroton...|2020|              0|\n",
      "|   1000005224|    0-12|2020-09-17|citalopram hydrob...|2020-09-03|  ANTIDEPRESSANTS|Selective Seroton...|Selective Seroton...|2020|              0|\n",
      "|   1000005224|    0-12|2020-12-01|citalopram hydrob...|2020-10-20|  ANTIDEPRESSANTS|Selective Seroton...|Selective Seroton...|2020|              0|\n",
      "|   1000005224|    0-12|2020-12-01|citalopram hydrob...|2020-11-29|  ANTIDEPRESSANTS|Selective Seroton...|Selective Seroton...|2020|              0|\n",
      "+-------------+--------+----------+--------------------+----------+-----------------+--------------------+--------------------+----+---------------+\n",
      "only showing top 10 rows"
     ]
    }
   ],
   "source": [
    "non_ade_df.show(10)"
   ]
  },
  {
   "cell_type": "code",
   "execution_count": 137,
   "id": "2d21aab0-d61a-4ae9-8116-948a13747444",
   "metadata": {
    "execution": {
     "iopub.execute_input": "2024-12-24T17:23:30.143182Z",
     "iopub.status.busy": "2024-12-24T17:23:30.142656Z",
     "iopub.status.idle": "2024-12-24T17:23:30.437185Z",
     "shell.execute_reply": "2024-12-24T17:23:30.435819Z",
     "shell.execute_reply.started": "2024-12-24T17:23:30.143147Z"
    },
    "tags": []
   },
   "outputs": [
    {
     "data": {
      "application/vnd.jupyter.widget-view+json": {
       "model_id": "e05ef28ca3b049a49d8671f9190fb1be",
       "version_major": 2,
       "version_minor": 0
      },
      "text/plain": [
       "VBox()"
      ]
     },
     "metadata": {},
     "output_type": "display_data"
    },
    {
     "data": {
      "application/vnd.jupyter.widget-view+json": {
       "model_id": "",
       "version_major": 2,
       "version_minor": 0
      },
      "text/plain": [
       "FloatProgress(value=0.0, bar_style='info', description='Progress:', layout=Layout(height='25px', width='50%'),…"
      ]
     },
     "metadata": {},
     "output_type": "display_data"
    }
   ],
   "source": [
    "\n",
    "ade_df = ade_df.select(\"mi_person_key\", \"age_band\", \"ADE_Date\", \"drug_name\", \"drug_date\", \"Year\", \"Hospitalization\")\n",
    "\n",
    "non_ade_df = non_ade_df.select(\"mi_person_key\", \"age_band\", \"ADE_Date\", \"drug_name\", \"drug_date\", \"Year\", \"Hospitalization\")\n",
    "\n",
    "# Combine the two DataFrames\n",
    "combined_df = ade_df.union(non_ade_df)\n",
    "\n",
    "# Select the relevant columns for the model\n",
    "train_df = combined_df.select('mi_person_key', 'drug_date', 'ADE_Date', 'drug_name', 'Year', 'Hospitalization')"
   ]
  },
  {
   "cell_type": "code",
   "execution_count": 138,
   "id": "25b922c4-8659-499a-a56c-e05143a4a7be",
   "metadata": {
    "execution": {
     "iopub.execute_input": "2024-12-24T17:23:32.474871Z",
     "iopub.status.busy": "2024-12-24T17:23:32.473765Z",
     "iopub.status.idle": "2024-12-24T17:23:32.591670Z",
     "shell.execute_reply": "2024-12-24T17:23:32.590995Z",
     "shell.execute_reply.started": "2024-12-24T17:23:32.474824Z"
    },
    "tags": []
   },
   "outputs": [
    {
     "data": {
      "application/vnd.jupyter.widget-view+json": {
       "model_id": "fa79ae259a874976873405d5b25658ec",
       "version_major": 2,
       "version_minor": 0
      },
      "text/plain": [
       "VBox()"
      ]
     },
     "metadata": {},
     "output_type": "display_data"
    },
    {
     "data": {
      "application/vnd.jupyter.widget-view+json": {
       "model_id": "",
       "version_major": 2,
       "version_minor": 0
      },
      "text/plain": [
       "FloatProgress(value=0.0, bar_style='info', description='Progress:', layout=Layout(height='25px', width='50%'),…"
      ]
     },
     "metadata": {},
     "output_type": "display_data"
    },
    {
     "name": "stdout",
     "output_type": "stream",
     "text": [
      "root\n",
      " |-- mi_person_key: integer (nullable = true)\n",
      " |-- drug_date: date (nullable = true)\n",
      " |-- ADE_Date: date (nullable = true)\n",
      " |-- drug_name: string (nullable = true)\n",
      " |-- Year: integer (nullable = true)\n",
      " |-- Hospitalization: string (nullable = false)"
     ]
    }
   ],
   "source": [
    "train_df.printSchema()"
   ]
  },
  {
   "cell_type": "code",
   "execution_count": 139,
   "id": "5dff0690",
   "metadata": {
    "execution": {
     "iopub.execute_input": "2024-12-24T17:23:45.892608Z",
     "iopub.status.busy": "2024-12-24T17:23:45.892322Z",
     "iopub.status.idle": "2024-12-24T17:23:51.211577Z",
     "shell.execute_reply": "2024-12-24T17:23:51.210332Z",
     "shell.execute_reply.started": "2024-12-24T17:23:45.892577Z"
    },
    "tags": []
   },
   "outputs": [
    {
     "data": {
      "application/vnd.jupyter.widget-view+json": {
       "model_id": "35bcd43a9ba44b30a71593b9f6a42aa8",
       "version_major": 2,
       "version_minor": 0
      },
      "text/plain": [
       "VBox()"
      ]
     },
     "metadata": {},
     "output_type": "display_data"
    },
    {
     "data": {
      "application/vnd.jupyter.widget-view+json": {
       "model_id": "",
       "version_major": 2,
       "version_minor": 0
      },
      "text/plain": [
       "FloatProgress(value=0.0, bar_style='info', description='Progress:', layout=Layout(height='25px', width='50%'),…"
      ]
     },
     "metadata": {},
     "output_type": "display_data"
    },
    {
     "name": "stdout",
     "output_type": "stream",
     "text": [
      "+--------------------+------+\n",
      "|           drug_name| count|\n",
      "+--------------------+------+\n",
      "|compact space cha...|  2679|\n",
      "|    dexcom g6 sensor|  1281|\n",
      "|      precision xtra|  1347|\n",
      "|onetouch delica p...|  2272|\n",
      "|hydrocortisone ma...|   920|\n",
      "|   gnp athletes foot|   261|\n",
      "|       aquaphil base|     6|\n",
      "|culturelle digest...|  4285|\n",
      "|flintstones gummi...|   709|\n",
      "|ranitidine hydroc...| 22956|\n",
      "|  potassium chloride|  6483|\n",
      "|cvs advanced 3-in...|    54|\n",
      "|gnp fluticasone p...|   209|\n",
      "|penicillin v pota...| 41798|\n",
      "|           tretinoin| 12530|\n",
      "|ethambutol hydroc...|   259|\n",
      "|      ergocalciferol|  5194|\n",
      "|      sertraline hcl|329458|\n",
      "|cvs ibuprofen jun...|  1252|\n",
      "|cetirizine hydroc...|607289|\n",
      "+--------------------+------+\n",
      "only showing top 20 rows"
     ]
    }
   ],
   "source": [
    "from pyspark.sql.functions import col\n",
    "\n",
    "unique_levels = train_df.groupBy(\"drug_name\").count()\n",
    "unique_levels.show()\n"
   ]
  },
  {
   "cell_type": "code",
   "execution_count": 140,
   "id": "a9e1ebd9",
   "metadata": {
    "execution": {
     "iopub.execute_input": "2024-12-24T17:23:51.213506Z",
     "iopub.status.busy": "2024-12-24T17:23:51.213244Z",
     "iopub.status.idle": "2024-12-24T17:23:51.995804Z",
     "shell.execute_reply": "2024-12-24T17:23:51.994715Z",
     "shell.execute_reply.started": "2024-12-24T17:23:51.213467Z"
    },
    "tags": []
   },
   "outputs": [
    {
     "data": {
      "application/vnd.jupyter.widget-view+json": {
       "model_id": "61c3597f0b234da4b4294e1d4308f1cf",
       "version_major": 2,
       "version_minor": 0
      },
      "text/plain": [
       "VBox()"
      ]
     },
     "metadata": {},
     "output_type": "display_data"
    },
    {
     "data": {
      "application/vnd.jupyter.widget-view+json": {
       "model_id": "",
       "version_major": 2,
       "version_minor": 0
      },
      "text/plain": [
       "FloatProgress(value=0.0, bar_style='info', description='Progress:', layout=Layout(height='25px', width='50%'),…"
      ]
     },
     "metadata": {},
     "output_type": "display_data"
    }
   ],
   "source": [
    "from pyspark.sql.functions import col, lower, regexp_replace, when, expr\n",
    "\n",
    "# Function to alphabetically sort drug combinations\n",
    "def sort_combination(drug_name):\n",
    "    parts = drug_name.split('+')\n",
    "    return '+'.join(sorted(parts))\n",
    "\n",
    "# Register the UDF\n",
    "spark.udf.register(\"sort_combination\", sort_combination, StringType())\n",
    "\n",
    "# Standardize drug names\n",
    "clean_df = train_df.withColumn(\n",
    "    'standardized_drug_name',\n",
    "    lower(col('drug_name'))\n",
    ")\n",
    "\n",
    "# Remove trailing slashes using regexp_replace\n",
    "clean_df = clean_df.withColumn('standardized_drug_name', \n",
    "    regexp_replace(col('standardized_drug_name'), '/$', ''))\n",
    "\n",
    "# Replace spaces with underscores\n",
    "clean_df = clean_df.withColumn(\n",
    "    'standardized_drug_name',\n",
    "    regexp_replace(col('standardized_drug_name'), ' ', '_')\n",
    ")\n",
    "\n",
    "# Replace '/' with '+'\n",
    "clean_df = clean_df.withColumn(\n",
    "    'standardized_drug_name',\n",
    "    regexp_replace(col('standardized_drug_name'), '/', '+')\n",
    ")\n",
    "\n",
    "# Sort combinations if they contain '+'\n",
    "clean_df = clean_df.withColumn(\n",
    "    'standardized_drug_name',\n",
    "    when(col('standardized_drug_name').contains('+'),\n",
    "         expr('sort_combination(standardized_drug_name)'))\n",
    "    .otherwise(col('standardized_drug_name'))\n",
    ")\n",
    "\n",
    "# Handle Non Drug Items\n",
    "medical_supplies = [\n",
    "    'accu-chek', 'knee_brace', 'lancet', 'syringe', 'needle', 'test_strip', 'monitor',\n",
    "    'lancing_device', 'insulin_pump', 'glucose_meter', 'blood_glucose', 'nebulizer',\n",
    "    'inhaler', 'spacer', 'chamber', 'compressor', 'catheter', 'dressing', 'bandage',\n",
    "    'gauze', 'tape', 'alcohol_prep', 'alcohol_swab', 'pen_needle', 'aerochamber', 'onetouch',\n",
    "    'optichamber'\n",
    "]\n",
    "\n",
    "# Filter out medical supplies and mark as 'not_drug'\n",
    "for item in medical_supplies:\n",
    "    clean_df = clean_df.withColumn('standardized_drug_name',\n",
    "        when(col('standardized_drug_name').contains(item), 'not_drug')\n",
    "        .otherwise(col('standardized_drug_name'))\n",
    "    )\n"
   ]
  },
  {
   "cell_type": "code",
   "execution_count": 141,
   "id": "2a2d3806",
   "metadata": {
    "execution": {
     "iopub.execute_input": "2024-12-24T17:23:51.998600Z",
     "iopub.status.busy": "2024-12-24T17:23:51.998325Z",
     "iopub.status.idle": "2024-12-24T17:23:52.090981Z",
     "shell.execute_reply": "2024-12-24T17:23:52.090020Z",
     "shell.execute_reply.started": "2024-12-24T17:23:51.998559Z"
    },
    "tags": []
   },
   "outputs": [
    {
     "data": {
      "application/vnd.jupyter.widget-view+json": {
       "model_id": "215965f636174d35a1df58b1196fa653",
       "version_major": 2,
       "version_minor": 0
      },
      "text/plain": [
       "VBox()"
      ]
     },
     "metadata": {},
     "output_type": "display_data"
    },
    {
     "data": {
      "application/vnd.jupyter.widget-view+json": {
       "model_id": "",
       "version_major": 2,
       "version_minor": 0
      },
      "text/plain": [
       "FloatProgress(value=0.0, bar_style='info', description='Progress:', layout=Layout(height='25px', width='50%'),…"
      ]
     },
     "metadata": {},
     "output_type": "display_data"
    }
   ],
   "source": [
    "from pyspark.sql.functions import create_map, lit, coalesce, col\n",
    "\n",
    "# Function to apply a mapping\n",
    "def replace_values_with_mapping(df, column_name, mapping):\n",
    "    mapping_expr = create_map([lit(x) for pair in mapping.items() for x in pair])\n",
    "    return df.withColumn(column_name, coalesce(mapping_expr[col(column_name)], col(column_name)))"
   ]
  },
  {
   "cell_type": "code",
   "execution_count": 142,
   "id": "e5901b24",
   "metadata": {
    "execution": {
     "iopub.execute_input": "2024-12-24T17:23:52.095703Z",
     "iopub.status.busy": "2024-12-24T17:23:52.095441Z",
     "iopub.status.idle": "2024-12-24T17:23:52.231489Z",
     "shell.execute_reply": "2024-12-24T17:23:52.230200Z",
     "shell.execute_reply.started": "2024-12-24T17:23:52.095665Z"
    },
    "tags": []
   },
   "outputs": [
    {
     "data": {
      "application/vnd.jupyter.widget-view+json": {
       "model_id": "9dc623dac1c7408087eb117c5805c6e0",
       "version_major": 2,
       "version_minor": 0
      },
      "text/plain": [
       "VBox()"
      ]
     },
     "metadata": {},
     "output_type": "display_data"
    },
    {
     "data": {
      "application/vnd.jupyter.widget-view+json": {
       "model_id": "",
       "version_major": 2,
       "version_minor": 0
      },
      "text/plain": [
       "FloatProgress(value=0.0, bar_style='info', description='Progress:', layout=Layout(height='25px', width='50%'),…"
      ]
     },
     "metadata": {},
     "output_type": "display_data"
    }
   ],
   "source": [
    "# Consolidations\n",
    "\n",
    "consolidations_a = {\n",
    "    'thioridazine_hcl': 'thioridazine',\n",
    "    'miconazole_nitrate': 'miconazole',\n",
    "    'almotriptan_malate': 'almotriptan',\n",
    "    'alogliptin/metformin_hcl': 'alogliptin+metformin',\n",
    "    'alogliptin/pioglitazone': 'alogliptin+pioglitazone',\n",
    "    'cvs_nicotine_polacrilex': 'nicotine',\n",
    "    'metformin_hydrochloride': 'metformin',\n",
    "    'rizatriptan_benzoate_odt': 'rizatriptan',\n",
    "    'warfarin_sodium': 'warfarin',\n",
    "    'buprenorphine_hcl': 'buprenorphine',\n",
    "    'butalbital+acetaminophen': 'acetaminophen+butalbital',\n",
    "    'cvs_acetaminophen': 'acetaminophen',\n",
    "    'zolpidem_tartrate': 'zolpidem',\n",
    "    'acetaminophen_childrens': 'acetaminophen+childrens',\n",
    "    'acetaminophen_er': 'acetaminophen+er',\n",
    "    'acetaminophen_extra_stren': 'acetaminophen+extra_strength',\n",
    "    'acetaminophen_pm_extra_st': 'acetaminophen+pm+extra_strength',\n",
    "    'acetaminophen+caffeine+di': 'acetaminophen+caffeine+diphenhydramine',\n",
    "    'acetaminophen+codeine': 'acetaminophen+codeine',\n",
    "    'acetaminophen+codeine_pho': 'acetaminophen+codeine+phosphate',\n",
    "    'acetaminophen+diphenhydra': 'acetaminophen+diphenhydramine',\n",
    "    'acebutolol_hcl': 'acebutolol',\n",
    "    'acebutolol_hydrochloride': 'acebutolol',\n",
    "    'acebutolol+hydrochloride': 'acebutolol',\n",
    "    'acetazolamide_er': 'acetazolamide+er',\n",
    "    'acetic_acid_0.25%': 'acetic_acid',\n",
    "    'acetic_acid+aluminum_acet': 'acetic_acid+aluminum_acetate',\n",
    "    'acetic_acid+hydrocortison': 'acetic_acid+hydrocortisone',\n",
    "    \n",
    "    # Aspirin\n",
    "    'acetylsalicylic_acid': 'acetylsalicylic_acid',\n",
    "    'acetylsalicylic_acid_81': 'acetylsalicylic_acid',\n",
    "    'acetylsalicylic_acid_81_low_dose': 'acetylsalicylic_acid',\n",
    "    'acetylsalicylic_acid_adult': 'acetylsalicylic_acid',\n",
    "    'acetylsalicylic_acid_adult_low_dose': 'acetylsalicylic_acid',\n",
    "    'acetylsalicylic_acid_adult_low_strengt': 'acetylsalicylic_acid',\n",
    "    'acetylsalicylic_acid_childrens': 'acetylsalicylic_acid+childrens',\n",
    "    'acetylsalicylic_acid_ec': 'acetylsalicylic_acid+ec',\n",
    "    'acetylsalicylic_acid_ec_lo-dose': 'acetylsalicylic_acid+ec',\n",
    "    'acetylsalicylic_acid_ec_low_dose': 'acetylsalicylic_acid+ec',\n",
    "    'acetylsalicylic_acid_enteric_coated_ad': 'acetylsalicylic_acid+ec',\n",
    "    'acetylsalicylic_acid_low_dose': 'acetylsalicylic_acid',\n",
    "    'acetylsalicylic_acid_low_strength': 'acetylsalicylic_acid',\n",
    "    'acetylsalicylic_acid_regular_strength': 'acetylsalicylic_acid',\n",
    "    'acetylsalicylic_acidir-low': 'acetylsalicylic_acid',\n",
    "    'acetylsalicylic_acid+dipyridamole': 'acetylsalicylic_acid+dipyridamole',\n",
    "    'acetylsalicylic_acid+dipyridamole_er': 'acetylsalicylic_acid+dipyridamole+er',\n",
    "    'acetylsalicylic_acidercreme': 'acetylsalicylic_acid+topical',\n",
    "    'acetylsalicylic_acidercreme+aloe': 'acetylsalicylic_acid+aloe+topical',\n",
    "    'acetylsalicylic_acidercreme_lidocaine': 'acetylsalicylic_acid+lidocaine+topical',\n",
    "    'acetylsalicylic_acidercreme_lidocaine_max': 'acetylsalicylic_acid+lidocaine+max+topical',\n",
    "    'acetylsalicylic_acidercreme_lidocaine_patc': 'acetylsalicylic_acid+lidocaine+patch+topical',\n",
    "    'acetylsalicylic_acidercreme_max_roll-on_ar': 'acetylsalicylic_acid+max+roll_on+topical',\n",
    "    'acetylsalicylic_acidercreme_w+lidocaine': 'acetylsalicylic_acid+lidocaine+topical',\n",
    "    'aspir-low': 'acetylsalicylic_acid',\n",
    "    'aspirin': 'acetylsalicylic_acid',\n",
    "    'aspirin_81': 'acetylsalicylic_acid',\n",
    "    'aspirin_81_low_dose': 'acetylsalicylic_acid',\n",
    "    'aspirin_adult': 'acetylsalicylic_acid',\n",
    "    'aspirin_adult_low_dose': 'acetylsalicylic_acid',\n",
    "    'aspirin_adult_low_strengt': 'acetylsalicylic_acid',\n",
    "    'aspirin_child': 'acetylsalicylic_acid+childrens',\n",
    "    'aspirin_childrens': 'acetylsalicylic_acid+childrens',\n",
    "    'aspirin_ec': 'acetylsalicylic_acid+ec',\n",
    "    'aspirin_ec_lo-dose': 'acetylsalicylic_acid+ec',\n",
    "    'aspirin_ec_low_dose': 'acetylsalicylic_acid+ec',\n",
    "    'aspirin_enteric_coated_ad': 'acetylsalicylic_acid+ec',\n",
    "    'aspirin_low_dose': 'acetylsalicylic_acid',\n",
    "    'aspirin_low_strength': 'acetylsalicylic_acid',\n",
    "    'aspirin_regular_strength': 'acetylsalicylic_acid',\n",
    "    'aspirin+dipyridamole': 'acetylsalicylic_acid+dipyridamole',\n",
    "    'aspirin+dipyridamole_er': 'acetylsalicylic_acid+dipyridamole+er',\n",
    "    \n",
    "    # Afluria (Seasonal)\n",
    "    'afluria_2014-2015': 'afluria',\n",
    "    'afluria_2016-2017': 'afluria',\n",
    "    'afluria_2017-2018': 'afluria',\n",
    "\n",
    "    # Afluria PF (Preservative-Free)\n",
    "    'afluria_pf_2015-2016': 'afluria_pf',\n",
    "    'afluria_pf_2016-2017': 'afluria_pf',\n",
    "    'afluria_pf_2017-2018': 'afluria_pf',\n",
    "    'afluria_pf_2018-2019': 'afluria_pf',\n",
    "\n",
    "    # Afluria Quadrivalent\n",
    "    'afluria_quadrivalent_2017': 'afluria_quadrivalent',\n",
    "    'afluria_quadrivalent_2018': 'afluria_quadrivalent',\n",
    "    'afluria_quadrivalent_2019': 'afluria_quadrivalent',\n",
    "    'afluria_quadrivalent_2020': 'afluria_quadrivalent',\n",
    "    \n",
    "    # Albuterol\n",
    "    'albuterol_sulfate': 'albuterol',\n",
    "    'albuterol_sulfate_er': 'albuterol+er',\n",
    "    'albuterol_sulfate_hfa': 'albuterol+hfa',\n",
    "    \n",
    "    # Additional 'A' drugs\n",
    "    'allegra-d_12_hour': 'allegra-d+12_hour',\n",
    "    'allegra-d_12_hour_allergen': 'allegra-d+12_hour',\n",
    "    'allegra-d_24_hour': 'allegra-d+24_hour',\n",
    "    'allegra-d_24_hour_allergen': 'allegra-d+24_hour',\n",
    "    'allegra_allergen': 'allegra',\n",
    "    'allegra_allergen_childrens': 'allegra+childrens',\n",
    "    'afrin_sinus': 'afrin',\n",
    "    'afrin_12_hour': 'afrin',\n",
    "    'afrin_menthol': 'afrin+menthol',\n",
    "    'afrin_nasal_spray': 'afrin',\n",
    "    'afrin_nodrip_extra_moistu': 'afrin+nodrip+extra_moisture',\n",
    "    'afrin_nodrip_severe_conge': 'afrin+nodrip+severe_congestion',\n",
    "    'afrin_nodrip_sinus': 'afrin+nodrip+sinus',\n",
    "    'afrin_pump_mist': 'afrin',\n",
    "    'agamatrix_presto': 'not_drug',\n",
    "    'agamatrix_ultra-thin_lanc': 'not_drug',\n",
    "    'aimovig': 'aimovig',\n",
    "    'airduo_respiclick_232/14': 'airduo_respiclick',\n",
    "    'airial_compact_mini_nebul': 'not_drug',\n",
    "    'airial_pediatric_nebulize': 'not_drug',\n",
    "    'airs_disposable_nebulizer': 'not_drug',\n",
    "    'alavert_allergen/sinus': 'alavert',\n",
    "    'alaway': 'alaway',\n",
    "    'alaway_childrens_allergen': 'alaway+childrens',\n",
    "    'albuterol': 'albuterol',\n",
    "    'albuterol_sulfate': 'albuterol',\n",
    "    'albuterol_sulfate_er': 'albuterol+er',\n",
    "    'albuterol_sulfate_hfa': 'albuterol+hfa',\n",
    "    'alcohol_pads': 'not_drug',\n",
    "    'alcohol_prep_pads': 'not_drug',\n",
    "    'alcohol_preps': 'not_drug',\n",
    "    'alcohol_swabs': 'not_drug',\n",
    "    'alcortin_a': 'alcortin_a',\n",
    "    'alendronate_sodium': 'alendronate',\n",
    "    'alfuzosin_hcl_er': 'alfuzosin+er',\n",
    "    'alive_womens_50+': 'alive_womens+50',\n",
    "    'alive_womens_energy': 'alive_womens+energy',\n",
    "    'alive_womens_gummy_vitami': 'alive_womens+gummy_vitamin',\n",
    "    'all_day_allergen': 'allergy_relief',\n",
    "    'all_day_allergen-d': 'allergy_relief',\n",
    "    'all_day_allergen_d-12': 'allergy_relief',\n",
    "    'all_day_pain_relief': 'all_day_pain_relief',\n",
    "    'all_day_relief': 'all_day_relief',\n",
    "    'allegra-d_12_hour': 'allergy_relief',\n",
    "    'allegra-d_12_hour_allergen': 'allergy_relief',\n",
    "    'allegra-d_24_hour_allergen': 'allergy_relief',\n",
    "    'allegra_allergen': 'allergy_relief',\n",
    "    'allegra_allergen_childrens': 'allergy_relief',\n",
    "    'allergen_relief': 'allergy_relief',\n",
    "    'allergen_relief/indoor/out': 'allergy_relief',\n",
    "    'allergen_relief/nasal_deco': 'allergy_relief',\n",
    "    'allergen_relief_24hr': 'allergy_relief',\n",
    "    'allergen_relief_child': 'allergy_relief',\n",
    "    'allergen_relief_d-24': 'allergy_relief',\n",
    "    'allergy_relief': 'allergy_relief',\n",
    "    'allergy_relief_24hr': 'allergy_relief',\n",
    "    'allergy_relief_child': 'allergy_relief',\n",
    "    'allergy_relief_d-24': 'allergy_relief',\n",
    "    'allergy_relief/indoor/out': 'allergy_relief',\n",
    "    'allergy_relief/nasal_deco': 'allergy_relief',\n",
    "    'allergy_decongestant': 'allergy_relief',\n",
    "    'alpha-lipoic_acid': 'alpha_lipoic_acid',\n",
    "    'alpha_lipoic_acid': 'alpha_lipoic_acid',\n",
    "    'alpha_lipoic_acid_extra_s': 'alpha_lipoic_acid',\n",
    "    'alprazolam_er': 'alprazolam',\n",
    "    'alprazolam_intensol': 'alprazolam',\n",
    "    'alprazolam_odt': 'alprazolam',\n",
    "    'alprazolam_xr': 'alprazolam',\n",
    "    'alyacen_1/35': 'alyacen',\n",
    "    'alyacen_7/7/7': 'alyacen',\n",
    "    'amantadine_hcl': 'amantadine',\n",
    "    'amantadine_hydrochloride': 'amantadine',\n",
    "    'aspercreme_lidocaine_max': 'aspercreme+lidocaine',\n",
    "    'aspercreme_lidocaine_patc': 'aspercreme+lidocaine',\n",
    "    'aspercreme_max_roll-on_ar': 'aspercreme',\n",
    "    'aspercreme_w+lidocaine': 'aspercreme+lidocaine',\n",
    "    'aspercreme+aloe': 'aspercreme+aloe'\n",
    "\n",
    "}"
   ]
  },
  {
   "cell_type": "code",
   "execution_count": 143,
   "id": "8ea6ff7a",
   "metadata": {
    "execution": {
     "iopub.execute_input": "2024-12-24T17:23:52.238110Z",
     "iopub.status.busy": "2024-12-24T17:23:52.236729Z",
     "iopub.status.idle": "2024-12-24T17:23:53.001876Z",
     "shell.execute_reply": "2024-12-24T17:23:53.001103Z",
     "shell.execute_reply.started": "2024-12-24T17:23:52.238075Z"
    },
    "tags": []
   },
   "outputs": [
    {
     "data": {
      "application/vnd.jupyter.widget-view+json": {
       "model_id": "4d113f5f7f204b17836c20a70b585cbe",
       "version_major": 2,
       "version_minor": 0
      },
      "text/plain": [
       "VBox()"
      ]
     },
     "metadata": {},
     "output_type": "display_data"
    },
    {
     "data": {
      "application/vnd.jupyter.widget-view+json": {
       "model_id": "",
       "version_major": 2,
       "version_minor": 0
      },
      "text/plain": [
       "FloatProgress(value=0.0, bar_style='info', description='Progress:', layout=Layout(height='25px', width='50%'),…"
      ]
     },
     "metadata": {},
     "output_type": "display_data"
    }
   ],
   "source": [
    "clean_df = replace_values_with_mapping(clean_df, 'standardized_drug_name', consolidations_a)"
   ]
  },
  {
   "cell_type": "code",
   "execution_count": 144,
   "id": "f2a323f8",
   "metadata": {
    "execution": {
     "iopub.execute_input": "2024-12-24T17:23:53.003335Z",
     "iopub.status.busy": "2024-12-24T17:23:53.003080Z",
     "iopub.status.idle": "2024-12-24T17:24:04.302579Z",
     "shell.execute_reply": "2024-12-24T17:24:04.302062Z",
     "shell.execute_reply.started": "2024-12-24T17:23:53.003300Z"
    },
    "tags": []
   },
   "outputs": [
    {
     "data": {
      "application/vnd.jupyter.widget-view+json": {
       "model_id": "1ffe8f30c81e4b6f9bcf3098738449b9",
       "version_major": 2,
       "version_minor": 0
      },
      "text/plain": [
       "VBox()"
      ]
     },
     "metadata": {},
     "output_type": "display_data"
    },
    {
     "data": {
      "application/vnd.jupyter.widget-view+json": {
       "model_id": "",
       "version_major": 2,
       "version_minor": 0
      },
      "text/plain": [
       "FloatProgress(value=0.0, bar_style='info', description='Progress:', layout=Layout(height='25px', width='50%'),…"
      ]
     },
     "metadata": {},
     "output_type": "display_data"
    },
    {
     "name": "stdout",
     "output_type": "stream",
     "text": [
      "+-------------+----------+----------+---------------+----+---------------+----------------------+\n",
      "|mi_person_key| drug_date|  ADE_Date|      drug_name|Year|Hospitalization|standardized_drug_name|\n",
      "+-------------+----------+----------+---------------+----+---------------+----------------------+\n",
      "|   1001020069|2020-01-06|2020-02-03|a+d diaper rash|2020|              0|       a+d_diaper_rash|\n",
      "|   1009087144|2018-08-02|2018-08-02|a+d diaper rash|2018|              0|       a+d_diaper_rash|\n",
      "|   1009087144|2018-08-02|2018-08-07|a+d diaper rash|2018|              0|       a+d_diaper_rash|\n",
      "|   1009616212|2016-10-28|2016-10-28|  a+d first aid|2016|              0|         a+d_first_aid|\n",
      "|   1013261304|2020-07-17|2020-08-03|  a+d first aid|2020|              0|         a+d_first_aid|\n",
      "|   1009616212|2016-10-28|2016-10-29|  a+d first aid|2016|              0|         a+d_first_aid|\n",
      "|   1006099180|2020-04-09|2020-05-04|    a+d prevent|2020|              0|           a+d_prevent|\n",
      "|   1005248102|2018-03-05|2018-03-05|    a+d prevent|2018|              0|           a+d_prevent|\n",
      "|   1006099180|2020-04-09|2020-04-09|    a+d prevent|2020|              0|           a+d_prevent|\n",
      "|   1017416730|2016-07-24|2016-08-10|    a+d prevent|2016|              0|           a+d_prevent|\n",
      "|   1006099180|2020-04-09|2020-04-15|    a+d prevent|2020|              0|           a+d_prevent|\n",
      "|   1001950695|2018-08-20|2018-09-04|    a+d prevent|2018|              0|           a+d_prevent|\n",
      "|   1006099180|2020-04-09|2020-04-13|    a+d prevent|2020|              0|           a+d_prevent|\n",
      "|   1017416730|2016-07-24|2016-07-26|    a+d prevent|2016|              0|           a+d_prevent|\n",
      "|   1004250775|2018-01-16|2018-02-14|    a+d prevent|2018|              0|           a+d_prevent|\n",
      "|   1017416730|2016-07-24|2016-07-29|    a+d prevent|2016|              0|           a+d_prevent|\n",
      "|   1001950695|2018-06-01|2018-07-11|    a+d prevent|2018|              0|           a+d_prevent|\n",
      "|   1017416730|2016-07-24|2016-08-16|    a+d prevent|2016|              0|           a+d_prevent|\n",
      "|   1003411852|2018-06-28|2018-07-11|    a+d prevent|2018|              0|           a+d_prevent|\n",
      "|   1017416730|2016-07-24|2016-08-23|    a+d prevent|2016|              0|           a+d_prevent|\n",
      "+-------------+----------+----------+---------------+----+---------------+----------------------+\n",
      "only showing top 20 rows"
     ]
    }
   ],
   "source": [
    "from pyspark.sql.functions import asc\n",
    "\n",
    "# Add a custom sort column that prioritizes names starting with 'a'\n",
    "sorted_unique_levels = clean_df.withColumn(\n",
    "    \"sort_priority\",\n",
    "    when(col(\"standardized_drug_name\").startswith(\"a\"), 0).otherwise(1)\n",
    ")\n",
    "\n",
    "# Sort by the custom sort priority, and then alphabetically by 'standardized_drug_name'\n",
    "sorted_unique_levels = sorted_unique_levels.orderBy(\n",
    "    col(\"sort_priority\"), \n",
    "    col(\"standardized_drug_name\").asc()\n",
    ")\n",
    "\n",
    "# Drop priority sort column so we can use for new cases\n",
    "sorted_unique_levels = sorted_unique_levels.drop(\"sort_priority\")\n",
    "\n",
    "# Show the sorted DataFrame\n",
    "sorted_unique_levels.show(n=20)  # Adjust 'n' to display more or fewer results"
   ]
  },
  {
   "cell_type": "code",
   "execution_count": 145,
   "id": "224b894f",
   "metadata": {
    "execution": {
     "iopub.execute_input": "2024-12-24T17:24:04.303836Z",
     "iopub.status.busy": "2024-12-24T17:24:04.303613Z",
     "iopub.status.idle": "2024-12-24T17:24:04.355551Z",
     "shell.execute_reply": "2024-12-24T17:24:04.351427Z",
     "shell.execute_reply.started": "2024-12-24T17:24:04.303796Z"
    },
    "tags": []
   },
   "outputs": [
    {
     "data": {
      "application/vnd.jupyter.widget-view+json": {
       "model_id": "85bdb65ec229461a92c474f4c8dd7178",
       "version_major": 2,
       "version_minor": 0
      },
      "text/plain": [
       "VBox()"
      ]
     },
     "metadata": {},
     "output_type": "display_data"
    },
    {
     "data": {
      "application/vnd.jupyter.widget-view+json": {
       "model_id": "",
       "version_major": 2,
       "version_minor": 0
      },
      "text/plain": [
       "FloatProgress(value=0.0, bar_style='info', description='Progress:', layout=Layout(height='25px', width='50%'),…"
      ]
     },
     "metadata": {},
     "output_type": "display_data"
    }
   ],
   "source": [
    "# B drug names\n",
    "consolidations_b = {\n",
    "    'b-12': 'vitamin_b12',\n",
    "    'b-12_tr': 'vitamin_b12',\n",
    "    'bacitracin_zinc': 'bacitracin',\n",
    "    'bacitracin+polymyxin_b': 'bacitracin+polymyxin_b',\n",
    "    'baclofen': 'baclofen',\n",
    "    'bactrim': 'sulfamethoxazole+trimethoprim',\n",
    "    'bactrim_ds': 'sulfamethoxazole+trimethoprim',\n",
    "    'bactroban': 'mupirocin',\n",
    "    'bactroban_nasal': 'mupirocin',\n",
    "    'balcoltra': 'balcoltra',\n",
    "    'balsalazide_disodium': 'balsalazide',\n",
    "    'banophen': 'diphenhydramine',\n",
    "    'baqsimi_one_pack': 'glucagon',\n",
    "    'baqsimi_two_pack': 'glucagon',\n",
    "    'basaglar_kwikpen': 'insulin_glargine',\n",
    "    'bayer_microlet_lancets': 'not_drug',\n",
    "    'beclomethasone_dipropiona': 'beclomethasone',\n",
    "    'beconase_aq': 'beclomethasone',\n",
    "    'belbuca': 'buprenorphine',\n",
    "    'belladonna_alkaloids/phen': 'belladonna+phenobarbital',\n",
    "    'belsomra': 'suvorexant',\n",
    "    'benazepril': 'benazepril',\n",
    "    'benazepril+hydrochlorothiazide': 'benazepril+hydrochlorothiazide',\n",
    "    'benicar': 'olmesartan',\n",
    "    'benicar_hct': 'olmesartan+hydrochlorothiazide',\n",
    "    'benlysta': 'belimumab',\n",
    "    'benztropine_mesylate': 'benztropine',\n",
    "    'bepreve': 'bepotastine',\n",
    "    'besivance': 'besifloxacin',\n",
    "    'betamethasone_dipropionat': 'betamethasone',\n",
    "    'betamethasone_valerate': 'betamethasone',\n",
    "    'betaseron': 'interferon_beta-1b',\n",
    "    'bethanechol_chloride': 'bethanechol',\n",
    "    'bevespi_aerosphere': 'glycopyrrolate+formoterol',\n",
    "    'bexsero': 'meningococcal_group_b_vaccine',\n",
    "    'bicalutamide': 'bicalutamide',\n",
    "    'bidil': 'isosorbide_dinitrate+hydralazine',\n",
    "    'biktarvy': 'bictegravir+emtricitabine+tenofovir_alafenamide',\n",
    "    'bimatoprost': 'bimatoprost',\n",
    "    'bisacodyl_ec': 'bisacodyl',\n",
    "    'bisoprolol_fumarate': 'bisoprolol',\n",
    "    'bisoprolol_fumarate/hydro': 'bisoprolol+hydrochlorothiazide',\n",
    "    'blisovi_24_fe': 'ethinyl_estradiol+norethindrone+iron',\n",
    "    'blisovi_fe_1.5/30': 'ethinyl_estradiol+norethindrone+iron',\n",
    "    'blisovi_fe_1/20': 'ethinyl_estradiol+norethindrone+iron',\n",
    "    'boostrix': 'tetanus+diphtheria+pertussis_vaccine',\n",
    "    'bosulif': 'bosutinib',\n",
    "    'botox': 'onabotulinumtoxina',\n",
    "    'bp_wash': 'benzoyl_peroxide',\n",
    "    'braftovi': 'encorafenib',\n",
    "    'breo_ellipta': 'fluticasone+vilanterol',\n",
    "    'brilinta': 'ticagrelor',\n",
    "    'brimonidine_tartrate': 'brimonidine',\n",
    "    'briviact': 'brivaracetam',\n",
    "    'bromfed_dm': 'brompheniramine+dextromethorphan+pseudoephedrine',\n",
    "    'bromocriptine_mesylate': 'bromocriptine',\n",
    "    'bromphen/pseudoephedrine': 'brompheniramine+pseudoephedrine',\n",
    "    'brovana': 'arformoterol',\n",
    "    'budesonide': 'budesonide',\n",
    "    'budesonide_er': 'budesonide',\n",
    "    'budesonide_nasal_spray': 'budesonide',\n",
    "    'budesonide+formoterol_fum': 'budesonide+formoterol',\n",
    "    'bumetanide': 'bumetanide',\n",
    "    'bupap': 'butalbital+acetaminophen',\n",
    "    'bupivacaine': 'bupivacaine',\n",
    "    'buprenorphine': 'buprenorphine',\n",
    "    'buprenorphine_hcl': 'buprenorphine',\n",
    "    'buprenorphine_hcl/naloxon': 'buprenorphine+naloxone',\n",
    "    'bupropion': 'bupropion',\n",
    "    'bupropion_hcl': 'bupropion',\n",
    "    'bupropion_hcl_xl': 'bupropion',\n",
    "    'bupropion_hydrochloride': 'bupropion',\n",
    "    'bupropion_hydrochloride_e': 'bupropion',\n",
    "    'buspirone_hcl': 'buspirone',\n",
    "    'buspirone_hydrochloride': 'buspirone',\n",
    "    'butalbital+acetaminophen': 'butalbital+acetaminophen',\n",
    "    'butorphanol_tartrate': 'butorphanol',\n",
    "    'butrans': 'buprenorphine',\n",
    "    'bydureon': 'exenatide',\n",
    "    'bydureon_bcise': 'exenatide',\n",
    "    'bydureon_pen': 'exenatide',\n",
    "    'byetta': 'exenatide',\n",
    "    'bystolic': 'nebivolol'\n",
    "}"
   ]
  },
  {
   "cell_type": "code",
   "execution_count": 146,
   "id": "52db6cfc",
   "metadata": {
    "execution": {
     "iopub.execute_input": "2024-12-24T17:24:04.359735Z",
     "iopub.status.busy": "2024-12-24T17:24:04.359502Z",
     "iopub.status.idle": "2024-12-24T17:24:04.629568Z",
     "shell.execute_reply": "2024-12-24T17:24:04.628848Z",
     "shell.execute_reply.started": "2024-12-24T17:24:04.359706Z"
    },
    "tags": []
   },
   "outputs": [
    {
     "data": {
      "application/vnd.jupyter.widget-view+json": {
       "model_id": "989c4c5cb9c64d089eb1e14f7ba6e384",
       "version_major": 2,
       "version_minor": 0
      },
      "text/plain": [
       "VBox()"
      ]
     },
     "metadata": {},
     "output_type": "display_data"
    },
    {
     "data": {
      "application/vnd.jupyter.widget-view+json": {
       "model_id": "",
       "version_major": 2,
       "version_minor": 0
      },
      "text/plain": [
       "FloatProgress(value=0.0, bar_style='info', description='Progress:', layout=Layout(height='25px', width='50%'),…"
      ]
     },
     "metadata": {},
     "output_type": "display_data"
    }
   ],
   "source": [
    "clean_df = replace_values_with_mapping(clean_df, 'standardized_drug_name', consolidations_b)"
   ]
  },
  {
   "cell_type": "code",
   "execution_count": 147,
   "id": "b2237486",
   "metadata": {
    "execution": {
     "iopub.execute_input": "2024-12-24T17:24:04.631855Z",
     "iopub.status.busy": "2024-12-24T17:24:04.631652Z",
     "iopub.status.idle": "2024-12-24T17:24:15.999114Z",
     "shell.execute_reply": "2024-12-24T17:24:15.998408Z",
     "shell.execute_reply.started": "2024-12-24T17:24:04.631829Z"
    },
    "tags": []
   },
   "outputs": [
    {
     "data": {
      "application/vnd.jupyter.widget-view+json": {
       "model_id": "c5dde1982c8c41298ab40ad64c322291",
       "version_major": 2,
       "version_minor": 0
      },
      "text/plain": [
       "VBox()"
      ]
     },
     "metadata": {},
     "output_type": "display_data"
    },
    {
     "data": {
      "application/vnd.jupyter.widget-view+json": {
       "model_id": "",
       "version_major": 2,
       "version_minor": 0
      },
      "text/plain": [
       "FloatProgress(value=0.0, bar_style='info', description='Progress:', layout=Layout(height='25px', width='50%'),…"
      ]
     },
     "metadata": {},
     "output_type": "display_data"
    },
    {
     "name": "stdout",
     "output_type": "stream",
     "text": [
      "+-------------+----------+----------+---------+----+---------------+----------------------+\n",
      "|mi_person_key| drug_date|  ADE_Date|drug_name|Year|Hospitalization|standardized_drug_name|\n",
      "+-------------+----------+----------+---------+----+---------------+----------------------+\n",
      "|   1003991503|2020-02-07|2020-03-09|      b-1|2020|              0|                   b-1|\n",
      "|   1018166225|2020-08-03|2020-08-27|      b-1|2020|              0|                   b-1|\n",
      "|   1011620421|2019-07-08|2019-07-09|      b-1|2019|              0|                   b-1|\n",
      "|   1018166225|2020-08-03|2020-09-17|      b-1|2020|              0|                   b-1|\n",
      "|   1003991503|2020-02-07|2020-03-11|      b-1|2020|              0|                   b-1|\n",
      "|   1018166225|2020-08-03|2020-08-10|      b-1|2020|              0|                   b-1|\n",
      "|   1011620421|2019-07-08|2019-07-27|      b-1|2019|              0|                   b-1|\n",
      "|   1018166225|2020-08-03|2020-08-17|      b-1|2020|              0|                   b-1|\n",
      "|   1003991503|2020-02-07|2020-03-02|      b-1|2020|              0|                   b-1|\n",
      "|   1011620421|2019-07-08|2019-07-16|      b-1|2019|              0|                   b-1|\n",
      "|   1003991503|2020-02-07|2020-02-13|      b-1|2020|              0|                   b-1|\n",
      "|   1011620421|2019-08-12|2019-09-10|      b-1|2019|              0|                   b-1|\n",
      "|   1003991503|2020-02-07|2020-02-17|      b-1|2020|              0|                   b-1|\n",
      "|   1011620421|2019-07-08|2019-07-08|      b-1|2019|              0|                   b-1|\n",
      "|   1003991503|2020-02-07|2020-02-24|      b-1|2020|              0|                   b-1|\n",
      "|   1011620421|2019-07-08|2019-08-05|      b-1|2019|              0|                   b-1|\n",
      "|   1003991503|2020-02-07|2020-02-07|      b-1|2020|              0|                   b-1|\n",
      "|   1011620421|2019-08-12|2019-09-06|      b-1|2019|              0|                   b-1|\n",
      "|   1003991503|2020-02-07|2020-02-26|      b-1|2020|              0|                   b-1|\n",
      "|   1011620421|2019-07-08|2019-08-10|      b-1|2019|              0|                   b-1|\n",
      "+-------------+----------+----------+---------+----+---------------+----------------------+\n",
      "only showing top 20 rows"
     ]
    }
   ],
   "source": [
    "from pyspark.sql.functions import asc\n",
    "\n",
    "# Add a custom sort column that prioritizes names starting with 'b'\n",
    "sorted_unique_levels = clean_df.withColumn(\n",
    "    \"sort_priority\",\n",
    "    when(col(\"standardized_drug_name\").startswith(\"b\"), 0).otherwise(1)\n",
    ")\n",
    "\n",
    "# Sort by the custom sort priority, and then alphabetically by 'standardized_drug_name'\n",
    "sorted_unique_levels = sorted_unique_levels.orderBy(\n",
    "    col(\"sort_priority\"), \n",
    "    col(\"standardized_drug_name\").asc()\n",
    ")\n",
    "\n",
    "# Drop priority sort column so we can use for new cases\n",
    "sorted_unique_levels = sorted_unique_levels.drop(\"sort_priority\")\n",
    "\n",
    "# Show the sorted DataFrame\n",
    "sorted_unique_levels.show(n=20)  # Adjust 'n' to display more or fewer results"
   ]
  },
  {
   "cell_type": "code",
   "execution_count": 148,
   "id": "ac74486a",
   "metadata": {
    "execution": {
     "iopub.execute_input": "2024-12-24T17:24:16.000975Z",
     "iopub.status.busy": "2024-12-24T17:24:16.000794Z",
     "iopub.status.idle": "2024-12-24T17:24:16.087721Z",
     "shell.execute_reply": "2024-12-24T17:24:16.086667Z",
     "shell.execute_reply.started": "2024-12-24T17:24:16.000951Z"
    },
    "tags": []
   },
   "outputs": [
    {
     "data": {
      "application/vnd.jupyter.widget-view+json": {
       "model_id": "caf8c598d5444b9aaf296ad135b5af49",
       "version_major": 2,
       "version_minor": 0
      },
      "text/plain": [
       "VBox()"
      ]
     },
     "metadata": {},
     "output_type": "display_data"
    },
    {
     "data": {
      "application/vnd.jupyter.widget-view+json": {
       "model_id": "",
       "version_major": 2,
       "version_minor": 0
      },
      "text/plain": [
       "FloatProgress(value=0.0, bar_style='info', description='Progress:', layout=Layout(height='25px', width='50%'),…"
      ]
     },
     "metadata": {},
     "output_type": "display_data"
    }
   ],
   "source": [
    "# C Drug names\n",
    "consolidations_c = {\n",
    "    'cefazolin_sodium+dextrose': 'cefazolin+dextrose',\n",
    "    'clindamycin+sodium_chlori': 'clindamycin+sodium_chloride',\n",
    "    'cvs_b6': 'vitamin_b6',\n",
    "    'cvs_digestive_probiotic': 'probiotic',\n",
    "    'claritin': 'loratadine',\n",
    "    'cvs_allergen': 'cetirizine',\n",
    "    'centrum_men': 'multivitamin+men',\n",
    "    'c-500': 'vitamin_c',\n",
    "    'celexa': 'citalopram',\n",
    "    'clindamycin_hcl': 'clindamycin',\n",
    "    'culturelle_digestive_heal': 'probiotic',\n",
    "    'cvs_spectravite_ultra_men': 'multivitamin+men',\n",
    "    'cvs_allergy_eye_drops': 'allergy_eye_drops',\n",
    "    'cvs_allergy': 'allergy_relief',\n",
    "    'cvs_cold_&hot_maximum_st': 'pain_relief+hot_cold_therapy',\n",
    "    'cvs_motion_sickness_relie': 'motion_sickness_relief',\n",
    "    'caresens_n_blood_glucose': 'not_drug',\n",
    "    'cvs_antiseptic_skin_clean': 'antiseptic_skin_cleanser',\n",
    "    'clocortolone_pivalate_pum': 'clocortolone',\n",
    "    'copper_caps': 'copper',\n",
    "    'classic_prenatal': 'prenatal_vitamin',\n",
    "    'caziant': 'caziant',\n",
    "    'cvs_womens_daily_gummies': 'multivitamin+women',\n",
    "    'cyclosporine_a': 'cyclosporine',\n",
    "    'calcium_500+d3': 'calcium+vitamin_d',\n",
    "    'concept_ob': 'prenatal_vitamin',\n",
    "    'cvs_tension_headache': 'acetaminophen+caffeine',\n",
    "    'cvs_petroleum_jelly': 'petroleum_jelly',\n",
    "    'cepacol_sore_throat_+cou': 'cepacol',\n",
    "    'corvite': 'multivitamin+iron',\n",
    "    'cvs_heartburn_relief': 'heartburn_relief',\n",
    "    'cvs_ibuprofen_ib': 'ibuprofen',\n",
    "    'cytotec': 'misoprostol',\n",
    "    'cvs_triple_antibiotic': 'triple_antibiotic',\n",
    "    'cvs_blood_pressure_cuff': 'not_drug',\n",
    "    'clobetasol_propionate': 'clobetasol',\n",
    "    'cholestyramine_light': 'cholestyramine',\n",
    "    'cimzia': 'certolizumab',\n",
    "    'ciclopirox_nail_lacquer': 'ciclopirox',\n",
    "    'cyproheptadine_hydrochlor': 'cyproheptadine',\n",
    "    'cinacalcet_hydrochloride': 'cinacalcet',\n",
    "    'cetirizine_hydrochloride': 'cetirizine',\n",
    "    'ciprofloxacin_hydrochlori': 'ciprofloxacin',\n",
    "    'cefuroxime_axetil': 'cefuroxime',\n",
    "    'calcium+vitamin_d3': 'calcium+vitamin_d',\n",
    "    'calcitonin_salmon': 'calcitonin',\n",
    "    'calcium_plus_vitamin_d3': 'calcium+vitamin_d',\n",
    "    'clomipramine_hydrochlorid': 'clomipramine',\n",
    "    'calcium_600+_d': 'calcium+vitamin_d',\n",
    "    'coly-mycin_s': 'colistin+neomycin+hydrocortisone',\n",
    "    'cyclobenzaprine_hcl': 'cyclobenzaprine',\n",
    "    'cvs_clotrimazole_3': 'clotrimazole',\n",
    "    'cvs_antifungal_maxiumum_s': 'antifungal',\n",
    "    'castellani_paint_modified': 'castellani_paint',\n",
    "    'culturelle_ultimate_stren': 'probiotic',\n",
    "    'cvs_selenium': 'selenium',\n",
    "    'cvs_athletes_foot_powder': 'antifungal',\n",
    "    'cvs_b-6': 'vitamin_b6',\n",
    "    'cvs_8_hour_pain_relief': 'acetaminophen',\n",
    "    'cvs_anti-dandruff': 'anti_dandruff_shampoo',\n",
    "    'centrum_multigummies_adul': 'multivitamin',\n",
    "    'cvs_spectravite_adult_gum': 'multivitamin',\n",
    "    'cvs_sleep_aid_nighttime+m': 'sleep_aid',\n",
    "    'ciprofloxacin_er': 'ciprofloxacin',\n",
    "    'cvs_nighttime_tussin_dm': 'dextromethorphan+guaifenesin',\n",
    "    'cholecalciferol': 'vitamin_d3',\n",
    "    'c_250': 'vitamin_c',\n",
    "    'clobetasol_propionate': 'clobetasol'\n",
    "}"
   ]
  },
  {
   "cell_type": "code",
   "execution_count": 149,
   "id": "f13ea5d3",
   "metadata": {
    "execution": {
     "iopub.execute_input": "2024-12-24T17:24:16.089148Z",
     "iopub.status.busy": "2024-12-24T17:24:16.088892Z",
     "iopub.status.idle": "2024-12-24T17:24:16.359645Z",
     "shell.execute_reply": "2024-12-24T17:24:16.357173Z",
     "shell.execute_reply.started": "2024-12-24T17:24:16.089110Z"
    },
    "tags": []
   },
   "outputs": [
    {
     "data": {
      "application/vnd.jupyter.widget-view+json": {
       "model_id": "f9d8bfba46734675874d45516fe2643e",
       "version_major": 2,
       "version_minor": 0
      },
      "text/plain": [
       "VBox()"
      ]
     },
     "metadata": {},
     "output_type": "display_data"
    },
    {
     "data": {
      "application/vnd.jupyter.widget-view+json": {
       "model_id": "",
       "version_major": 2,
       "version_minor": 0
      },
      "text/plain": [
       "FloatProgress(value=0.0, bar_style='info', description='Progress:', layout=Layout(height='25px', width='50%'),…"
      ]
     },
     "metadata": {},
     "output_type": "display_data"
    }
   ],
   "source": [
    "clean_df = replace_values_with_mapping(clean_df, 'standardized_drug_name', consolidations_c)"
   ]
  },
  {
   "cell_type": "code",
   "execution_count": 150,
   "id": "5ebe5c50",
   "metadata": {
    "execution": {
     "iopub.execute_input": "2024-12-24T17:24:16.361453Z",
     "iopub.status.busy": "2024-12-24T17:24:16.361247Z",
     "iopub.status.idle": "2024-12-24T17:24:23.704667Z",
     "shell.execute_reply": "2024-12-24T17:24:23.703630Z",
     "shell.execute_reply.started": "2024-12-24T17:24:16.361426Z"
    },
    "tags": []
   },
   "outputs": [
    {
     "data": {
      "application/vnd.jupyter.widget-view+json": {
       "model_id": "f20b18ebe35f40698af0f5f1a10ac4b6",
       "version_major": 2,
       "version_minor": 0
      },
      "text/plain": [
       "VBox()"
      ]
     },
     "metadata": {},
     "output_type": "display_data"
    },
    {
     "data": {
      "application/vnd.jupyter.widget-view+json": {
       "model_id": "",
       "version_major": 2,
       "version_minor": 0
      },
      "text/plain": [
       "FloatProgress(value=0.0, bar_style='info', description='Progress:', layout=Layout(height='25px', width='50%'),…"
      ]
     },
     "metadata": {},
     "output_type": "display_data"
    },
    {
     "name": "stdout",
     "output_type": "stream",
     "text": [
      "+-------------+----------+----------+--------------------+----+---------------+----------------------+\n",
      "|mi_person_key| drug_date|  ADE_Date|           drug_name|Year|Hospitalization|standardized_drug_name|\n",
      "+-------------+----------+----------+--------------------+----+---------------+----------------------+\n",
      "|   1000674383|2018-11-20|2018-11-28|         calcium/c/d|2018|              0|           c+calcium+d|\n",
      "|   1016077565|2017-09-29|2017-11-06|chewable vite wit...|2017|              0|  c+chewable_vite_w...|\n",
      "|   1003455471|2018-04-04|2018-05-04|chewable vite wit...|2018|              0|  c+chewable_vite_w...|\n",
      "|   1016077565|2017-09-29|2017-10-19|chewable vite wit...|2017|              0|  c+chewable_vite_w...|\n",
      "|   1002759442|2018-08-09|2018-08-09|chewable vite wit...|2018|              0|  c+chewable_vite_w...|\n",
      "|   1016077565|2017-09-29|2017-10-17|chewable vite wit...|2017|              0|  c+chewable_vite_w...|\n",
      "|   1003455471|2018-05-16|2018-05-16|chewable vite wit...|2018|              0|  c+chewable_vite_w...|\n",
      "|   1016077565|2017-09-29|2017-11-13|chewable vite wit...|2017|              0|  c+chewable_vite_w...|\n",
      "|   1001503526|2018-07-06|2018-07-16|chewable vite wit...|2018|              0|  c+chewable_vite_w...|\n",
      "|   1016077565|2017-09-29|2017-10-24|chewable vite wit...|2017|              0|  c+chewable_vite_w...|\n",
      "|   1003455471|2018-04-04|2018-05-16|chewable vite wit...|2018|              0|  c+chewable_vite_w...|\n",
      "|   1016077565|2017-09-29|2017-10-26|chewable vite wit...|2017|              0|  c+chewable_vite_w...|\n",
      "|   1003196528|2016-08-09|2016-09-07|chewable vite wit...|2016|              0|  c+chewable_vite_w...|\n",
      "|   1016077565|2017-05-19|2017-06-08|chewable vite wit...|2017|              0|  c+chewable_vite_w...|\n",
      "|   1003455471|2018-04-04|2018-04-04|chewable vite wit...|2018|              0|  c+chewable_vite_w...|\n",
      "|   1016077565|2017-05-19|2017-05-19|chewable vite wit...|2017|              0|  c+chewable_vite_w...|\n",
      "|   1001503526|2018-07-06|2018-07-11|chewable vite wit...|2018|              0|  c+chewable_vite_w...|\n",
      "|   1016077565|2017-09-29|2017-11-08|chewable vite wit...|2017|              0|  c+chewable_vite_w...|\n",
      "|   1003455471|2018-04-04|2018-04-24|chewable vite wit...|2018|              0|  c+chewable_vite_w...|\n",
      "|   1016077565|2017-09-29|2017-11-02|chewable vite wit...|2017|              0|  c+chewable_vite_w...|\n",
      "+-------------+----------+----------+--------------------+----+---------------+----------------------+\n",
      "only showing top 20 rows"
     ]
    }
   ],
   "source": [
    "from pyspark.sql.functions import asc\n",
    "\n",
    "# Add a custom sort column that prioritizes names starting with 'c'\n",
    "sorted_unique_levels = clean_df.withColumn(\n",
    "    \"sort_priority\",\n",
    "    when(col(\"standardized_drug_name\").startswith(\"c\"), 0).otherwise(1)\n",
    ")\n",
    "\n",
    "# Sort by the custom sort priority, and then alphabetically by 'standardized_drug_name'\n",
    "sorted_unique_levels = sorted_unique_levels.orderBy(\n",
    "    col(\"sort_priority\"), \n",
    "    col(\"standardized_drug_name\").asc()\n",
    ")\n",
    "\n",
    "# Drop priority sort column so we can use for new cases\n",
    "sorted_unique_levels = sorted_unique_levels.drop(\"sort_priority\")\n",
    "\n",
    "# Show the sorted DataFrame\n",
    "sorted_unique_levels.show(n=20)  # Adjust 'n' to display more or fewer results"
   ]
  },
  {
   "cell_type": "code",
   "execution_count": 151,
   "id": "c9920947",
   "metadata": {
    "execution": {
     "iopub.execute_input": "2024-12-24T17:24:23.705838Z",
     "iopub.status.busy": "2024-12-24T17:24:23.705664Z",
     "iopub.status.idle": "2024-12-24T17:24:23.788055Z",
     "shell.execute_reply": "2024-12-24T17:24:23.787068Z",
     "shell.execute_reply.started": "2024-12-24T17:24:23.705814Z"
    },
    "tags": []
   },
   "outputs": [
    {
     "data": {
      "application/vnd.jupyter.widget-view+json": {
       "model_id": "45afb4e7363547939265a5183d4b181a",
       "version_major": 2,
       "version_minor": 0
      },
      "text/plain": [
       "VBox()"
      ]
     },
     "metadata": {},
     "output_type": "display_data"
    },
    {
     "data": {
      "application/vnd.jupyter.widget-view+json": {
       "model_id": "",
       "version_major": 2,
       "version_minor": 0
      },
      "text/plain": [
       "FloatProgress(value=0.0, bar_style='info', description='Progress:', layout=Layout(height='25px', width='50%'),…"
      ]
     },
     "metadata": {},
     "output_type": "display_data"
    }
   ],
   "source": [
    "# D drug names\n",
    "\n",
    "consolidations_d = {\n",
    "    'dexmethylphenidate_hcl_er': 'dexmethylphenidate_er',\n",
    "    'dialyvite_800': 'dialyvite',\n",
    "    'dialyvite_800/zinc_15': 'dialyvite+zinc',\n",
    "    'diclofenac_sodium': 'diclofenac',\n",
    "    'diclofenac_epolamine': 'diclofenac',\n",
    "    'diltiazem_hcl_er': 'diltiazem+er',\n",
    "    'diltiazem_hydrochloride_e': 'diltiazem+er',\n",
    "    'dimethyl_fumarate_starter': 'dimethyl_fumarate',\n",
    "    'diphenoxylate/atropine': 'diphenoxylate+atropine',\n",
    "    'disopyramide_phosphate': 'disopyramide',\n",
    "    'divigel': 'estradiol_gel',\n",
    "    'divalproex_sodium_dr': 'divalproex',\n",
    "    'docusate_sodium/senna': 'docusate+senna',\n",
    "    'dobutamine_hydrochloride': 'dobutamine',\n",
    "    'dologesic': 'acetaminophen+caffeine',\n",
    "    'donnatal': 'phenobarbital+belladonna_alkaloids',\n",
    "    'dorzolamide_hydrochloride': 'dorzolamide',\n",
    "    'doxazosin_mesylate': 'doxazosin',\n",
    "    'doxylamine_succinate/pyri': 'doxylamine+pyridoxine',\n",
    "    'dritho-creme_hp': 'anthralin',\n",
    "    'duloxetine_hydrochloride': 'duloxetine',\n",
    "    'dymista': 'azelastine+fluticasone',\n",
    "    'dynabac_5.0': 'dirithromycin'\n",
    "}"
   ]
  },
  {
   "cell_type": "code",
   "execution_count": 152,
   "id": "e88ff8c0",
   "metadata": {
    "execution": {
     "iopub.execute_input": "2024-12-24T17:24:23.789440Z",
     "iopub.status.busy": "2024-12-24T17:24:23.789185Z",
     "iopub.status.idle": "2024-12-24T17:24:24.054028Z",
     "shell.execute_reply": "2024-12-24T17:24:24.053425Z",
     "shell.execute_reply.started": "2024-12-24T17:24:23.789414Z"
    },
    "tags": []
   },
   "outputs": [
    {
     "data": {
      "application/vnd.jupyter.widget-view+json": {
       "model_id": "41eea96807104c80bac5a87c6884ed2a",
       "version_major": 2,
       "version_minor": 0
      },
      "text/plain": [
       "VBox()"
      ]
     },
     "metadata": {},
     "output_type": "display_data"
    },
    {
     "data": {
      "application/vnd.jupyter.widget-view+json": {
       "model_id": "",
       "version_major": 2,
       "version_minor": 0
      },
      "text/plain": [
       "FloatProgress(value=0.0, bar_style='info', description='Progress:', layout=Layout(height='25px', width='50%'),…"
      ]
     },
     "metadata": {},
     "output_type": "display_data"
    }
   ],
   "source": [
    "clean_df = replace_values_with_mapping(clean_df, 'standardized_drug_name', consolidations_d)"
   ]
  },
  {
   "cell_type": "code",
   "execution_count": 153,
   "id": "1547cdb2",
   "metadata": {
    "execution": {
     "iopub.execute_input": "2024-12-24T17:24:24.055175Z",
     "iopub.status.busy": "2024-12-24T17:24:24.054861Z",
     "iopub.status.idle": "2024-12-24T17:24:31.378397Z",
     "shell.execute_reply": "2024-12-24T17:24:31.377565Z",
     "shell.execute_reply.started": "2024-12-24T17:24:24.055148Z"
    },
    "tags": []
   },
   "outputs": [
    {
     "data": {
      "application/vnd.jupyter.widget-view+json": {
       "model_id": "9e737f3e368f43bf8556f5d6e3134325",
       "version_major": 2,
       "version_minor": 0
      },
      "text/plain": [
       "VBox()"
      ]
     },
     "metadata": {},
     "output_type": "display_data"
    },
    {
     "data": {
      "application/vnd.jupyter.widget-view+json": {
       "model_id": "",
       "version_major": 2,
       "version_minor": 0
      },
      "text/plain": [
       "FloatProgress(value=0.0, bar_style='info', description='Progress:', layout=Layout(height='25px', width='50%'),…"
      ]
     },
     "metadata": {},
     "output_type": "display_data"
    },
    {
     "name": "stdout",
     "output_type": "stream",
     "text": [
      "+-------------+----------+----------+--------------------+----+---------------+----------------------+\n",
      "|mi_person_key| drug_date|  ADE_Date|           drug_name|Year|Hospitalization|standardized_drug_name|\n",
      "+-------------+----------+----------+--------------------+----+---------------+----------------------+\n",
      "|   1001104270|2020-10-29|2020-10-29|eq calcium 600+d+...|2020|              0|  d+eq_calcium_600+...|\n",
      "|   1014896941|2020-05-13|2020-05-20|homeneb with side...|2020|              0|  d+homeneb_with_si...|\n",
      "|   1000117761|2019-03-23|2019-03-23|homeneb with side...|2019|              1|  d+homeneb_with_si...|\n",
      "|   1014896941|2020-05-13|2020-05-13|homeneb with side...|2020|              0|  d+homeneb_with_si...|\n",
      "|   1006957984|2020-08-05|2020-09-09|homeneb with side...|2020|              0|  d+homeneb_with_si...|\n",
      "|   1014896941|2020-05-13|2020-05-19|homeneb with side...|2020|              0|  d+homeneb_with_si...|\n",
      "|   1007782392|2020-03-06|2020-04-15|homeneb with side...|2020|              0|  d+homeneb_with_si...|\n",
      "|   1000988922|2019-06-06|2019-06-06|homeneb with side...|2019|              0|  d+homeneb_with_si...|\n",
      "|   1007782392|2020-03-06|2020-03-30|homeneb with side...|2020|              0|  d+homeneb_with_si...|\n",
      "|   1008774880|2020-05-12|2020-05-14|homeneb with side...|2020|              0|  d+homeneb_with_si...|\n",
      "|   1007782392|2020-03-06|2020-04-13|homeneb with side...|2020|              0|  d+homeneb_with_si...|\n",
      "|   1005484294|2020-04-09|2020-04-16|homeneb with side...|2020|              0|  d+homeneb_with_si...|\n",
      "|   1007782392|2020-03-06|2020-03-06|homeneb with side...|2020|              0|  d+homeneb_with_si...|\n",
      "|   1007550764|2020-05-29|2020-05-29|homeneb with side...|2020|              0|  d+homeneb_with_si...|\n",
      "|   1007782392|2020-03-06|2020-03-09|homeneb with side...|2020|              0|  d+homeneb_with_si...|\n",
      "|   1005484294|2020-04-09|2020-04-09|homeneb with side...|2020|              0|  d+homeneb_with_si...|\n",
      "|   1007782392|2020-03-06|2020-03-18|homeneb with side...|2020|              0|  d+homeneb_with_si...|\n",
      "|   1000160774|2020-03-11|2020-03-17|homeneb with side...|2020|              0|  d+homeneb_with_si...|\n",
      "|   1007550764|2020-05-29|2020-07-06|homeneb with side...|2020|              0|  d+homeneb_with_si...|\n",
      "|   1001839365|2019-06-06|2019-06-06|homeneb with side...|2019|              0|  d+homeneb_with_si...|\n",
      "+-------------+----------+----------+--------------------+----+---------------+----------------------+\n",
      "only showing top 20 rows"
     ]
    }
   ],
   "source": [
    "from pyspark.sql.functions import asc\n",
    "\n",
    "# Add a custom sort column that prioritizes names starting with 'd'\n",
    "sorted_unique_levels = clean_df.withColumn(\n",
    "    \"sort_priority\",\n",
    "    when(col(\"standardized_drug_name\").startswith(\"d\"), 0).otherwise(1)\n",
    ")\n",
    "\n",
    "# Sort by the custom sort priority, and then alphabetically by 'standardized_drug_name'\n",
    "sorted_unique_levels = sorted_unique_levels.orderBy(\n",
    "    col(\"sort_priority\"), \n",
    "    col(\"standardized_drug_name\").asc()\n",
    ")\n",
    "\n",
    "# Drop priority sort column so we can use for new cases\n",
    "sorted_unique_levels = sorted_unique_levels.drop(\"sort_priority\")\n",
    "\n",
    "# Show the sorted DataFrame\n",
    "sorted_unique_levels.show(n=20)  # Adjust 'n' to display more or fewer results"
   ]
  },
  {
   "cell_type": "code",
   "execution_count": 154,
   "id": "a2c45efc",
   "metadata": {
    "execution": {
     "iopub.execute_input": "2024-12-24T17:24:31.379880Z",
     "iopub.status.busy": "2024-12-24T17:24:31.379630Z",
     "iopub.status.idle": "2024-12-24T17:24:31.438880Z",
     "shell.execute_reply": "2024-12-24T17:24:31.435650Z",
     "shell.execute_reply.started": "2024-12-24T17:24:31.379843Z"
    },
    "tags": []
   },
   "outputs": [
    {
     "data": {
      "application/vnd.jupyter.widget-view+json": {
       "model_id": "f9f1ccf25f4447248cfa67666a4af607",
       "version_major": 2,
       "version_minor": 0
      },
      "text/plain": [
       "VBox()"
      ]
     },
     "metadata": {},
     "output_type": "display_data"
    },
    {
     "data": {
      "application/vnd.jupyter.widget-view+json": {
       "model_id": "",
       "version_major": 2,
       "version_minor": 0
      },
      "text/plain": [
       "FloatProgress(value=0.0, bar_style='info', description='Progress:', layout=Layout(height='25px', width='50%'),…"
      ]
     },
     "metadata": {},
     "output_type": "display_data"
    }
   ],
   "source": [
    "# E drug names\n",
    "\n",
    "consolidations_e = {\n",
    "    'edarbyclor': 'azilsartan+chlorthalidone',\n",
    "    'eliquis_starter_pack': 'apixaban',\n",
    "    'eq_mucus_relief_dm': 'guaifenesin+dextromethorphan',\n",
    "    'euthyrox': 'levothyroxine',\n",
    "    'epivir': 'lamivudine',\n",
    "    'evotaz': 'atazanavir+cobicistat',\n",
    "    'ethambutol_hydrochloride': 'ethambutol',\n",
    "    'enalapril_maleate': 'enalapril',\n",
    "    'estradiol_valerate': 'estradiol',\n",
    "    'ergocalciferol': 'vitamin_d2',\n",
    "    'estrace': 'estradiol',\n",
    "    'estring': 'estradiol',\n",
    "    'erlotinib_hydrochloride': 'erlotinib',\n",
    "    'ertapenem_sodium': 'ertapenem',\n",
    "    'edex': 'alprostadil',\n",
    "    'epipen': 'epinephrine',\n",
    "    'eylea': 'aflibercept',\n",
    "    'easy_touch_pen_needles_32': 'not_drug',\n",
    "    'easy_touch_fliplock_safet': 'not_drug',\n",
    "    'easy_touch_lancets_30g/pr': 'not_drug',\n",
    "    'easy_touch_safety_lancets': 'not_drug',\n",
    "    'eucerin_skin_calming_dail': 'not_drug',\n",
    "    'eucerin_daily_protection/': 'not_drug'\n",
    "}"
   ]
  },
  {
   "cell_type": "code",
   "execution_count": 155,
   "id": "5b63c408",
   "metadata": {
    "execution": {
     "iopub.execute_input": "2024-12-24T17:24:31.440284Z",
     "iopub.status.busy": "2024-12-24T17:24:31.440008Z",
     "iopub.status.idle": "2024-12-24T17:24:31.687692Z",
     "shell.execute_reply": "2024-12-24T17:24:31.687070Z",
     "shell.execute_reply.started": "2024-12-24T17:24:31.440256Z"
    },
    "tags": []
   },
   "outputs": [
    {
     "data": {
      "application/vnd.jupyter.widget-view+json": {
       "model_id": "1837156fc61540d388eac8cbca65d93c",
       "version_major": 2,
       "version_minor": 0
      },
      "text/plain": [
       "VBox()"
      ]
     },
     "metadata": {},
     "output_type": "display_data"
    },
    {
     "data": {
      "application/vnd.jupyter.widget-view+json": {
       "model_id": "",
       "version_major": 2,
       "version_minor": 0
      },
      "text/plain": [
       "FloatProgress(value=0.0, bar_style='info', description='Progress:', layout=Layout(height='25px', width='50%'),…"
      ]
     },
     "metadata": {},
     "output_type": "display_data"
    }
   ],
   "source": [
    "clean_df = replace_values_with_mapping(clean_df, 'standardized_drug_name', consolidations_e)"
   ]
  },
  {
   "cell_type": "code",
   "execution_count": 156,
   "id": "bc7ceacd",
   "metadata": {
    "execution": {
     "iopub.execute_input": "2024-12-24T17:24:31.689439Z",
     "iopub.status.busy": "2024-12-24T17:24:31.689106Z",
     "iopub.status.idle": "2024-12-24T17:24:38.992103Z",
     "shell.execute_reply": "2024-12-24T17:24:38.991255Z",
     "shell.execute_reply.started": "2024-12-24T17:24:31.689411Z"
    },
    "tags": []
   },
   "outputs": [
    {
     "data": {
      "application/vnd.jupyter.widget-view+json": {
       "model_id": "6fe2c8e81590443d8e378ac0cf2cc2c1",
       "version_major": 2,
       "version_minor": 0
      },
      "text/plain": [
       "VBox()"
      ]
     },
     "metadata": {},
     "output_type": "display_data"
    },
    {
     "data": {
      "application/vnd.jupyter.widget-view+json": {
       "model_id": "",
       "version_major": 2,
       "version_minor": 0
      },
      "text/plain": [
       "FloatProgress(value=0.0, bar_style='info', description='Progress:', layout=Layout(height='25px', width='50%'),…"
      ]
     },
     "metadata": {},
     "output_type": "display_data"
    },
    {
     "name": "stdout",
     "output_type": "stream",
     "text": [
      "+-------------+----------+----------+--------------------+----+---------------+----------------------+\n",
      "|mi_person_key| drug_date|  ADE_Date|           drug_name|Year|Hospitalization|standardized_drug_name|\n",
      "+-------------+----------+----------+--------------------+----+---------------+----------------------+\n",
      "|   1015002705|2016-04-04|2016-04-04|gnp childrens che...|2016|              0|  e+gnp_childrens_c...|\n",
      "|   1015794407|2020-04-16|2020-04-16|lidocaine hydroch...|2020|              0|  e+lidocaine_hydro...|\n",
      "|   1008853099|2020-09-10|2020-09-10|lidocaine hydroch...|2020|              0|  e+lidocaine_hydro...|\n",
      "|   1006486763|2020-06-12|2020-06-12|lidocaine hydroch...|2020|              0|  e+lidocaine_hydro...|\n",
      "|   1000866199|2020-11-20|2020-11-20|lidocaine hydroch...|2020|              0|  e+lidocaine_hydro...|\n",
      "|   1006486763|2020-06-12|2020-06-26|lidocaine hydroch...|2020|              0|  e+lidocaine_hydro...|\n",
      "|   1005933259|2020-06-28|2020-06-28|lidocaine hydroch...|2020|              0|  e+lidocaine_hydro...|\n",
      "|   1006486763|2020-06-12|2020-06-22|lidocaine hydroch...|2020|              0|  e+lidocaine_hydro...|\n",
      "|   1019369915|2020-08-06|2020-09-01|lidocaine hydroch...|2020|              0|  e+lidocaine_hydro...|\n",
      "|   1009686680|2020-07-23|2020-07-30|lidocaine hydroch...|2020|              0|  e+lidocaine_hydro...|\n",
      "|   1009965584|2020-10-02|2020-10-02|lidocaine hydroch...|2020|              0|  e+lidocaine_hydro...|\n",
      "|   1009686680|2020-07-23|2020-07-23|lidocaine hydroch...|2020|              0|  e+lidocaine_hydro...|\n",
      "|   1019369915|2020-08-06|2020-08-10|lidocaine hydroch...|2020|              0|  e+lidocaine_hydro...|\n",
      "|   1009686680|2020-07-23|2020-07-31|lidocaine hydroch...|2020|              0|  e+lidocaine_hydro...|\n",
      "|   1011405055|2020-11-18|2020-11-18|lidocaine hydroch...|2020|              0|  e+lidocaine_hydro...|\n",
      "|   1019369915|2020-08-06|2020-09-03|lidocaine hydroch...|2020|              0|  e+lidocaine_hydro...|\n",
      "|   1009965584|2020-10-02|2020-10-12|lidocaine hydroch...|2020|              0|  e+lidocaine_hydro...|\n",
      "|   1012102943|2019-12-19|2019-12-19|lidocaine hydroch...|2019|              0|  e+lidocaine_hydro...|\n",
      "|   1012102943|2019-12-19|2020-01-29|lidocaine hydroch...|2020|              0|  e+lidocaine_hydro...|\n",
      "|   1016484265|2020-03-20|2020-03-27|lidocaine hydroch...|2020|              0|  e+lidocaine_hydro...|\n",
      "+-------------+----------+----------+--------------------+----+---------------+----------------------+\n",
      "only showing top 20 rows"
     ]
    }
   ],
   "source": [
    "from pyspark.sql.functions import asc\n",
    "\n",
    "# Add a custom sort column that prioritizes names starting with 'e'\n",
    "sorted_unique_levels = clean_df.withColumn(\n",
    "    \"sort_priority\",\n",
    "    when(col(\"standardized_drug_name\").startswith(\"e\"), 0).otherwise(1)\n",
    ")\n",
    "\n",
    "# Sort by the custom sort priority, and then alphabetically by 'standardized_drug_name'\n",
    "sorted_unique_levels = sorted_unique_levels.orderBy(\n",
    "    col(\"sort_priority\"), \n",
    "    col(\"standardized_drug_name\").asc()\n",
    ")\n",
    "\n",
    "# Drop priority sort column so we can use for new cases\n",
    "sorted_unique_levels = sorted_unique_levels.drop(\"sort_priority\")\n",
    "\n",
    "# Show the sorted DataFrame\n",
    "sorted_unique_levels.show(n=20)  # Adjust 'n' to display more or fewer results"
   ]
  },
  {
   "cell_type": "code",
   "execution_count": 157,
   "id": "01d069ec",
   "metadata": {
    "execution": {
     "iopub.execute_input": "2024-12-24T17:24:38.993450Z",
     "iopub.status.busy": "2024-12-24T17:24:38.993137Z",
     "iopub.status.idle": "2024-12-24T17:24:39.050850Z",
     "shell.execute_reply": "2024-12-24T17:24:39.050148Z",
     "shell.execute_reply.started": "2024-12-24T17:24:38.993422Z"
    },
    "tags": []
   },
   "outputs": [
    {
     "data": {
      "application/vnd.jupyter.widget-view+json": {
       "model_id": "651505ca790d4ea78baffc574e2f49a3",
       "version_major": 2,
       "version_minor": 0
      },
      "text/plain": [
       "VBox()"
      ]
     },
     "metadata": {},
     "output_type": "display_data"
    },
    {
     "data": {
      "application/vnd.jupyter.widget-view+json": {
       "model_id": "",
       "version_major": 2,
       "version_minor": 0
      },
      "text/plain": [
       "FloatProgress(value=0.0, bar_style='info', description='Progress:', layout=Layout(height='25px', width='50%'),…"
      ]
     },
     "metadata": {},
     "output_type": "display_data"
    }
   ],
   "source": [
    "# F drug names\n",
    "consolidations_f = {\n",
    "    'fioricet': 'butalbital+acetaminophen+caffeine',\n",
    "    'fiorinal+codeine': 'butalbital+acetaminophen+codeine',\n",
    "    'firazyr': 'icatibant',\n",
    "    'firmagon': 'degarelix',\n",
    "    'flagyl': 'metronidazole',\n",
    "    'flagyl_er': 'metronidazole_er',\n",
    "    'flecainide': 'flecainide',\n",
    "    'flomax': 'tamsulosin',\n",
    "    'flonase': 'fluticasone',\n",
    "    'flovent': 'fluticasone',\n",
    "    'focalin': 'dexmethylphenidate',\n",
    "    'forteo': 'teriparatide',\n",
    "    'fosamax': 'alendronate',\n",
    "    'furosemide': 'furosemide'\n",
    "}"
   ]
  },
  {
   "cell_type": "code",
   "execution_count": 158,
   "id": "c0311d49",
   "metadata": {
    "execution": {
     "iopub.execute_input": "2024-12-24T17:24:39.052142Z",
     "iopub.status.busy": "2024-12-24T17:24:39.051928Z",
     "iopub.status.idle": "2024-12-24T17:24:39.312955Z",
     "shell.execute_reply": "2024-12-24T17:24:39.312161Z",
     "shell.execute_reply.started": "2024-12-24T17:24:39.052090Z"
    },
    "tags": []
   },
   "outputs": [
    {
     "data": {
      "application/vnd.jupyter.widget-view+json": {
       "model_id": "7a42534c650c43c89be992e582935f32",
       "version_major": 2,
       "version_minor": 0
      },
      "text/plain": [
       "VBox()"
      ]
     },
     "metadata": {},
     "output_type": "display_data"
    },
    {
     "data": {
      "application/vnd.jupyter.widget-view+json": {
       "model_id": "",
       "version_major": 2,
       "version_minor": 0
      },
      "text/plain": [
       "FloatProgress(value=0.0, bar_style='info', description='Progress:', layout=Layout(height='25px', width='50%'),…"
      ]
     },
     "metadata": {},
     "output_type": "display_data"
    }
   ],
   "source": [
    "clean_df = replace_values_with_mapping(clean_df, 'standardized_drug_name', consolidations_f)"
   ]
  },
  {
   "cell_type": "code",
   "execution_count": 159,
   "id": "d23e0c23",
   "metadata": {
    "execution": {
     "iopub.execute_input": "2024-12-24T17:24:39.314294Z",
     "iopub.status.busy": "2024-12-24T17:24:39.314001Z",
     "iopub.status.idle": "2024-12-24T17:24:48.619139Z",
     "shell.execute_reply": "2024-12-24T17:24:48.618360Z",
     "shell.execute_reply.started": "2024-12-24T17:24:39.314263Z"
    },
    "tags": []
   },
   "outputs": [
    {
     "data": {
      "application/vnd.jupyter.widget-view+json": {
       "model_id": "5781b4047cf04c089f0b61f7c0880186",
       "version_major": 2,
       "version_minor": 0
      },
      "text/plain": [
       "VBox()"
      ]
     },
     "metadata": {},
     "output_type": "display_data"
    },
    {
     "data": {
      "application/vnd.jupyter.widget-view+json": {
       "model_id": "",
       "version_major": 2,
       "version_minor": 0
      },
      "text/plain": [
       "FloatProgress(value=0.0, bar_style='info', description='Progress:', layout=Layout(height='25px', width='50%'),…"
      ]
     },
     "metadata": {},
     "output_type": "display_data"
    },
    {
     "name": "stdout",
     "output_type": "stream",
     "text": [
      "+-------------+----------+----------+-------------------+----+---------------+----------------------+\n",
      "|mi_person_key| drug_date|  ADE_Date|          drug_name|Year|Hospitalization|standardized_drug_name|\n",
      "+-------------+----------+----------+-------------------+----+---------------+----------------------+\n",
      "|   1002394546|2018-06-12|2018-06-25|g-levocarnitine s/f|2018|              0|   f+g-levocarnitine_s|\n",
      "|   1002394546|2018-06-12|2018-06-12|g-levocarnitine s/f|2018|              0|   f+g-levocarnitine_s|\n",
      "|   1002394546|2018-06-12|2018-07-26|g-levocarnitine s/f|2018|              0|   f+g-levocarnitine_s|\n",
      "|   1002394546|2018-06-12|2018-06-14|g-levocarnitine s/f|2018|              0|   f+g-levocarnitine_s|\n",
      "|   1006009655|2020-10-05|2020-10-14|         nanovm t/f|2020|              0|            f+nanovm_t|\n",
      "|   1006009655|2020-11-03|2020-12-09|         nanovm t/f|2020|              0|            f+nanovm_t|\n",
      "|   1006009655|2020-09-01|2020-10-14|         nanovm t/f|2020|              0|            f+nanovm_t|\n",
      "|   1006009655|2020-10-05|2020-10-27|         nanovm t/f|2020|              0|            f+nanovm_t|\n",
      "|   1006009655|2020-09-01|2020-09-16|         nanovm t/f|2020|              0|            f+nanovm_t|\n",
      "|   1006009655|2020-11-03|2020-11-04|         nanovm t/f|2020|              0|            f+nanovm_t|\n",
      "|   1006009655|2020-10-05|2020-11-04|         nanovm t/f|2020|              0|            f+nanovm_t|\n",
      "|   1006009655|2020-12-02|2020-12-18|         nanovm t/f|2020|              0|            f+nanovm_t|\n",
      "|   1006009655|2020-11-03|2020-12-18|         nanovm t/f|2020|              0|            f+nanovm_t|\n",
      "|   1006009655|2020-11-03|2020-11-18|         nanovm t/f|2020|              0|            f+nanovm_t|\n",
      "|   1006009655|2020-10-05|2020-11-18|         nanovm t/f|2020|              0|            f+nanovm_t|\n",
      "|   1006009655|2020-10-05|2020-10-26|         nanovm t/f|2020|              0|            f+nanovm_t|\n",
      "|   1006009655|2020-09-01|2020-09-23|         nanovm t/f|2020|              0|            f+nanovm_t|\n",
      "|   1006009655|2020-11-03|2020-11-05|         nanovm t/f|2020|              0|            f+nanovm_t|\n",
      "|   1006009655|2020-10-05|2020-11-05|         nanovm t/f|2020|              0|            f+nanovm_t|\n",
      "|   1006009655|2020-12-02|2020-12-02|         nanovm t/f|2020|              0|            f+nanovm_t|\n",
      "+-------------+----------+----------+-------------------+----+---------------+----------------------+\n",
      "only showing top 20 rows"
     ]
    }
   ],
   "source": [
    "from pyspark.sql.functions import asc\n",
    "\n",
    "# Add a custom sort column that prioritizes names starting with 'f'\n",
    "sorted_unique_levels = clean_df.withColumn(\n",
    "    \"sort_priority\",\n",
    "    when(col(\"standardized_drug_name\").startswith(\"f\"), 0).otherwise(1)\n",
    ")\n",
    "\n",
    "# Sort by the custom sort priority, and then alphabetically by 'standardized_drug_name'\n",
    "sorted_unique_levels = sorted_unique_levels.orderBy(\n",
    "    col(\"sort_priority\"), \n",
    "    col(\"standardized_drug_name\").asc()\n",
    ")\n",
    "\n",
    "# Drop priority sort column so we can use for new cases\n",
    "sorted_unique_levels = sorted_unique_levels.drop(\"sort_priority\")\n",
    "\n",
    "# Show the sorted DataFrame\n",
    "sorted_unique_levels.show(n=20)  # Adjust 'n' to display more or fewer results"
   ]
  },
  {
   "cell_type": "code",
   "execution_count": 160,
   "id": "6518e702",
   "metadata": {
    "execution": {
     "iopub.execute_input": "2024-12-24T17:24:48.620554Z",
     "iopub.status.busy": "2024-12-24T17:24:48.620332Z",
     "iopub.status.idle": "2024-12-24T17:24:48.672450Z",
     "shell.execute_reply": "2024-12-24T17:24:48.671763Z",
     "shell.execute_reply.started": "2024-12-24T17:24:48.620494Z"
    },
    "tags": []
   },
   "outputs": [
    {
     "data": {
      "application/vnd.jupyter.widget-view+json": {
       "model_id": "085b1aacda784c86973645e1ecb6a58e",
       "version_major": 2,
       "version_minor": 0
      },
      "text/plain": [
       "VBox()"
      ]
     },
     "metadata": {},
     "output_type": "display_data"
    },
    {
     "data": {
      "application/vnd.jupyter.widget-view+json": {
       "model_id": "",
       "version_major": 2,
       "version_minor": 0
      },
      "text/plain": [
       "FloatProgress(value=0.0, bar_style='info', description='Progress:', layout=Layout(height='25px', width='50%'),…"
      ]
     },
     "metadata": {},
     "output_type": "display_data"
    }
   ],
   "source": [
    "# G drug names\n",
    "\n",
    "consolidations_g = {\n",
    "    'gentamicin_topical': 'gentamicin',\n",
    "    'genvoya': 'elvitegravir+cobicistat+emtricitabine+tenofovir_alafenamide',\n",
    "    'gilenya': 'fingolimod',\n",
    "    'glatiramer_acetate': 'glatiramer',\n",
    "    'glucophage': 'metformin',\n",
    "    'glyxambi': 'empagliflozin+linagliptin',\n",
    "    'gnp_mucus_er': 'guaifenesin',\n",
    "    'gnp_acetylsalicylic_acidirin_low_dose': 'acetylsalicylic_acid',\n",
    "    'gnp_acetylsalicylic_acidirin': 'acetylsalicylic_acid',\n",
    "    'gnp_tussin_dm_cough': 'guaifenesin+dextromethorphan',\n",
    "    'gnp_loratadine': 'loratadine',\n",
    "    'gnp_lancets_thin_26g': 'not_drug',\n",
    "    'glatopa': 'glatiramer',\n",
    "    'glucotrol': 'glipizide',\n",
    "    'glycolax': 'polyethylene_glycol_3350',\n",
    "    'glyxambi': 'empagliflozin+linagliptin',\n",
    "    'gocovri': 'amantadine',\n",
    "    'golytely': 'polyethylene_glycol_3350+electrolytes',\n",
    "    'gvoke_hypopen': 'glucagon',\n",
    "    'guanfacine_hcl': 'guanfacine',\n",
    "    'guanfacine_er': 'guanfacine+er',\n",
    "    'guanfacine_hydrochloride': 'guanfacine'\n",
    "}"
   ]
  },
  {
   "cell_type": "code",
   "execution_count": 161,
   "id": "0ef0c00d",
   "metadata": {
    "execution": {
     "iopub.execute_input": "2024-12-24T17:24:48.677687Z",
     "iopub.status.busy": "2024-12-24T17:24:48.677508Z",
     "iopub.status.idle": "2024-12-24T17:24:48.947853Z",
     "shell.execute_reply": "2024-12-24T17:24:48.947187Z",
     "shell.execute_reply.started": "2024-12-24T17:24:48.677662Z"
    },
    "tags": []
   },
   "outputs": [
    {
     "data": {
      "application/vnd.jupyter.widget-view+json": {
       "model_id": "1e5a47b0349048ac8d778ac32418cff4",
       "version_major": 2,
       "version_minor": 0
      },
      "text/plain": [
       "VBox()"
      ]
     },
     "metadata": {},
     "output_type": "display_data"
    },
    {
     "data": {
      "application/vnd.jupyter.widget-view+json": {
       "model_id": "",
       "version_major": 2,
       "version_minor": 0
      },
      "text/plain": [
       "FloatProgress(value=0.0, bar_style='info', description='Progress:', layout=Layout(height='25px', width='50%'),…"
      ]
     },
     "metadata": {},
     "output_type": "display_data"
    }
   ],
   "source": [
    "clean_df = replace_values_with_mapping(clean_df, 'standardized_drug_name', consolidations_g)"
   ]
  },
  {
   "cell_type": "code",
   "execution_count": 162,
   "id": "e6bc4cf7",
   "metadata": {
    "execution": {
     "iopub.execute_input": "2024-12-24T17:24:48.952091Z",
     "iopub.status.busy": "2024-12-24T17:24:48.951700Z",
     "iopub.status.idle": "2024-12-24T17:24:58.304933Z",
     "shell.execute_reply": "2024-12-24T17:24:58.304059Z",
     "shell.execute_reply.started": "2024-12-24T17:24:48.952049Z"
    },
    "tags": []
   },
   "outputs": [
    {
     "data": {
      "application/vnd.jupyter.widget-view+json": {
       "model_id": "35fc0d5cb3b949cc96a9832f80faee45",
       "version_major": 2,
       "version_minor": 0
      },
      "text/plain": [
       "VBox()"
      ]
     },
     "metadata": {},
     "output_type": "display_data"
    },
    {
     "data": {
      "application/vnd.jupyter.widget-view+json": {
       "model_id": "",
       "version_major": 2,
       "version_minor": 0
      },
      "text/plain": [
       "FloatProgress(value=0.0, bar_style='info', description='Progress:', layout=Layout(height='25px', width='50%'),…"
      ]
     },
     "metadata": {},
     "output_type": "display_data"
    },
    {
     "name": "stdout",
     "output_type": "stream",
     "text": [
      "+-------------+----------+----------+--------------------+----+---------------+----------------------+\n",
      "|mi_person_key| drug_date|  ADE_Date|           drug_name|Year|Hospitalization|standardized_drug_name|\n",
      "+-------------+----------+----------+--------------------+----+---------------+----------------------+\n",
      "|   1002620014|2020-06-02|2020-06-09|g4 platinum recei...|2020|              0|  g4_platinum_recei...|\n",
      "|   1002620014|2020-06-02|2020-07-03|g4 platinum recei...|2020|              0|  g4_platinum_recei...|\n",
      "|   1002620014|2020-06-02|2020-07-09|g4 platinum recei...|2020|              0|  g4_platinum_recei...|\n",
      "|   1009068435|2018-01-30|2018-02-13|         g tussin ac|2018|              0|           g_tussin_ac|\n",
      "|   1019800590|2018-06-14|2018-07-05|         g tussin ac|2018|              0|           g_tussin_ac|\n",
      "|   1009068435|2018-01-30|2018-02-20|         g tussin ac|2018|              0|           g_tussin_ac|\n",
      "|   1006566906|2018-02-13|2018-02-13|         g tussin ac|2018|              0|           g_tussin_ac|\n",
      "|   1009068435|2018-01-30|2018-02-22|         g tussin ac|2018|              0|           g_tussin_ac|\n",
      "|   1004190164|2018-08-31|2018-08-31|         g tussin ac|2018|              0|           g_tussin_ac|\n",
      "|   1009068435|2018-01-30|2018-01-30|         g tussin ac|2018|              0|           g_tussin_ac|\n",
      "|   1006566906|2018-02-13|2018-03-01|         g tussin ac|2018|              0|           g_tussin_ac|\n",
      "|   1009068435|2018-01-30|2018-03-01|         g tussin ac|2018|              0|           g_tussin_ac|\n",
      "|   1000193218|2018-02-08|2018-02-15|         g tussin ac|2018|              0|           g_tussin_ac|\n",
      "|   1009068435|2018-01-30|2018-03-15|         g tussin ac|2018|              0|           g_tussin_ac|\n",
      "|   1004190164|2018-08-31|2018-09-10|         g tussin ac|2018|              0|           g_tussin_ac|\n",
      "|   1009068435|2018-01-30|2018-02-26|         g tussin ac|2018|              0|           g_tussin_ac|\n",
      "|   1002791319|2018-03-23|2018-03-23|         g tussin ac|2018|              0|           g_tussin_ac|\n",
      "|   1004190164|2018-08-31|2018-10-15|         g tussin ac|2018|              0|           g_tussin_ac|\n",
      "|   1000193218|2018-02-08|2018-03-08|         g tussin ac|2018|              0|           g_tussin_ac|\n",
      "|   1001969170|2019-02-18|2019-02-18|         g tussin ac|2019|              0|           g_tussin_ac|\n",
      "+-------------+----------+----------+--------------------+----+---------------+----------------------+\n",
      "only showing top 20 rows"
     ]
    }
   ],
   "source": [
    "from pyspark.sql.functions import asc\n",
    "\n",
    "# Add a custom sort column that prioritizes names starting with 'g'\n",
    "sorted_unique_levels = clean_df.withColumn(\n",
    "    \"sort_priority\",\n",
    "    when(col(\"standardized_drug_name\").startswith(\"g\"), 0).otherwise(1)\n",
    ")\n",
    "\n",
    "# Sort by the custom sort priority, and then alphabetically by 'standardized_drug_name'\n",
    "sorted_unique_levels = sorted_unique_levels.orderBy(\n",
    "    col(\"sort_priority\"), \n",
    "    col(\"standardized_drug_name\").asc()\n",
    ")\n",
    "\n",
    "# Drop priority sort column so we can use for new cases\n",
    "sorted_unique_levels = sorted_unique_levels.drop(\"sort_priority\")\n",
    "\n",
    "# Show the sorted DataFrame\n",
    "sorted_unique_levels.show(n=20)  # Adjust 'n' to display more or fewer results"
   ]
  },
  {
   "cell_type": "code",
   "execution_count": 163,
   "id": "e1fc64a3",
   "metadata": {
    "execution": {
     "iopub.execute_input": "2024-12-24T17:24:58.306872Z",
     "iopub.status.busy": "2024-12-24T17:24:58.306105Z",
     "iopub.status.idle": "2024-12-24T17:24:58.375736Z",
     "shell.execute_reply": "2024-12-24T17:24:58.374084Z",
     "shell.execute_reply.started": "2024-12-24T17:24:58.306831Z"
    },
    "tags": []
   },
   "outputs": [
    {
     "data": {
      "application/vnd.jupyter.widget-view+json": {
       "model_id": "85b94176927545e286bc7b182a073d9c",
       "version_major": 2,
       "version_minor": 0
      },
      "text/plain": [
       "VBox()"
      ]
     },
     "metadata": {},
     "output_type": "display_data"
    },
    {
     "data": {
      "application/vnd.jupyter.widget-view+json": {
       "model_id": "",
       "version_major": 2,
       "version_minor": 0
      },
      "text/plain": [
       "FloatProgress(value=0.0, bar_style='info', description='Progress:', layout=Layout(height='25px', width='50%'),…"
      ]
     },
     "metadata": {},
     "output_type": "display_data"
    }
   ],
   "source": [
    "# H drug names\n",
    "\n",
    "consolidations_h = {\n",
    "    'harvoni': 'ledipasvir+sofosbuvir',\n",
    "    'humira': 'adalimumab',\n",
    "    'hydrocortisone+acetate+pramoxine': 'hydrocortisone+pramoxine',\n",
    "    'hydrocodone_bitartrate_er': 'hydrocodone+er',\n",
    "    'hydromorphone_hcl_er': 'hydromorphone+er',\n",
    "    'hydroxychloroquine_sulfat': 'hydroxychloroquine',\n",
    "    'humulin_70/30': 'insulin_nph',\n",
    "    'humulin_70/30_kwikpen': 'insulin_nph',\n",
    "    'humulin_n': 'insulin_nph',\n",
    "    'humulin_n_kwikpen': 'insulin_nph',\n",
    "    'humulin_r_u-500': 'insulin_regular',\n",
    "    'halobetasol_propionate': 'halobetasol',\n",
    "    'heparin_lock': 'heparin',\n",
    "    'heparin_lock_flush+sodium_chloride': 'heparin+sodium_chloride',\n",
    "    'humatrope_combo_pack': 'somatropin',\n",
    "    'hurricaine_one': 'benzocaine',\n",
    "    'hydramine': 'diphenhydramine',\n",
    "    'hydroxypropyl_methylcellu': 'hydroxypropyl_methylcellulose',\n",
    "    'h-chlor_12': 'chlorpheniramine',\n",
    "    'hemangeol': 'propranolol'\n",
    "}\n"
   ]
  },
  {
   "cell_type": "code",
   "execution_count": 164,
   "id": "e437ee4d",
   "metadata": {
    "execution": {
     "iopub.execute_input": "2024-12-24T17:24:58.380763Z",
     "iopub.status.busy": "2024-12-24T17:24:58.380396Z",
     "iopub.status.idle": "2024-12-24T17:24:58.639954Z",
     "shell.execute_reply": "2024-12-24T17:24:58.638914Z",
     "shell.execute_reply.started": "2024-12-24T17:24:58.380723Z"
    },
    "tags": []
   },
   "outputs": [
    {
     "data": {
      "application/vnd.jupyter.widget-view+json": {
       "model_id": "92319d0268054a29938a2103882cefb3",
       "version_major": 2,
       "version_minor": 0
      },
      "text/plain": [
       "VBox()"
      ]
     },
     "metadata": {},
     "output_type": "display_data"
    },
    {
     "data": {
      "application/vnd.jupyter.widget-view+json": {
       "model_id": "",
       "version_major": 2,
       "version_minor": 0
      },
      "text/plain": [
       "FloatProgress(value=0.0, bar_style='info', description='Progress:', layout=Layout(height='25px', width='50%'),…"
      ]
     },
     "metadata": {},
     "output_type": "display_data"
    }
   ],
   "source": [
    "clean_df = replace_values_with_mapping(clean_df, 'standardized_drug_name', consolidations_h)"
   ]
  },
  {
   "cell_type": "code",
   "execution_count": 165,
   "id": "d524da2b",
   "metadata": {
    "execution": {
     "iopub.execute_input": "2024-12-24T17:24:58.645102Z",
     "iopub.status.busy": "2024-12-24T17:24:58.642855Z",
     "iopub.status.idle": "2024-12-24T17:25:05.978395Z",
     "shell.execute_reply": "2024-12-24T17:25:05.977698Z",
     "shell.execute_reply.started": "2024-12-24T17:24:58.645061Z"
    },
    "tags": []
   },
   "outputs": [
    {
     "data": {
      "application/vnd.jupyter.widget-view+json": {
       "model_id": "5f4249bdfe84449d9e0ef323560e73c1",
       "version_major": 2,
       "version_minor": 0
      },
      "text/plain": [
       "VBox()"
      ]
     },
     "metadata": {},
     "output_type": "display_data"
    },
    {
     "data": {
      "application/vnd.jupyter.widget-view+json": {
       "model_id": "",
       "version_major": 2,
       "version_minor": 0
      },
      "text/plain": [
       "FloatProgress(value=0.0, bar_style='info', description='Progress:', layout=Layout(height='25px', width='50%'),…"
      ]
     },
     "metadata": {},
     "output_type": "display_data"
    },
    {
     "name": "stdout",
     "output_type": "stream",
     "text": [
      "+-------------+----------+----------+--------------------+----+---------------+----------------------+\n",
      "|mi_person_key| drug_date|  ADE_Date|           drug_name|Year|Hospitalization|standardized_drug_name|\n",
      "+-------------+----------+----------+--------------------+----+---------------+----------------------+\n",
      "|   1003621617|2017-02-10|2017-02-10|quintet glucose c...|2017|              0|  h+quintet_glucose...|\n",
      "|   1003621617|2017-02-13|2017-03-02|quintet glucose c...|2017|              0|  h+quintet_glucose...|\n",
      "|   1003621617|2017-02-10|2017-03-02|quintet glucose c...|2017|              0|  h+quintet_glucose...|\n",
      "|   1003621617|2017-02-14|2017-03-02|quintet glucose c...|2017|              0|  h+quintet_glucose...|\n",
      "|   1003621617|2017-02-10|2017-02-12|quintet glucose c...|2017|              0|  h+quintet_glucose...|\n",
      "|   1003621617|2017-02-10|2017-02-11|quintet glucose c...|2017|              0|  h+quintet_glucose...|\n",
      "|   1016906917|2020-10-30|2020-11-06|h-r lubricating j...|2020|              0|  h-r_lubricating_j...|\n",
      "|   1016906917|2020-06-08|2020-07-03|h-r lubricating j...|2020|              0|  h-r_lubricating_j...|\n",
      "|   1016906917|2020-06-08|2020-06-15|h-r lubricating j...|2020|              0|  h-r_lubricating_j...|\n",
      "|   1016906917|2020-06-09|2020-07-03|h-r lubricating j...|2020|              0|  h-r_lubricating_j...|\n",
      "|   1016906917|2020-10-30|2020-12-02|h-r lubricating j...|2020|              0|  h-r_lubricating_j...|\n",
      "|   1016906917|2020-06-09|2020-06-15|h-r lubricating j...|2020|              0|  h-r_lubricating_j...|\n",
      "|   1016906917|2020-06-08|2020-07-01|h-r lubricating j...|2020|              0|  h-r_lubricating_j...|\n",
      "|   1016906917|2020-06-09|2020-07-01|h-r lubricating j...|2020|              0|  h-r_lubricating_j...|\n",
      "|   1016906917|2020-06-08|2020-06-24|h-r lubricating j...|2020|              0|  h-r_lubricating_j...|\n",
      "|   1016906917|2020-06-09|2020-06-24|h-r lubricating j...|2020|              0|  h-r_lubricating_j...|\n",
      "|   1016906917|2020-06-08|2020-07-02|h-r lubricating j...|2020|              0|  h-r_lubricating_j...|\n",
      "|   1016906917|2020-06-09|2020-07-02|h-r lubricating j...|2020|              0|  h-r_lubricating_j...|\n",
      "|   1016906917|2020-06-08|2020-07-04|h-r lubricating j...|2020|              0|  h-r_lubricating_j...|\n",
      "|   1016906917|2020-06-09|2020-07-04|h-r lubricating j...|2020|              0|  h-r_lubricating_j...|\n",
      "+-------------+----------+----------+--------------------+----+---------------+----------------------+\n",
      "only showing top 20 rows"
     ]
    }
   ],
   "source": [
    "from pyspark.sql.functions import asc\n",
    "\n",
    "# Add a custom sort column that prioritizes names starting with 'h'\n",
    "sorted_unique_levels = clean_df.withColumn(\n",
    "    \"sort_priority\",\n",
    "    when(col(\"standardized_drug_name\").startswith(\"h\"), 0).otherwise(1)\n",
    ")\n",
    "\n",
    "# Sort by the custom sort priority, and then alphabetically by 'standardized_drug_name'\n",
    "sorted_unique_levels = sorted_unique_levels.orderBy(\n",
    "    col(\"sort_priority\"), \n",
    "    col(\"standardized_drug_name\").asc()\n",
    ")\n",
    "\n",
    "# Drop priority sort column so we can use for new cases\n",
    "sorted_unique_levels = sorted_unique_levels.drop(\"sort_priority\")\n",
    "\n",
    "# Show the sorted DataFrame\n",
    "sorted_unique_levels.show(n=20)  # Adjust 'n' to display more or fewer results"
   ]
  },
  {
   "cell_type": "code",
   "execution_count": 166,
   "id": "28f69c90",
   "metadata": {
    "execution": {
     "iopub.execute_input": "2024-12-24T17:25:05.979681Z",
     "iopub.status.busy": "2024-12-24T17:25:05.979504Z",
     "iopub.status.idle": "2024-12-24T17:25:06.033905Z",
     "shell.execute_reply": "2024-12-24T17:25:06.033318Z",
     "shell.execute_reply.started": "2024-12-24T17:25:05.979658Z"
    },
    "tags": []
   },
   "outputs": [
    {
     "data": {
      "application/vnd.jupyter.widget-view+json": {
       "model_id": "9d3e19434ef04e67a60dea6eb95597cb",
       "version_major": 2,
       "version_minor": 0
      },
      "text/plain": [
       "VBox()"
      ]
     },
     "metadata": {},
     "output_type": "display_data"
    },
    {
     "data": {
      "application/vnd.jupyter.widget-view+json": {
       "model_id": "",
       "version_major": 2,
       "version_minor": 0
      },
      "text/plain": [
       "FloatProgress(value=0.0, bar_style='info', description='Progress:', layout=Layout(height='25px', width='50%'),…"
      ]
     },
     "metadata": {},
     "output_type": "display_data"
    }
   ],
   "source": [
    "# I drug names\n",
    "\n",
    "consolidations_i = {\n",
    "    'imodium': 'loperamide',\n",
    "    'ibu': 'ibuprofen',\n",
    "    'ibu-200': 'ibuprofen',\n",
    "    'ibu-drops': 'ibuprofen',\n",
    "    'ibu-drops_infants': 'ibuprofen',\n",
    "    'insulin_aspart': 'insulin_aspart',\n",
    "    'insulin_degludec': 'insulin_degludec',\n",
    "    'insulin_detemir': 'insulin_detemir',\n",
    "    'insulin_glargine': 'insulin_glargine',\n",
    "    'insulin_lispro': 'insulin_lispro',\n",
    "    'insulin_regular': 'insulin_regular',\n",
    "    'ibrance': 'palbociclib',\n",
    "    'iclusig': 'ponatinib',\n",
    "    'idhifa': 'enasidenib',\n",
    "    'ilumya': 'tildrakizumab',\n",
    "    'imbruvica': 'ibrutinib',\n",
    "    'imdur': 'isosorbide_mononitrate',\n",
    "    'imfinzi': 'durvalumab',\n",
    "    'imitrex': 'sumatriptan',\n",
    "    'impoyz': 'clobetasol',\n",
    "    'imuran': 'azathioprine',\n",
    "    'inbrija': 'levodopa',\n",
    "    'incruse_ellipta': 'umeclidinium',\n",
    "    'inderal': 'propranolol',\n",
    "    'indocin': 'indomethacin',\n",
    "    'inflectra': 'infliximab',\n",
    "    'ingrezza': 'valbenazine',\n",
    "    'injectafer': 'ferric_carboxymaltose',\n",
    "    'inlyta': 'axitinib',\n",
    "    'inrebic': 'fedratinib',\n",
    "    'intuniv': 'guanfacine',\n",
    "    'invega': 'paliperidone',\n",
    "    'invokana': 'canagliflozin'\n",
    "}\n"
   ]
  },
  {
   "cell_type": "code",
   "execution_count": 167,
   "id": "54225b77",
   "metadata": {
    "execution": {
     "iopub.execute_input": "2024-12-24T17:25:06.035298Z",
     "iopub.status.busy": "2024-12-24T17:25:06.034763Z",
     "iopub.status.idle": "2024-12-24T17:25:06.292369Z",
     "shell.execute_reply": "2024-12-24T17:25:06.291490Z",
     "shell.execute_reply.started": "2024-12-24T17:25:06.035268Z"
    },
    "tags": []
   },
   "outputs": [
    {
     "data": {
      "application/vnd.jupyter.widget-view+json": {
       "model_id": "baccb1e4a8764f699b6b96bead79574f",
       "version_major": 2,
       "version_minor": 0
      },
      "text/plain": [
       "VBox()"
      ]
     },
     "metadata": {},
     "output_type": "display_data"
    },
    {
     "data": {
      "application/vnd.jupyter.widget-view+json": {
       "model_id": "",
       "version_major": 2,
       "version_minor": 0
      },
      "text/plain": [
       "FloatProgress(value=0.0, bar_style='info', description='Progress:', layout=Layout(height='25px', width='50%'),…"
      ]
     },
     "metadata": {},
     "output_type": "display_data"
    }
   ],
   "source": [
    "clean_df = replace_values_with_mapping(clean_df, 'standardized_drug_name', consolidations_i)"
   ]
  },
  {
   "cell_type": "code",
   "execution_count": 168,
   "id": "ed0e1cd4",
   "metadata": {
    "execution": {
     "iopub.execute_input": "2024-12-24T17:25:06.293666Z",
     "iopub.status.busy": "2024-12-24T17:25:06.293297Z",
     "iopub.status.idle": "2024-12-24T17:25:13.592041Z",
     "shell.execute_reply": "2024-12-24T17:25:13.591170Z",
     "shell.execute_reply.started": "2024-12-24T17:25:06.293629Z"
    },
    "tags": []
   },
   "outputs": [
    {
     "data": {
      "application/vnd.jupyter.widget-view+json": {
       "model_id": "66c44bf4caee4e75b0264f8f1b2f4770",
       "version_major": 2,
       "version_minor": 0
      },
      "text/plain": [
       "VBox()"
      ]
     },
     "metadata": {},
     "output_type": "display_data"
    },
    {
     "data": {
      "application/vnd.jupyter.widget-view+json": {
       "model_id": "",
       "version_major": 2,
       "version_minor": 0
      },
      "text/plain": [
       "FloatProgress(value=0.0, bar_style='info', description='Progress:', layout=Layout(height='25px', width='50%'),…"
      ]
     },
     "metadata": {},
     "output_type": "display_data"
    },
    {
     "name": "stdout",
     "output_type": "stream",
     "text": [
      "+-------------+----------+----------+--------------------+----+---------------+----------------------+\n",
      "|mi_person_key| drug_date|  ADE_Date|           drug_name|Year|Hospitalization|standardized_drug_name|\n",
      "+-------------+----------+----------+--------------------+----+---------------+----------------------+\n",
      "|   1010249221|2020-06-01|2020-06-22|similac neosure a...|2020|              0|  i+similac_neosure...|\n",
      "|   1008064837|2018-02-21|2018-04-03|similac neosure a...|2018|              0|  i+similac_neosure...|\n",
      "|   1010249221|2020-06-01|2020-06-30|similac neosure a...|2020|              0|  i+similac_neosure...|\n",
      "|   1008064837|2018-02-21|2018-04-05|similac neosure a...|2018|              0|  i+similac_neosure...|\n",
      "|   1010249221|2020-06-01|2020-06-05|similac neosure a...|2020|              0|  i+similac_neosure...|\n",
      "|   1008064837|2018-02-21|2018-03-16|similac neosure a...|2018|              0|  i+similac_neosure...|\n",
      "|   1008064837|2018-02-21|2018-03-07|similac neosure a...|2018|              0|  i+similac_neosure...|\n",
      "|   1008064837|2018-02-21|2018-03-15|similac neosure a...|2018|              0|  i+similac_neosure...|\n",
      "|   1008064837|2018-02-21|2018-02-23|similac neosure a...|2018|              0|  i+similac_neosure...|\n",
      "|   1008064837|2018-02-21|2018-03-29|similac neosure a...|2018|              0|  i+similac_neosure...|\n",
      "|   1008064837|2018-02-21|2018-03-02|similac neosure a...|2018|              0|  i+similac_neosure...|\n",
      "|   1000219837|2016-11-17|2016-11-17|           ibuprofen|2016|              0|             ibuprofen|\n",
      "|   1000248949|2018-01-11|2018-01-23|           ibuprofen|2018|              0|             ibuprofen|\n",
      "|   1000773415|2016-05-10|2016-05-10|           ibuprofen|2016|              0|             ibuprofen|\n",
      "|   1000209146|2018-05-15|2018-05-15|           ibuprofen|2018|              0|             ibuprofen|\n",
      "|   1000259911|2016-11-23|2016-11-23|           ibuprofen|2016|              0|             ibuprofen|\n",
      "|   1000473563|2018-02-21|2018-03-06|           ibuprofen|2018|              0|             ibuprofen|\n",
      "|   1000022819|2016-04-14|2016-04-20|           ibuprofen|2016|              0|             ibuprofen|\n",
      "|   1000058935|2016-09-20|2016-09-26|           ibuprofen|2016|              0|             ibuprofen|\n",
      "|   1000259911|2016-02-22|2016-02-26|           ibuprofen|2016|              0|             ibuprofen|\n",
      "+-------------+----------+----------+--------------------+----+---------------+----------------------+\n",
      "only showing top 20 rows"
     ]
    }
   ],
   "source": [
    "from pyspark.sql.functions import asc\n",
    "\n",
    "# Add a custom sort column that prioritizes names starting with 'i'\n",
    "sorted_unique_levels = clean_df.withColumn(\n",
    "    \"sort_priority\",\n",
    "    when(col(\"standardized_drug_name\").startswith(\"i\"), 0).otherwise(1)\n",
    ")\n",
    "\n",
    "# Sort by the custom sort priority, and then alphabetically by 'standardized_drug_name'\n",
    "sorted_unique_levels = sorted_unique_levels.orderBy(\n",
    "    col(\"sort_priority\"), \n",
    "    col(\"standardized_drug_name\").asc()\n",
    ")\n",
    "\n",
    "# Drop priority sort column so we can use for new cases\n",
    "sorted_unique_levels = sorted_unique_levels.drop(\"sort_priority\")\n",
    "\n",
    "# Show the sorted DataFrame\n",
    "sorted_unique_levels.show(n=20)  # Adjust 'n' to display more or fewer results"
   ]
  },
  {
   "cell_type": "code",
   "execution_count": 169,
   "id": "ecae8cf8",
   "metadata": {
    "execution": {
     "iopub.execute_input": "2024-12-24T17:25:13.593994Z",
     "iopub.status.busy": "2024-12-24T17:25:13.593735Z",
     "iopub.status.idle": "2024-12-24T17:25:13.648666Z",
     "shell.execute_reply": "2024-12-24T17:25:13.647907Z",
     "shell.execute_reply.started": "2024-12-24T17:25:13.593958Z"
    },
    "tags": []
   },
   "outputs": [
    {
     "data": {
      "application/vnd.jupyter.widget-view+json": {
       "model_id": "65c5156f1e3b45b98c52658ad33a5116",
       "version_major": 2,
       "version_minor": 0
      },
      "text/plain": [
       "VBox()"
      ]
     },
     "metadata": {},
     "output_type": "display_data"
    },
    {
     "data": {
      "application/vnd.jupyter.widget-view+json": {
       "model_id": "",
       "version_major": 2,
       "version_minor": 0
      },
      "text/plain": [
       "FloatProgress(value=0.0, bar_style='info', description='Progress:', layout=Layout(height='25px', width='50%'),…"
      ]
     },
     "metadata": {},
     "output_type": "display_data"
    }
   ],
   "source": [
    "# J drug names\n",
    "\n",
    "consolidations_j = {\n",
    "    'januvia': 'sitagliptin',\n",
    "    'jornay_pm': 'methylphenidate',\n",
    "    'jublia': 'efinaconazole',\n",
    "    'junel_fe_24': 'ethinyl_estradiol+norethindrone+iron',\n",
    "    'jardiance': 'empagliflozin',\n",
    "    'jantoven': 'warfarin',\n",
    "    'janumet': 'sitagliptin+metformin',\n",
    "    'jakafi': 'ruxolitinib',\n",
    "    'jadenu': 'deferasirox',\n",
    "    'jentadueto': 'linagliptin+metformin',\n",
    "    'jevtana': 'cabazitaxel',\n",
    "    'jencycla': 'norethindrone',\n",
    "    'juluca': 'dolutegravir+rilpivirine',\n",
    "    'junel_fe_1/20': 'ethinyl_estradiol+norethindrone+iron',\n",
    "    'junel_fe_1.5/30': 'ethinyl_estradiol+norethindrone+iron',\n",
    "    'junel_1/20': 'ethinyl_estradiol+norethindrone',\n",
    "    'junel_1.5/30': 'ethinyl_estradiol+norethindrone',\n",
    "    'jinteli': 'ethinyl_estradiol+norethindrone'\n",
    "}"
   ]
  },
  {
   "cell_type": "code",
   "execution_count": 170,
   "id": "838cccd5",
   "metadata": {
    "execution": {
     "iopub.execute_input": "2024-12-24T17:25:13.650055Z",
     "iopub.status.busy": "2024-12-24T17:25:13.649872Z",
     "iopub.status.idle": "2024-12-24T17:25:13.903148Z",
     "shell.execute_reply": "2024-12-24T17:25:13.902422Z",
     "shell.execute_reply.started": "2024-12-24T17:25:13.650029Z"
    },
    "tags": []
   },
   "outputs": [
    {
     "data": {
      "application/vnd.jupyter.widget-view+json": {
       "model_id": "7c592319f1024fdaae725ea6202ce980",
       "version_major": 2,
       "version_minor": 0
      },
      "text/plain": [
       "VBox()"
      ]
     },
     "metadata": {},
     "output_type": "display_data"
    },
    {
     "data": {
      "application/vnd.jupyter.widget-view+json": {
       "model_id": "",
       "version_major": 2,
       "version_minor": 0
      },
      "text/plain": [
       "FloatProgress(value=0.0, bar_style='info', description='Progress:', layout=Layout(height='25px', width='50%'),…"
      ]
     },
     "metadata": {},
     "output_type": "display_data"
    }
   ],
   "source": [
    "clean_df = replace_values_with_mapping(clean_df, 'standardized_drug_name', consolidations_j)"
   ]
  },
  {
   "cell_type": "code",
   "execution_count": 171,
   "id": "ee074ec7",
   "metadata": {
    "execution": {
     "iopub.execute_input": "2024-12-24T17:25:13.904562Z",
     "iopub.status.busy": "2024-12-24T17:25:13.904309Z",
     "iopub.status.idle": "2024-12-24T17:25:21.199997Z",
     "shell.execute_reply": "2024-12-24T17:25:21.199364Z",
     "shell.execute_reply.started": "2024-12-24T17:25:13.904525Z"
    },
    "tags": []
   },
   "outputs": [
    {
     "data": {
      "application/vnd.jupyter.widget-view+json": {
       "model_id": "52eaedec6a504cb0b1f2c979cbf492a6",
       "version_major": 2,
       "version_minor": 0
      },
      "text/plain": [
       "VBox()"
      ]
     },
     "metadata": {},
     "output_type": "display_data"
    },
    {
     "data": {
      "application/vnd.jupyter.widget-view+json": {
       "model_id": "",
       "version_major": 2,
       "version_minor": 0
      },
      "text/plain": [
       "FloatProgress(value=0.0, bar_style='info', description='Progress:', layout=Layout(height='25px', width='50%'),…"
      ]
     },
     "metadata": {},
     "output_type": "display_data"
    },
    {
     "name": "stdout",
     "output_type": "stream",
     "text": [
      "+-------------+----------+----------+---------------+----+---------------+----------------------+\n",
      "|mi_person_key| drug_date|  ADE_Date|      drug_name|Year|Hospitalization|standardized_drug_name|\n",
      "+-------------+----------+----------+---------------+----+---------------+----------------------+\n",
      "|   1011549721|2020-07-13|2020-07-28|jadenu sprinkle|2020|              0|       jadenu_sprinkle|\n",
      "|   1000258842|2018-02-26|2018-04-07|jadenu sprinkle|2018|              0|       jadenu_sprinkle|\n",
      "|   1002826350|2018-02-09|2018-03-22|jadenu sprinkle|2018|              0|       jadenu_sprinkle|\n",
      "|   1000258842|2018-01-31|2018-02-14|jadenu sprinkle|2018|              0|       jadenu_sprinkle|\n",
      "|   1000258842|2017-12-07|2017-12-29|jadenu sprinkle|2017|              0|       jadenu_sprinkle|\n",
      "|   1000258842|2018-01-22|2018-02-13|jadenu sprinkle|2018|              0|       jadenu_sprinkle|\n",
      "|   1002826350|2018-02-09|2018-02-25|jadenu sprinkle|2018|              0|       jadenu_sprinkle|\n",
      "|   1000258842|2018-01-02|2018-01-21|jadenu sprinkle|2018|              0|       jadenu_sprinkle|\n",
      "|   1008983561|2018-07-10|2018-08-09|jadenu sprinkle|2018|              0|       jadenu_sprinkle|\n",
      "|   1000258842|2017-12-07|2018-01-21|jadenu sprinkle|2018|              0|       jadenu_sprinkle|\n",
      "|   1002826350|2018-02-09|2018-02-22|jadenu sprinkle|2018|              0|       jadenu_sprinkle|\n",
      "|   1000258842|2017-12-07|2018-01-02|jadenu sprinkle|2018|              0|       jadenu_sprinkle|\n",
      "|   1000258842|2017-12-06|2017-12-29|jadenu sprinkle|2017|              0|       jadenu_sprinkle|\n",
      "|   1000258842|2018-01-22|2018-02-14|jadenu sprinkle|2018|              0|       jadenu_sprinkle|\n",
      "|   1002826350|2018-02-09|2018-02-23|jadenu sprinkle|2018|              0|       jadenu_sprinkle|\n",
      "|   1000258842|2017-12-06|2018-01-02|jadenu sprinkle|2018|              0|       jadenu_sprinkle|\n",
      "|   1000193616|2020-08-17|2020-08-26|jadenu sprinkle|2020|              0|       jadenu_sprinkle|\n",
      "|   1000258842|2018-01-02|2018-02-13|jadenu sprinkle|2018|              0|       jadenu_sprinkle|\n",
      "|   1002826350|2018-02-09|2018-02-09|jadenu sprinkle|2018|              0|       jadenu_sprinkle|\n",
      "|   1000258842|2018-01-22|2018-02-22|jadenu sprinkle|2018|              0|       jadenu_sprinkle|\n",
      "+-------------+----------+----------+---------------+----+---------------+----------------------+\n",
      "only showing top 20 rows"
     ]
    }
   ],
   "source": [
    "from pyspark.sql.functions import asc\n",
    "\n",
    "# Add a custom sort column that prioritizes names starting with 'j'\n",
    "sorted_unique_levels = clean_df.withColumn(\n",
    "    \"sort_priority\",\n",
    "    when(col(\"standardized_drug_name\").startswith(\"j\"), 0).otherwise(1)\n",
    ")\n",
    "\n",
    "# Sort by the custom sort priority, and then alphabetically by 'standardized_drug_name'\n",
    "sorted_unique_levels = sorted_unique_levels.orderBy(\n",
    "    col(\"sort_priority\"), \n",
    "    col(\"standardized_drug_name\").asc()\n",
    ")\n",
    "\n",
    "# Drop priority sort column so we can use for new cases\n",
    "sorted_unique_levels = sorted_unique_levels.drop(\"sort_priority\")\n",
    "\n",
    "# Show the sorted DataFrame\n",
    "sorted_unique_levels.show(n=20)  # Adjust 'n' to display more or fewer results"
   ]
  },
  {
   "cell_type": "code",
   "execution_count": 172,
   "id": "276b1ffb",
   "metadata": {
    "execution": {
     "iopub.execute_input": "2024-12-24T17:25:21.201132Z",
     "iopub.status.busy": "2024-12-24T17:25:21.200817Z",
     "iopub.status.idle": "2024-12-24T17:25:21.249792Z",
     "shell.execute_reply": "2024-12-24T17:25:21.249078Z",
     "shell.execute_reply.started": "2024-12-24T17:25:21.201105Z"
    },
    "tags": []
   },
   "outputs": [
    {
     "data": {
      "application/vnd.jupyter.widget-view+json": {
       "model_id": "a1715a3ace424a99865998ad05e05fed",
       "version_major": 2,
       "version_minor": 0
      },
      "text/plain": [
       "VBox()"
      ]
     },
     "metadata": {},
     "output_type": "display_data"
    },
    {
     "data": {
      "application/vnd.jupyter.widget-view+json": {
       "model_id": "",
       "version_major": 2,
       "version_minor": 0
      },
      "text/plain": [
       "FloatProgress(value=0.0, bar_style='info', description='Progress:', layout=Layout(height='25px', width='50%'),…"
      ]
     },
     "metadata": {},
     "output_type": "display_data"
    }
   ],
   "source": [
    "# K drug names\n",
    "\n",
    "consolidations_k = {\n",
    "    'kaletra': 'lopinavir+ritonavir',\n",
    "    'kcentra': 'prothrombin_complex_concentrate',\n",
    "    'keflex': 'cephalexin',\n",
    "    'keppra': 'levetiracetam',\n",
    "    'keytruda': 'pembrolizumab',\n",
    "    'kineret': 'anakinra',\n",
    "    'kisqali': 'ribociclib',\n",
    "    'klonopin': 'clonazepam',\n",
    "    'klor-con': 'potassium_chloride',\n",
    "    'kombiglyze_xr': 'metformin+saxagliptin',\n",
    "    'kuvan': 'sapropterin',\n",
    "    'kyleena': 'levonorgestrel'\n",
    "}\n"
   ]
  },
  {
   "cell_type": "code",
   "execution_count": 173,
   "id": "4636b720",
   "metadata": {
    "execution": {
     "iopub.execute_input": "2024-12-24T17:25:21.251244Z",
     "iopub.status.busy": "2024-12-24T17:25:21.250819Z",
     "iopub.status.idle": "2024-12-24T17:25:21.502993Z",
     "shell.execute_reply": "2024-12-24T17:25:21.502354Z",
     "shell.execute_reply.started": "2024-12-24T17:25:21.251216Z"
    },
    "tags": []
   },
   "outputs": [
    {
     "data": {
      "application/vnd.jupyter.widget-view+json": {
       "model_id": "5f4e7721859848dc99fb48cfa3280e59",
       "version_major": 2,
       "version_minor": 0
      },
      "text/plain": [
       "VBox()"
      ]
     },
     "metadata": {},
     "output_type": "display_data"
    },
    {
     "data": {
      "application/vnd.jupyter.widget-view+json": {
       "model_id": "",
       "version_major": 2,
       "version_minor": 0
      },
      "text/plain": [
       "FloatProgress(value=0.0, bar_style='info', description='Progress:', layout=Layout(height='25px', width='50%'),…"
      ]
     },
     "metadata": {},
     "output_type": "display_data"
    }
   ],
   "source": [
    "clean_df = replace_values_with_mapping(clean_df, 'standardized_drug_name', consolidations_k)"
   ]
  },
  {
   "cell_type": "code",
   "execution_count": 174,
   "id": "4ed6b094",
   "metadata": {
    "execution": {
     "iopub.execute_input": "2024-12-24T17:25:21.504748Z",
     "iopub.status.busy": "2024-12-24T17:25:21.503975Z",
     "iopub.status.idle": "2024-12-24T17:25:32.885826Z",
     "shell.execute_reply": "2024-12-24T17:25:32.884723Z",
     "shell.execute_reply.started": "2024-12-24T17:25:21.504307Z"
    },
    "tags": []
   },
   "outputs": [
    {
     "data": {
      "application/vnd.jupyter.widget-view+json": {
       "model_id": "87b638a3d72a44d2b3a0a32c52a3b720",
       "version_major": 2,
       "version_minor": 0
      },
      "text/plain": [
       "VBox()"
      ]
     },
     "metadata": {},
     "output_type": "display_data"
    },
    {
     "data": {
      "application/vnd.jupyter.widget-view+json": {
       "model_id": "",
       "version_major": 2,
       "version_minor": 0
      },
      "text/plain": [
       "FloatProgress(value=0.0, bar_style='info', description='Progress:', layout=Layout(height='25px', width='50%'),…"
      ]
     },
     "metadata": {},
     "output_type": "display_data"
    },
    {
     "name": "stdout",
     "output_type": "stream",
     "text": [
      "+-------------+----------+----------+---------+----+---------------+----------------------+\n",
      "|mi_person_key| drug_date|  ADE_Date|drug_name|Year|Hospitalization|standardized_drug_name|\n",
      "+-------------+----------+----------+---------+----+---------------+----------------------+\n",
      "|   1006435739|2019-01-07|2019-01-18|   k-phos|2019|              0|                k-phos|\n",
      "|   1006435739|2018-12-07|2018-12-21|   k-phos|2018|              0|                k-phos|\n",
      "|   1000870130|2017-12-28|2018-02-05|   k-phos|2018|              0|                k-phos|\n",
      "|   1006435739|2018-12-07|2018-12-19|   k-phos|2018|              0|                k-phos|\n",
      "|   1010619946|2018-04-11|2018-05-02|   k-phos|2018|              0|                k-phos|\n",
      "|   1006435739|2018-12-26|2018-12-29|   k-phos|2018|              0|                k-phos|\n",
      "|   1000870130|2017-12-28|2018-01-04|   k-phos|2018|              0|                k-phos|\n",
      "|   1006435739|2018-12-07|2018-12-29|   k-phos|2018|              0|                k-phos|\n",
      "|   1007791890|2018-08-31|2018-09-07|   k-phos|2018|              0|                k-phos|\n",
      "|   1006435739|2018-12-07|2018-12-15|   k-phos|2018|              0|                k-phos|\n",
      "|   1000870130|2017-12-28|2018-01-22|   k-phos|2018|              0|                k-phos|\n",
      "|   1006435739|2018-12-07|2018-12-13|   k-phos|2018|              0|                k-phos|\n",
      "|   1010619946|2018-04-11|2018-04-27|   k-phos|2018|              0|                k-phos|\n",
      "|   1006435739|2018-12-07|2018-12-20|   k-phos|2018|              0|                k-phos|\n",
      "|   1000870130|2017-12-28|2018-01-11|   k-phos|2018|              0|                k-phos|\n",
      "|   1006435739|2018-12-07|2018-12-24|   k-phos|2018|              0|                k-phos|\n",
      "|   1000870130|2017-12-28|2017-12-28|   k-phos|2017|              0|                k-phos|\n",
      "|   1006435739|2018-12-07|2018-12-11|   k-phos|2018|              0|                k-phos|\n",
      "|   1000870130|2017-12-28|2018-01-13|   k-phos|2018|              0|                k-phos|\n",
      "|   1006435739|2018-12-07|2018-12-08|   k-phos|2018|              0|                k-phos|\n",
      "+-------------+----------+----------+---------+----+---------------+----------------------+\n",
      "only showing top 20 rows"
     ]
    }
   ],
   "source": [
    "from pyspark.sql.functions import asc\n",
    "\n",
    "# Add a custom sort column that prioritizes names starting with 'k'\n",
    "sorted_unique_levels = clean_df.withColumn(\n",
    "    \"sort_priority\",\n",
    "    when(col(\"standardized_drug_name\").startswith(\"k\"), 0).otherwise(1)\n",
    ")\n",
    "\n",
    "# Sort by the custom sort priority, and then alphabetically by 'standardized_drug_name'\n",
    "sorted_unique_levels = sorted_unique_levels.orderBy(\n",
    "    col(\"sort_priority\"), \n",
    "    col(\"standardized_drug_name\").asc()\n",
    ")\n",
    "\n",
    "# Drop priority sort column so we can use for new cases\n",
    "sorted_unique_levels = sorted_unique_levels.drop(\"sort_priority\")\n",
    "\n",
    "# Show the sorted DataFrame\n",
    "sorted_unique_levels.show(n=20)  # Adjust 'n' to display more or fewer results"
   ]
  },
  {
   "cell_type": "code",
   "execution_count": 175,
   "id": "1ba4a3a4",
   "metadata": {
    "execution": {
     "iopub.execute_input": "2024-12-24T17:25:32.887588Z",
     "iopub.status.busy": "2024-12-24T17:25:32.887292Z",
     "iopub.status.idle": "2024-12-24T17:25:32.973454Z",
     "shell.execute_reply": "2024-12-24T17:25:32.970127Z",
     "shell.execute_reply.started": "2024-12-24T17:25:32.887545Z"
    },
    "tags": []
   },
   "outputs": [
    {
     "data": {
      "application/vnd.jupyter.widget-view+json": {
       "model_id": "e470fea817f445d29f078b74fe16d521",
       "version_major": 2,
       "version_minor": 0
      },
      "text/plain": [
       "VBox()"
      ]
     },
     "metadata": {},
     "output_type": "display_data"
    },
    {
     "data": {
      "application/vnd.jupyter.widget-view+json": {
       "model_id": "",
       "version_major": 2,
       "version_minor": 0
      },
      "text/plain": [
       "FloatProgress(value=0.0, bar_style='info', description='Progress:', layout=Layout(height='25px', width='50%'),…"
      ]
     },
     "metadata": {},
     "output_type": "display_data"
    }
   ],
   "source": [
    "# L drug names\n",
    "consolidations_l = {\n",
    "    'lovaza': 'omega-3-acid_ethyl_esters',\n",
    "    'lucemyra': 'lofexidine',\n",
    "    'lyrica': 'pregabalin',\n",
    "    'levalbuterol_tartrate_hfa': 'levalbuterol',\n",
    "    'lidocaine_hydrochloride': 'lidocaine',\n",
    "    'lidocaine_5%': 'lidocaine',\n",
    "    'livalo': 'pitavastatin',\n",
    "    'lmx_5': 'lidocaine',\n",
    "    'loestrin_fe_1.5/30': 'ethinyl_estradiol+norethindrone+iron',\n",
    "    'loestrin_1/20-21': 'ethinyl_estradiol+norethindrone',\n",
    "    'loteprednol_etabonate': 'loteprednol',\n",
    "    'loxasperse': 'not_drug',\n",
    "    'lysodren': 'mitotane'\n",
    "}"
   ]
  },
  {
   "cell_type": "code",
   "execution_count": 176,
   "id": "c14235a7",
   "metadata": {
    "execution": {
     "iopub.execute_input": "2024-12-24T17:25:32.977273Z",
     "iopub.status.busy": "2024-12-24T17:25:32.976921Z",
     "iopub.status.idle": "2024-12-24T17:25:33.293600Z",
     "shell.execute_reply": "2024-12-24T17:25:33.292606Z",
     "shell.execute_reply.started": "2024-12-24T17:25:32.977232Z"
    },
    "tags": []
   },
   "outputs": [
    {
     "data": {
      "application/vnd.jupyter.widget-view+json": {
       "model_id": "69d1edf4f3a44eca87889d8f5bf522a2",
       "version_major": 2,
       "version_minor": 0
      },
      "text/plain": [
       "VBox()"
      ]
     },
     "metadata": {},
     "output_type": "display_data"
    },
    {
     "data": {
      "application/vnd.jupyter.widget-view+json": {
       "model_id": "",
       "version_major": 2,
       "version_minor": 0
      },
      "text/plain": [
       "FloatProgress(value=0.0, bar_style='info', description='Progress:', layout=Layout(height='25px', width='50%'),…"
      ]
     },
     "metadata": {},
     "output_type": "display_data"
    }
   ],
   "source": [
    "clean_df = replace_values_with_mapping(clean_df, 'standardized_drug_name', consolidations_l)"
   ]
  },
  {
   "cell_type": "code",
   "execution_count": 177,
   "id": "781b7dca",
   "metadata": {
    "execution": {
     "iopub.execute_input": "2024-12-24T17:25:33.295420Z",
     "iopub.status.busy": "2024-12-24T17:25:33.295167Z",
     "iopub.status.idle": "2024-12-24T17:25:46.632556Z",
     "shell.execute_reply": "2024-12-24T17:25:46.631854Z",
     "shell.execute_reply.started": "2024-12-24T17:25:33.295383Z"
    },
    "tags": []
   },
   "outputs": [
    {
     "data": {
      "application/vnd.jupyter.widget-view+json": {
       "model_id": "eea8e27afbe3452686bc82678af65b16",
       "version_major": 2,
       "version_minor": 0
      },
      "text/plain": [
       "VBox()"
      ]
     },
     "metadata": {},
     "output_type": "display_data"
    },
    {
     "data": {
      "application/vnd.jupyter.widget-view+json": {
       "model_id": "",
       "version_major": 2,
       "version_minor": 0
      },
      "text/plain": [
       "FloatProgress(value=0.0, bar_style='info', description='Progress:', layout=Layout(height='25px', width='50%'),…"
      ]
     },
     "metadata": {},
     "output_type": "display_data"
    },
    {
     "name": "stdout",
     "output_type": "stream",
     "text": [
      "+-------------+----------+----------+--------------------+----+---------------+----------------------+\n",
      "|mi_person_key| drug_date|  ADE_Date|           drug_name|Year|Hospitalization|standardized_drug_name|\n",
      "+-------------+----------+----------+--------------------+----+---------------+----------------------+\n",
      "|   1000601369|2020-08-14|2020-09-10|l-5-methyltetrahy...|2020|              0|  l-5-methyltetrahy...|\n",
      "|   1000601369|2020-08-17|2020-09-10|l-5-methyltetrahy...|2020|              0|  l-5-methyltetrahy...|\n",
      "|   1000601369|2020-08-14|2020-09-15|l-5-methyltetrahy...|2020|              0|  l-5-methyltetrahy...|\n",
      "|   1000601369|2020-08-17|2020-09-15|l-5-methyltetrahy...|2020|              0|  l-5-methyltetrahy...|\n",
      "|   1000601369|2020-08-14|2020-09-22|l-5-methyltetrahy...|2020|              0|  l-5-methyltetrahy...|\n",
      "|   1000601369|2020-08-17|2020-09-22|l-5-methyltetrahy...|2020|              0|  l-5-methyltetrahy...|\n",
      "|   1000601369|2020-08-14|2020-09-24|l-5-methyltetrahy...|2020|              0|  l-5-methyltetrahy...|\n",
      "|   1000601369|2020-08-17|2020-09-24|l-5-methyltetrahy...|2020|              0|  l-5-methyltetrahy...|\n",
      "|   1000601369|2020-08-14|2020-09-14|l-5-methyltetrahy...|2020|              0|  l-5-methyltetrahy...|\n",
      "|   1000601369|2020-08-17|2020-09-14|l-5-methyltetrahy...|2020|              0|  l-5-methyltetrahy...|\n",
      "|   1000601369|2020-08-14|2020-09-13|l-5-methyltetrahy...|2020|              0|  l-5-methyltetrahy...|\n",
      "|   1000601369|2020-08-17|2020-09-13|l-5-methyltetrahy...|2020|              0|  l-5-methyltetrahy...|\n",
      "|   1000601369|2020-08-17|2020-09-29|l-5-methyltetrahy...|2020|              0|  l-5-methyltetrahy...|\n",
      "|   1006641230|2018-09-10|2018-10-01|          l-arginine|2018|              0|            l-arginine|\n",
      "|   1006641230|2018-12-31|2019-01-16|          l-arginine|2019|              0|            l-arginine|\n",
      "|   1006641230|2018-01-19|2018-03-05|          l-arginine|2018|              0|            l-arginine|\n",
      "|   1019312281|2020-02-24|2020-02-25|          l-arginine|2020|              0|            l-arginine|\n",
      "|   1006641230|2018-07-01|2018-07-25|          l-arginine|2018|              0|            l-arginine|\n",
      "|   1008828776|2019-04-17|2019-05-16|          l-arginine|2019|              0|            l-arginine|\n",
      "|   1006641230|2018-11-12|2018-11-28|          l-arginine|2018|              0|            l-arginine|\n",
      "+-------------+----------+----------+--------------------+----+---------------+----------------------+\n",
      "only showing top 20 rows"
     ]
    }
   ],
   "source": [
    "from pyspark.sql.functions import asc\n",
    "\n",
    "# Add a custom sort column that prioritizes names starting with 'l'\n",
    "sorted_unique_levels = clean_df.withColumn(\n",
    "    \"sort_priority\",\n",
    "    when(col(\"standardized_drug_name\").startswith(\"l\"), 0).otherwise(1)\n",
    ")\n",
    "\n",
    "# Sort by the custom sort priority, and then alphabetically by 'standardized_drug_name'\n",
    "sorted_unique_levels = sorted_unique_levels.orderBy(\n",
    "    col(\"sort_priority\"), \n",
    "    col(\"standardized_drug_name\").asc()\n",
    ")\n",
    "\n",
    "# Drop priority sort column so we can use for new cases\n",
    "sorted_unique_levels = sorted_unique_levels.drop(\"sort_priority\")\n",
    "\n",
    "# Show the sorted DataFrame\n",
    "sorted_unique_levels.show(n=20)  # Adjust 'n' to display more or fewer results"
   ]
  },
  {
   "cell_type": "code",
   "execution_count": 178,
   "id": "514ff629",
   "metadata": {
    "execution": {
     "iopub.execute_input": "2024-12-24T17:25:46.634052Z",
     "iopub.status.busy": "2024-12-24T17:25:46.633803Z",
     "iopub.status.idle": "2024-12-24T17:25:46.722522Z",
     "shell.execute_reply": "2024-12-24T17:25:46.721544Z",
     "shell.execute_reply.started": "2024-12-24T17:25:46.634017Z"
    },
    "tags": []
   },
   "outputs": [
    {
     "data": {
      "application/vnd.jupyter.widget-view+json": {
       "model_id": "cec23039edcf49b2b8f6c54589d4f04d",
       "version_major": 2,
       "version_minor": 0
      },
      "text/plain": [
       "VBox()"
      ]
     },
     "metadata": {},
     "output_type": "display_data"
    },
    {
     "data": {
      "application/vnd.jupyter.widget-view+json": {
       "model_id": "",
       "version_major": 2,
       "version_minor": 0
      },
      "text/plain": [
       "FloatProgress(value=0.0, bar_style='info', description='Progress:', layout=Layout(height='25px', width='50%'),…"
      ]
     },
     "metadata": {},
     "output_type": "display_data"
    }
   ],
   "source": [
    "# M drug names\n",
    "\n",
    "consolidations_m = {\n",
    "    'metformin_hydrochloride': 'metformin',\n",
    "    'metformin_hydrochloride_e': 'metformin_er',\n",
    "    'metoprolol_tartrate': 'metoprolol',\n",
    "    'metformin_hcl': 'metformin',\n",
    "    'methylprednisolone_dose_p': 'methylprednisolone',\n",
    "    'memantine_hydrochloride': 'memantine',\n",
    "    'metoclopramide_hcl': 'metoclopramide',\n",
    "    'medroxyprogesterone_aceta': 'medroxyprogesterone',\n",
    "    'metoprolol_succinate_er': 'metoprolol_er',\n",
    "    'methylphenidate_hydrochlo': 'methylphenidate',\n",
    "    'metformin_hcl_er': 'metformin_er',\n",
    "    'montelukast_sodium': 'montelukast',\n",
    "    'methotrexate': 'methotrexate',\n",
    "    'metoprolol_tartrate': 'metoprolol',\n",
    "    'methadone_hcl': 'methadone',\n",
    "    'minocycline_hcl': 'minocycline',\n",
    "    'metoprolol_succinate': 'metoprolol',\n",
    "    'methenamine_hippurate': 'methenamine',\n",
    "    'methylphenidate_hcl_er': 'methylphenidate_er',\n",
    "    'metronidazole_vaginal': 'metronidazole',\n",
    "    'metoprolol_tartrate/hydro': 'metoprolol+hydrochlorothiazide',\n",
    "    'midodrine_hcl': 'midodrine',\n",
    "    'metoclopramide_hydrochlo': 'metoclopramide',\n",
    "    'meclizine_hcl': 'meclizine',\n",
    "    'megestrol_acetate': 'megestrol',\n",
    "    'metformin/sitagliptin': 'metformin+sitagliptin',\n",
    "    'mycophenolate_mofetil': 'mycophenolate',\n",
    "    'methadone_hydrochloride': 'methadone',\n",
    "    'miconazole_nitrate': 'miconazole',\n",
    "    'metronidazole_er': 'metronidazole+er',\n",
    "    'methylphenidate_er': 'methylphenidate_er',\n",
    "    'morphine_sulfate_er': 'morphine+er',\n",
    "    'moxifloxacin_hcl': 'moxifloxacin',\n",
    "    'metoprolol_er_succinate': 'metoprolol_er',\n",
    "    'miralax': 'polyethylene_glycol_3350',\n",
    "    'metamucil': 'psyllium',\n",
    "    'mometasone_furoate': 'mometasone',\n",
    "    'multivitamin/minerals': 'multivitamin+minerals'\n",
    "}\n"
   ]
  },
  {
   "cell_type": "code",
   "execution_count": 179,
   "id": "84432506",
   "metadata": {
    "execution": {
     "iopub.execute_input": "2024-12-24T17:25:46.723823Z",
     "iopub.status.busy": "2024-12-24T17:25:46.723637Z",
     "iopub.status.idle": "2024-12-24T17:25:47.013389Z",
     "shell.execute_reply": "2024-12-24T17:25:47.012622Z",
     "shell.execute_reply.started": "2024-12-24T17:25:46.723798Z"
    },
    "tags": []
   },
   "outputs": [
    {
     "data": {
      "application/vnd.jupyter.widget-view+json": {
       "model_id": "a4a7934fb02945848406dddb7c1cf74f",
       "version_major": 2,
       "version_minor": 0
      },
      "text/plain": [
       "VBox()"
      ]
     },
     "metadata": {},
     "output_type": "display_data"
    },
    {
     "data": {
      "application/vnd.jupyter.widget-view+json": {
       "model_id": "",
       "version_major": 2,
       "version_minor": 0
      },
      "text/plain": [
       "FloatProgress(value=0.0, bar_style='info', description='Progress:', layout=Layout(height='25px', width='50%'),…"
      ]
     },
     "metadata": {},
     "output_type": "display_data"
    }
   ],
   "source": [
    "clean_df = replace_values_with_mapping(clean_df, 'standardized_drug_name', consolidations_m)"
   ]
  },
  {
   "cell_type": "code",
   "execution_count": 180,
   "id": "ab937901",
   "metadata": {
    "execution": {
     "iopub.execute_input": "2024-12-24T17:25:47.014639Z",
     "iopub.status.busy": "2024-12-24T17:25:47.014464Z",
     "iopub.status.idle": "2024-12-24T17:25:54.306709Z",
     "shell.execute_reply": "2024-12-24T17:25:54.305805Z",
     "shell.execute_reply.started": "2024-12-24T17:25:47.014615Z"
    },
    "tags": []
   },
   "outputs": [
    {
     "data": {
      "application/vnd.jupyter.widget-view+json": {
       "model_id": "49b0072b88034594930093ef1c89ae49",
       "version_major": 2,
       "version_minor": 0
      },
      "text/plain": [
       "VBox()"
      ]
     },
     "metadata": {},
     "output_type": "display_data"
    },
    {
     "data": {
      "application/vnd.jupyter.widget-view+json": {
       "model_id": "",
       "version_major": 2,
       "version_minor": 0
      },
      "text/plain": [
       "FloatProgress(value=0.0, bar_style='info', description='Progress:', layout=Layout(height='25px', width='50%'),…"
      ]
     },
     "metadata": {},
     "output_type": "display_data"
    },
    {
     "name": "stdout",
     "output_type": "stream",
     "text": [
      "+-------------+----------+----------+--------------------+----+---------------+----------------------+\n",
      "|mi_person_key| drug_date|  ADE_Date|           drug_name|Year|Hospitalization|standardized_drug_name|\n",
      "+-------------+----------+----------+--------------------+----+---------------+----------------------+\n",
      "|   1021721082|2019-12-10|2019-12-10|zarbees sleep chi...|2019|              0|  m+zarbees_sleep_c...|\n",
      "|   1003741075|2020-05-07|2020-05-11|zarbees sleep chi...|2020|              0|  m+zarbees_sleep_c...|\n",
      "|   1009842543|2019-11-14|2019-12-06|zarbees sleep chi...|2019|              0|  m+zarbees_sleep_c...|\n",
      "|   1003741075|2020-05-07|2020-05-20|zarbees sleep chi...|2020|              0|  m+zarbees_sleep_c...|\n",
      "|   1009842543|2019-11-14|2019-12-26|zarbees sleep chi...|2019|              0|  m+zarbees_sleep_c...|\n",
      "|   1003741075|2020-05-07|2020-05-18|zarbees sleep chi...|2020|              0|  m+zarbees_sleep_c...|\n",
      "|   1009842543|2019-11-14|2019-12-13|zarbees sleep chi...|2019|              0|  m+zarbees_sleep_c...|\n",
      "|   1003741075|2020-05-07|2020-05-13|zarbees sleep chi...|2020|              0|  m+zarbees_sleep_c...|\n",
      "|   1009842543|2019-11-14|2019-12-17|zarbees sleep chi...|2019|              0|  m+zarbees_sleep_c...|\n",
      "|   1003741075|2020-05-07|2020-05-08|zarbees sleep chi...|2020|              0|  m+zarbees_sleep_c...|\n",
      "|   1003741075|2020-05-07|2020-05-09|zarbees sleep chi...|2020|              0|  m+zarbees_sleep_c...|\n",
      "|   1003741075|2020-05-07|2020-05-10|zarbees sleep chi...|2020|              0|  m+zarbees_sleep_c...|\n",
      "|   1003741075|2020-05-07|2020-06-12|zarbees sleep chi...|2020|              0|  m+zarbees_sleep_c...|\n",
      "|   1003741075|2020-05-07|2020-05-17|zarbees sleep chi...|2020|              0|  m+zarbees_sleep_c...|\n",
      "|   1003741075|2020-05-07|2020-06-01|zarbees sleep chi...|2020|              0|  m+zarbees_sleep_c...|\n",
      "|   1003741075|2020-05-07|2020-06-19|zarbees sleep chi...|2020|              0|  m+zarbees_sleep_c...|\n",
      "|   1003741075|2020-05-07|2020-05-16|zarbees sleep chi...|2020|              0|  m+zarbees_sleep_c...|\n",
      "|   1003741075|2020-05-07|2020-05-12|zarbees sleep chi...|2020|              0|  m+zarbees_sleep_c...|\n",
      "|   1003741075|2020-05-07|2020-05-15|zarbees sleep chi...|2020|              0|  m+zarbees_sleep_c...|\n",
      "|   1003741075|2020-05-07|2020-05-14|zarbees sleep chi...|2020|              0|  m+zarbees_sleep_c...|\n",
      "+-------------+----------+----------+--------------------+----+---------------+----------------------+\n",
      "only showing top 20 rows"
     ]
    }
   ],
   "source": [
    "from pyspark.sql.functions import asc\n",
    "\n",
    "# Add a custom sort column that prioritizes names starting with 'm'\n",
    "sorted_unique_levels = clean_df.withColumn(\n",
    "    \"sort_priority\",\n",
    "    when(col(\"standardized_drug_name\").startswith(\"m\"), 0).otherwise(1)\n",
    ")\n",
    "\n",
    "# Sort by the custom sort priority, and then alphabetically by 'standardized_drug_name'\n",
    "sorted_unique_levels = sorted_unique_levels.orderBy(\n",
    "    col(\"sort_priority\"), \n",
    "    col(\"standardized_drug_name\").asc()\n",
    ")\n",
    "\n",
    "# Drop priority sort column so we can use for new cases\n",
    "sorted_unique_levels = sorted_unique_levels.drop(\"sort_priority\")\n",
    "\n",
    "# Show the sorted DataFrame\n",
    "sorted_unique_levels.show(n=20)  # Adjust 'n' to display more or fewer results"
   ]
  },
  {
   "cell_type": "code",
   "execution_count": 181,
   "id": "4de477bc",
   "metadata": {
    "execution": {
     "iopub.execute_input": "2024-12-24T17:25:54.308269Z",
     "iopub.status.busy": "2024-12-24T17:25:54.308015Z",
     "iopub.status.idle": "2024-12-24T17:25:54.371462Z",
     "shell.execute_reply": "2024-12-24T17:25:54.370708Z",
     "shell.execute_reply.started": "2024-12-24T17:25:54.308233Z"
    },
    "tags": []
   },
   "outputs": [
    {
     "data": {
      "application/vnd.jupyter.widget-view+json": {
       "model_id": "274aac963ae442c4b9cc9b980e41ce97",
       "version_major": 2,
       "version_minor": 0
      },
      "text/plain": [
       "VBox()"
      ]
     },
     "metadata": {},
     "output_type": "display_data"
    },
    {
     "data": {
      "application/vnd.jupyter.widget-view+json": {
       "model_id": "",
       "version_major": 2,
       "version_minor": 0
      },
      "text/plain": [
       "FloatProgress(value=0.0, bar_style='info', description='Progress:', layout=Layout(height='25px', width='50%'),…"
      ]
     },
     "metadata": {},
     "output_type": "display_data"
    }
   ],
   "source": [
    "# N drug names\n",
    "\n",
    "consolidations_n = {\n",
    "    'namenda': 'memantine',\n",
    "    'naprosyn': 'naproxen',\n",
    "    'narcan': 'naloxone',\n",
    "    'nasacort': 'triamcinolone',\n",
    "    'nasonex': 'mometasone',\n",
    "    'neosporin': 'bacitracin+neomycin+polymyxin_b',\n",
    "    'neurontin': 'gabapentin',\n",
    "    'nexium': 'esomeprazole',\n",
    "    'nexium_24hr': 'esomeprazole',\n",
    "    'nizoral_a-d': 'nizoral',\n",
    "    'norco': 'hydrocodone+acetaminophen',\n",
    "    'norvasc': 'amlodipine',\n",
    "    'nortriptyline_hydrochlori': 'nortriptyline',\n",
    "    'nortriptyline_hcl': 'nortriptyline',\n",
    "    'novolin_n': 'insulin_nph',\n",
    "    'novolog': 'insulin_aspart',\n",
    "    'np_thyroid': 'thyroid',\n",
    "    'nystatin_topical': 'nystatin',\n",
    "    'novolin_70/30': 'insulin_nph',\n",
    "    'novolin_70/30_flexpen': 'insulin_nph',\n",
    "    'novolin_70/30_flexpen_rel': 'insulin_nph',\n",
    "    'novolin_70/30_penfill': 'insulin_nph',\n",
    "    'novolin_70/30_relion': 'insulin_nph',\n",
    "    'novolin_n': 'insulin_nph',\n",
    "    'novolin_n_flexpen': 'insulin_nph',\n",
    "    'novolin_n_flexpen_relion': 'insulin_nph',\n",
    "    'novolin_n_relion': 'insulin_nph',\n",
    "    'novolin_r': 'insulin_regular',\n",
    "    'novolin_r_flexpen_relion': 'insulin_regular',\n",
    "    'novolin_r_relion': 'insulin_regular',\n",
    "    'novolog': 'insulin_aspart',\n",
    "    'novolog_flexpen': 'insulin_aspart',\n",
    "    'novolog_mix_70/30': 'insulin_aspart+protamine',\n",
    "    'novolog_mix_70/30_prefill': 'insulin_aspart+protamine',\n",
    "    'novolog_penfill': 'insulin_aspart',\n",
    "    'np_thyroid_120': 'np_thyroid',\n",
    "    'np_thyroid_15': 'np_thyroid',\n",
    "    'np_thyroid_30': 'np_thyroid',\n",
    "    'np_thyroid_60': 'np_thyroid',\n",
    "    'np_thyroid_90': 'np_thyroid',\n",
    "    'nystatin_foreign': 'nystatin',\n",
    "    'nystatin+triamcinolone_ac': 'nystatin+triamcinolone'\n",
    "}"
   ]
  },
  {
   "cell_type": "code",
   "execution_count": 182,
   "id": "6e818309",
   "metadata": {
    "execution": {
     "iopub.execute_input": "2024-12-24T17:25:54.372579Z",
     "iopub.status.busy": "2024-12-24T17:25:54.372403Z",
     "iopub.status.idle": "2024-12-24T17:25:54.626774Z",
     "shell.execute_reply": "2024-12-24T17:25:54.626043Z",
     "shell.execute_reply.started": "2024-12-24T17:25:54.372555Z"
    },
    "tags": []
   },
   "outputs": [
    {
     "data": {
      "application/vnd.jupyter.widget-view+json": {
       "model_id": "08f729d6ff144d23b39a5fb5e6f1436a",
       "version_major": 2,
       "version_minor": 0
      },
      "text/plain": [
       "VBox()"
      ]
     },
     "metadata": {},
     "output_type": "display_data"
    },
    {
     "data": {
      "application/vnd.jupyter.widget-view+json": {
       "model_id": "",
       "version_major": 2,
       "version_minor": 0
      },
      "text/plain": [
       "FloatProgress(value=0.0, bar_style='info', description='Progress:', layout=Layout(height='25px', width='50%'),…"
      ]
     },
     "metadata": {},
     "output_type": "display_data"
    }
   ],
   "source": [
    "clean_df = replace_values_with_mapping(clean_df, 'standardized_drug_name', consolidations_n)"
   ]
  },
  {
   "cell_type": "code",
   "execution_count": 183,
   "id": "472a7a7b",
   "metadata": {
    "execution": {
     "iopub.execute_input": "2024-12-24T17:25:54.628524Z",
     "iopub.status.busy": "2024-12-24T17:25:54.627991Z",
     "iopub.status.idle": "2024-12-24T17:26:01.915866Z",
     "shell.execute_reply": "2024-12-24T17:26:01.914932Z",
     "shell.execute_reply.started": "2024-12-24T17:25:54.628484Z"
    },
    "tags": []
   },
   "outputs": [
    {
     "data": {
      "application/vnd.jupyter.widget-view+json": {
       "model_id": "f153433da1b34fa4b5bbb56377a9d446",
       "version_major": 2,
       "version_minor": 0
      },
      "text/plain": [
       "VBox()"
      ]
     },
     "metadata": {},
     "output_type": "display_data"
    },
    {
     "data": {
      "application/vnd.jupyter.widget-view+json": {
       "model_id": "",
       "version_major": 2,
       "version_minor": 0
      },
      "text/plain": [
       "FloatProgress(value=0.0, bar_style='info', description='Progress:', layout=Layout(height='25px', width='50%'),…"
      ]
     },
     "metadata": {},
     "output_type": "display_data"
    },
    {
     "name": "stdout",
     "output_type": "stream",
     "text": [
      "+-------------+----------+----------+--------------------+----+---------------+----------------------+\n",
      "|mi_person_key| drug_date|  ADE_Date|           drug_name|Year|Hospitalization|standardized_drug_name|\n",
      "+-------------+----------+----------+--------------------+----+---------------+----------------------+\n",
      "|   1001832042|2019-06-06|2019-07-05|       n-a-c sustain|2019|              0|         n-a-c_sustain|\n",
      "|   1001832042|2019-06-06|2019-07-15|       n-a-c sustain|2019|              0|         n-a-c_sustain|\n",
      "|   1001832042|2019-06-06|2019-06-14|       n-a-c sustain|2019|              0|         n-a-c_sustain|\n",
      "|   1001832042|2019-06-06|2019-07-12|       n-a-c sustain|2019|              0|         n-a-c_sustain|\n",
      "|   1001832042|2019-06-06|2019-06-06|       n-a-c sustain|2019|              0|         n-a-c_sustain|\n",
      "|   1001832042|2019-03-19|2019-03-22| n-acetyl-l-cysteine|2019|              0|   n-acetyl-l-cysteine|\n",
      "|   1001832042|2019-03-19|2019-04-05| n-acetyl-l-cysteine|2019|              0|   n-acetyl-l-cysteine|\n",
      "|   1001832042|2019-03-19|2019-04-01| n-acetyl-l-cysteine|2019|              0|   n-acetyl-l-cysteine|\n",
      "|   1001832042|2019-03-19|2019-03-29| n-acetyl-l-cysteine|2019|              0|   n-acetyl-l-cysteine|\n",
      "|   1001832042|2019-03-19|2019-04-04| n-acetyl-l-cysteine|2019|              0|   n-acetyl-l-cysteine|\n",
      "|   1001832042|2019-03-19|2019-04-12| n-acetyl-l-cysteine|2019|              0|   n-acetyl-l-cysteine|\n",
      "|   1003861671|2018-03-22|2018-03-27|peg-3350/nacl/na ...|2018|              0|  na_bicarbon+nacl+...|\n",
      "|   1006714588|2018-08-10|2018-08-10|peg-3350/nacl/na ...|2018|              0|  na_bicarbon+nacl+...|\n",
      "|   1003861671|2018-03-22|2018-04-09|peg-3350/nacl/na ...|2018|              0|  na_bicarbon+nacl+...|\n",
      "|   1010189923|2018-08-21|2018-08-29|peg-3350/nacl/na ...|2018|              0|  na_bicarbon+nacl+...|\n",
      "|   1003861671|2018-03-22|2018-03-30|peg-3350/nacl/na ...|2018|              0|  na_bicarbon+nacl+...|\n",
      "|   1011102812|2018-06-11|2018-07-15|peg-3350/nacl/na ...|2018|              0|  na_bicarbon+nacl+...|\n",
      "|   1010189923|2018-09-19|2018-09-20|peg-3350/nacl/na ...|2018|              0|  na_bicarbon+nacl+...|\n",
      "|   1019673046|2018-10-15|2018-11-09|peg-3350/nacl/na ...|2018|              0|  na_bicarbon+nacl+...|\n",
      "|   1010189923|2018-07-18|2018-08-29|peg-3350/nacl/na ...|2018|              0|  na_bicarbon+nacl+...|\n",
      "+-------------+----------+----------+--------------------+----+---------------+----------------------+\n",
      "only showing top 20 rows"
     ]
    }
   ],
   "source": [
    "from pyspark.sql.functions import asc\n",
    "\n",
    "# Add a custom sort column that prioritizes names starting with 'n'\n",
    "sorted_unique_levels = clean_df.withColumn(\n",
    "    \"sort_priority\",\n",
    "    when(col(\"standardized_drug_name\").startswith(\"n\"), 0).otherwise(1)\n",
    ")\n",
    "\n",
    "# Sort by the custom sort priority, and then alphabetically by 'standardized_drug_name'\n",
    "sorted_unique_levels = sorted_unique_levels.orderBy(\n",
    "    col(\"sort_priority\"), \n",
    "    col(\"standardized_drug_name\").asc()\n",
    ")\n",
    "\n",
    "# Drop priority sort column so we can use for new cases\n",
    "sorted_unique_levels = sorted_unique_levels.drop(\"sort_priority\")\n",
    "\n",
    "# Show the sorted DataFrame\n",
    "sorted_unique_levels.show(n=20)  # Adjust 'n' to display more or fewer results"
   ]
  },
  {
   "cell_type": "code",
   "execution_count": 184,
   "id": "0bd11586",
   "metadata": {
    "execution": {
     "iopub.execute_input": "2024-12-24T17:26:01.917425Z",
     "iopub.status.busy": "2024-12-24T17:26:01.917164Z",
     "iopub.status.idle": "2024-12-24T17:26:01.974315Z",
     "shell.execute_reply": "2024-12-24T17:26:01.973624Z",
     "shell.execute_reply.started": "2024-12-24T17:26:01.917387Z"
    },
    "tags": []
   },
   "outputs": [
    {
     "data": {
      "application/vnd.jupyter.widget-view+json": {
       "model_id": "b4fe7298a0974162862d15a9fd94e962",
       "version_major": 2,
       "version_minor": 0
      },
      "text/plain": [
       "VBox()"
      ]
     },
     "metadata": {},
     "output_type": "display_data"
    },
    {
     "data": {
      "application/vnd.jupyter.widget-view+json": {
       "model_id": "",
       "version_major": 2,
       "version_minor": 0
      },
      "text/plain": [
       "FloatProgress(value=0.0, bar_style='info', description='Progress:', layout=Layout(height='25px', width='50%'),…"
      ]
     },
     "metadata": {},
     "output_type": "display_data"
    }
   ],
   "source": [
    "# O drug names\n",
    "\n",
    "consolidations_o = {\n",
    "    'oxycodone_hydrochloride': 'oxycodone',\n",
    "    'oxycodone+acetaminophen': 'oxycodone+acetaminophen',\n",
    "    'ondansetron_hydrochloride': 'ondansetron',\n",
    "    'ondansetron_hcl': 'ondansetron',\n",
    "    'ondansetron_hcl_dihydrate': 'ondansetron',\n",
    "    'ondansetron_odt': 'ondansetron+odt',\n",
    "    'oxybutynin_chloride': 'oxybutynin',\n",
    "    'oxybutynin_chloride_er': 'oxybutynin+er',\n",
    "    'olmesartan_medoxomil': 'olmesartan',\n",
    "    'omega-3-acid_ethyl_esters': 'omega-3-acid_ethyl_esters',\n",
    "    'oseltamivir_phosphate': 'oseltamivir',\n",
    "    'oxymorphone_hydrochloride': 'oxymorphone',\n",
    "    'optivar': 'azelastine',\n",
    "    'opsumit': 'macitentan',\n",
    "    'ocaliva': 'obeticholic_acid',\n",
    "    'octagam': 'immune_globulin_intravenous',\n",
    "    'ocuflox': 'ofloxacin_ophthalmic',\n",
    "    'ofev': 'nintedanib',\n",
    "    'ogivri': 'trastuzumab',\n",
    "    'olumiant': 'baricitinib',\n",
    "    'omnaris': 'ciclesonide_nasal',\n",
    "    'onfi': 'clobazam',\n",
    "    'onglyza': 'saxagliptin',\n",
    "    'onpattro': 'patisiran',\n",
    "    'opana': 'oxymorphone',\n",
    "    'opdivo': 'nivolumab',\n",
    "    'opsumit': 'macitentan',\n",
    "    'oracea': 'doxycycline',\n",
    "    'oralair': 'grass_pollen_allergen_extract',\n",
    "    'oravig': 'miconazole',\n",
    "    'orencia': 'abatacept',\n",
    "    'orfadin': 'nitisinone',\n",
    "    'orkambi': 'lumacaftor+ivacaftor',\n",
    "    'ortho_evra': 'ethinyl_estradiol+norelgestromin',\n",
    "    'ortho_tri-cyclen': 'ethinyl_estradiol+norgestimate',\n",
    "    'oseni': 'alogliptin+pioglitazone',\n",
    "    'otezla': 'apremilast',\n",
    "    'oxaydo': 'oxycodone',\n",
    "    'oxtellar_xr': 'oxcarbazepine',\n",
    "    'ozempic': 'semaglutide',\n",
    "    'olanzapine_odt': 'olanzapine+odt',\n",
    "    'olmesartan_medoxomil': 'olmesartan',\n",
    "    'olmesartan_medoxomil+amlo': 'olmesartan+amlodipine',\n",
    "    'olmesartan_medoxomil+hydr': 'olmesartan+hydrochlorothiazide',\n",
    "    'omega-3-6-9': 'omega-3+6+9',\n",
    "    'omega-3-acid_ethyl_esters': 'omega-3',\n",
    "    'omega-3_2100': 'omega-3',\n",
    "    'omega-3_cf': 'omega-3',\n",
    "    'omega-3_epa_fish_oil': 'omega-3',\n",
    "    'omega-3_fish_oil': 'omega-3',\n",
    "    'omega-3_fish_oil_maximum': 'omega-3',\n",
    "    'omega-3_fish_oil_no_burp': 'omega-3',\n",
    "    'omega-3_krill_oil': 'omega-3+krill_oil',\n",
    "    'omega-3_rx_complete': 'omega-3',\n",
    "    'omega-3+d-3_wellness_pack': 'omega-3+vitamin_d3',\n",
    "    'omega_3': 'omega-3',\n",
    "    'omega_3-6-9_complex': 'omega-3+6+9',\n",
    "    'omega_iii_epa+docosahexaenoic_acid': 'omega-3'\n",
    "}\n"
   ]
  },
  {
   "cell_type": "code",
   "execution_count": 185,
   "id": "a4604c11",
   "metadata": {
    "execution": {
     "iopub.execute_input": "2024-12-24T17:26:01.976061Z",
     "iopub.status.busy": "2024-12-24T17:26:01.975533Z",
     "iopub.status.idle": "2024-12-24T17:26:02.237421Z",
     "shell.execute_reply": "2024-12-24T17:26:02.236531Z",
     "shell.execute_reply.started": "2024-12-24T17:26:01.976022Z"
    },
    "tags": []
   },
   "outputs": [
    {
     "data": {
      "application/vnd.jupyter.widget-view+json": {
       "model_id": "1c3662783e0a485d9f90c87fab04135c",
       "version_major": 2,
       "version_minor": 0
      },
      "text/plain": [
       "VBox()"
      ]
     },
     "metadata": {},
     "output_type": "display_data"
    },
    {
     "data": {
      "application/vnd.jupyter.widget-view+json": {
       "model_id": "",
       "version_major": 2,
       "version_minor": 0
      },
      "text/plain": [
       "FloatProgress(value=0.0, bar_style='info', description='Progress:', layout=Layout(height='25px', width='50%'),…"
      ]
     },
     "metadata": {},
     "output_type": "display_data"
    }
   ],
   "source": [
    "clean_df = replace_values_with_mapping(clean_df, 'standardized_drug_name', consolidations_o)"
   ]
  },
  {
   "cell_type": "code",
   "execution_count": 186,
   "id": "d19fdf00",
   "metadata": {
    "execution": {
     "iopub.execute_input": "2024-12-24T17:26:02.238837Z",
     "iopub.status.busy": "2024-12-24T17:26:02.238368Z",
     "iopub.status.idle": "2024-12-24T17:26:09.592802Z",
     "shell.execute_reply": "2024-12-24T17:26:09.592186Z",
     "shell.execute_reply.started": "2024-12-24T17:26:02.238796Z"
    },
    "tags": []
   },
   "outputs": [
    {
     "data": {
      "application/vnd.jupyter.widget-view+json": {
       "model_id": "ac4889faaf6748259264cf7395d44c0e",
       "version_major": 2,
       "version_minor": 0
      },
      "text/plain": [
       "VBox()"
      ]
     },
     "metadata": {},
     "output_type": "display_data"
    },
    {
     "data": {
      "application/vnd.jupyter.widget-view+json": {
       "model_id": "",
       "version_major": 2,
       "version_minor": 0
      },
      "text/plain": [
       "FloatProgress(value=0.0, bar_style='info', description='Progress:', layout=Layout(height='25px', width='50%'),…"
      ]
     },
     "metadata": {},
     "output_type": "display_data"
    },
    {
     "name": "stdout",
     "output_type": "stream",
     "text": [
      "+-------------+----------+----------+--------------------+----+---------------+----------------------+\n",
      "|mi_person_key| drug_date|  ADE_Date|           drug_name|Year|Hospitalization|standardized_drug_name|\n",
      "+-------------+----------+----------+--------------------+----+---------------+----------------------+\n",
      "|   1000601369|2020-04-16|2020-05-19|oasis moisturizin...|2020|              0|  oasis_moisturizin...|\n",
      "|   1000601369|2020-04-16|2020-05-01|oasis moisturizin...|2020|              0|  oasis_moisturizin...|\n",
      "|   1000601369|2020-04-16|2020-05-29|oasis moisturizin...|2020|              0|  oasis_moisturizin...|\n",
      "|   1000601369|2020-04-16|2020-05-22|oasis moisturizin...|2020|              0|  oasis_moisturizin...|\n",
      "|   1000601369|2020-04-16|2020-05-15|oasis moisturizin...|2020|              0|  oasis_moisturizin...|\n",
      "|   1000601369|2020-04-16|2020-05-07|oasis moisturizin...|2020|              0|  oasis_moisturizin...|\n",
      "|   1000601369|2020-04-16|2020-05-08|oasis moisturizin...|2020|              0|  oasis_moisturizin...|\n",
      "|   1000601369|2020-04-16|2020-04-28|oasis moisturizin...|2020|              0|  oasis_moisturizin...|\n",
      "|   1000601369|2020-04-16|2020-04-25|oasis moisturizin...|2020|              0|  oasis_moisturizin...|\n",
      "|   1000601369|2020-04-16|2020-04-26|oasis moisturizin...|2020|              0|  oasis_moisturizin...|\n",
      "|   1000601369|2020-04-16|2020-04-27|oasis moisturizin...|2020|              0|  oasis_moisturizin...|\n",
      "|   1000601369|2020-04-16|2020-04-23|oasis moisturizin...|2020|              0|  oasis_moisturizin...|\n",
      "|   1000601369|2020-04-16|2020-05-21|oasis moisturizin...|2020|              0|  oasis_moisturizin...|\n",
      "|   1000601369|2020-04-16|2020-05-28|oasis moisturizin...|2020|              0|  oasis_moisturizin...|\n",
      "|   1000601369|2020-04-16|2020-04-22|oasis moisturizin...|2020|              0|  oasis_moisturizin...|\n",
      "|   1000601369|2020-04-16|2020-04-16|oasis moisturizin...|2020|              0|  oasis_moisturizin...|\n",
      "|   1000601369|2020-04-16|2020-05-14|oasis moisturizin...|2020|              0|  oasis_moisturizin...|\n",
      "|   1000601369|2020-04-16|2020-04-29|oasis moisturizin...|2020|              0|  oasis_moisturizin...|\n",
      "|   1000601369|2020-04-16|2020-04-20|oasis moisturizin...|2020|              0|  oasis_moisturizin...|\n",
      "|   1000601369|2020-04-16|2020-04-17|oasis moisturizin...|2020|              0|  oasis_moisturizin...|\n",
      "+-------------+----------+----------+--------------------+----+---------------+----------------------+\n",
      "only showing top 20 rows"
     ]
    }
   ],
   "source": [
    "from pyspark.sql.functions import asc\n",
    "\n",
    "# Add a custom sort column that prioritizes names starting with 'o'\n",
    "sorted_unique_levels = clean_df.withColumn(\n",
    "    \"sort_priority\",\n",
    "    when(col(\"standardized_drug_name\").startswith(\"o\"), 0).otherwise(1)\n",
    ")\n",
    "\n",
    "# Sort by the custom sort priority, and then alphabetically by 'standardized_drug_name'\n",
    "sorted_unique_levels = sorted_unique_levels.orderBy(\n",
    "    col(\"sort_priority\"), \n",
    "    col(\"standardized_drug_name\").asc()\n",
    ")\n",
    "\n",
    "# Drop priority sort column so we can use for new cases\n",
    "sorted_unique_levels = sorted_unique_levels.drop(\"sort_priority\")\n",
    "\n",
    "# Show the sorted DataFrame\n",
    "sorted_unique_levels.show(n=20)  # Adjust 'n' to display more or fewer results"
   ]
  },
  {
   "cell_type": "code",
   "execution_count": 187,
   "id": "379ac08a",
   "metadata": {
    "execution": {
     "iopub.execute_input": "2024-12-24T17:26:09.594121Z",
     "iopub.status.busy": "2024-12-24T17:26:09.593758Z",
     "iopub.status.idle": "2024-12-24T17:26:09.669414Z",
     "shell.execute_reply": "2024-12-24T17:26:09.668698Z",
     "shell.execute_reply.started": "2024-12-24T17:26:09.594094Z"
    },
    "tags": []
   },
   "outputs": [
    {
     "data": {
      "application/vnd.jupyter.widget-view+json": {
       "model_id": "ee1c0e801a864a338656326e52de50df",
       "version_major": 2,
       "version_minor": 0
      },
      "text/plain": [
       "VBox()"
      ]
     },
     "metadata": {},
     "output_type": "display_data"
    },
    {
     "data": {
      "application/vnd.jupyter.widget-view+json": {
       "model_id": "",
       "version_major": 2,
       "version_minor": 0
      },
      "text/plain": [
       "FloatProgress(value=0.0, bar_style='info', description='Progress:', layout=Layout(height='25px', width='50%'),…"
      ]
     },
     "metadata": {},
     "output_type": "display_data"
    }
   ],
   "source": [
    "# P drug names\n",
    "\n",
    "consolidations_p = {\n",
    "    'pantoprazole_sodium': 'pantoprazole',\n",
    "    'paroxetine_hcl': 'paroxetine',\n",
    "    'paroxetine_hcl_er': 'paroxetine+er',\n",
    "    'paroxetine_hydrochloride': 'paroxetine',\n",
    "    'penicillin_v_potassium': 'penicillin',\n",
    "    'penicillin_g_potassium': 'penicillin',\n",
    "    'penicillin_g_sodium': 'penicillin',\n",
    "    'phenytoin_sodium_extended': 'phenytoin',\n",
    "    'pioglitazone_hcl': 'pioglitazone',\n",
    "    'potassium_chloride_er': 'potassium_chloride+er',\n",
    "    'pravastatin_sodium': 'pravastatin',\n",
    "    'prednisolone_acetate': 'prednisolone',\n",
    "    'prednisone_intensol': 'prednisone',\n",
    "    'promethazine_hcl': 'promethazine',\n",
    "    'propranolol_hcl': 'propranolol',\n",
    "    'peg3350': 'polyethylene_glycol_3350',\n",
    "    'peg_3350': 'polyethylene_glycol_3350',\n",
    "    'pneumovax_23': 'pneumococcal_vaccine',\n",
    "    'pradaxa': 'dabigatran',\n",
    "    'proair_hfa': 'albuterol',\n",
    "    'pyridium': 'phenazopyridine',\n",
    "    'plavix': 'clopidogrel',\n",
    "    'protonix': 'pantoprazole',\n",
    "    'prozac': 'fluoxetine',\n",
    "    'premarin': 'conjugated_estrogens',\n",
    "    'prilosec': 'omeprazole',\n",
    "    'prevacid': 'lansoprazole',\n",
    "    'plaquenil': 'hydroxychloroquine',\n",
    "    'paxil': 'paroxetine',\n",
    "    'proventil_hfa': 'albuterol',\n",
    "    'provera': 'medroxyprogesterone',\n",
    "    'prograf': 'tacrolimus',\n",
    "    'percocet': 'oxycodone+acetaminophen',\n",
    "    'prempro': 'conjugated_estrogens+medroxyprogesterone',\n",
    "    'procardia_xl': 'nifedipine',\n",
    "    'provigil': 'modafinil',\n",
    "    'prilosec_otc': 'omeprazole',\n",
    "    'phenazopyridine_hcl': 'phenazopyridine',\n",
    "    'phenazopyridine_hydrochlo': 'phenazopyridine',\n",
    "    'phentermine_hcl': 'phentermine',\n",
    "    'phentermine_hydrochloride': 'phentermine',\n",
    "    'phentolamine_mesylate': 'phentolamine',\n",
    "    'phenylephrine_hydrochlori': 'phenylephrine',\n",
    "    'pilocarpine_hcl': 'pilocarpine',\n",
    "    'pilocarpine_hydrochloride': 'pilocarpine',\n",
    "    'pioglitazone_hcl': 'pioglitazone',\n",
    "    'pioglitazone_hydrochlorid': 'pioglitazone',\n",
    "    'pioglitazone_hcl+glimepir': 'pioglitazone+glimepiride',\n",
    "    'pioglitazone_hcl+metformi': 'pioglitazone+metformin',\n",
    "    'piperacillin_sodium+tazob': 'piperacillin+tazobactam',\n",
    "    'piperacillin+tazobactam': 'piperacillin+tazobactam',\n",
    "    'prazosin_hcl': 'prazosin',\n",
    "    'prazosin_hydrochloride': 'prazosin',\n",
    "    'peg-3350+electrolytes': 'polyethylene_glycol_3350+electrolytes',\n",
    "    'peg-3350+electrolytes+asc': 'polyethylene_glycol_3350+electrolytes',\n",
    "    'peg-3350+nacl+na_bicarbon': 'polyethylene_glycol_3350+electrolytes',\n",
    "    'peg-3350+sodium_sulf+nacl': 'polyethylene_glycol_3350+electrolytes',\n",
    "    'peg-3350+sodium_chloride+na_bicarbon': 'polyethylene_glycol_3350+electrolytes',\n",
    "    'peg-3350+sodium_sulf+sodium_chloride': 'polyethylene_glycol_3350+electrolytes',\n",
    "    'peg_3350': 'polyethylene_glycol_3350',\n",
    "    'peg_3350+electrolytes': 'polyethylene_glycol_3350+electrolytes',\n",
    "    'peg3350': 'polyethylene_glycol_3350',\n",
    "    'piqray_200mg_daily_dose': 'piqray',\n",
    "    'piqray_250mg_daily_dose': 'piqray',\n",
    "    'piqray_300mg_daily_dose': 'piqray',\n",
    "    'pirmella_1/35': 'pirmella',\n",
    "    'pirmella_7/7/7': 'pirmella',\n",
    "    'pneumovax_23': 'pneumococcal_vaccine',\n",
    "    'pneumovax_23/1_dose': 'pneumococcal_vaccine',\n",
    "    'pneumovax_23/5_dose': 'pneumococcal_vaccine',\n",
    "    'potassium_chloride+dextro': 'potassium_chloride+dextrose',\n",
    "    'potassium_chloride+sodium': 'potassium_chloride+sodium_chloride',\n",
    "    'potassium_chloride_0.15%+d5w+sodium_chloride_0.45%': 'potassium_chloride+dextrose+sodium_chloride',\n",
    "    'potassium_chloride_0.15%+d5w+sodium_chloride_0.9%': 'potassium_chloride+dextrose+sodium_chloride',\n",
    "    'potassium_chloride_0.3%+d5w+sodium_chloride_0.45%': 'potassium_chloride+dextrose+sodium_chloride',\n",
    "    'potassium_chloride_cr': 'potassium_chloride+cr',\n",
    "    'potassium_chloride_er': 'potassium_chloride+er',\n",
    "    'potassium_chloride_sr': 'potassium_chloride+sr',\n",
    "    'prednisolone_acetate': 'prednisolone',\n",
    "    'prednisolone_acetate_p-f': 'prednisolone',\n",
    "    'prednisolone_sodium_phosp': 'prednisolone',\n",
    "    'prednisolonee_sodium_phosp': 'prednisolone',\n",
    "    'prednisolonee': 'prednisolone',\n",
    "    'prednisone': 'prednisone',\n",
    "    'prednisone_intensol': 'prednisone'\n",
    "}"
   ]
  },
  {
   "cell_type": "code",
   "execution_count": 188,
   "id": "a1d9960d",
   "metadata": {
    "execution": {
     "iopub.execute_input": "2024-12-24T17:26:09.671220Z",
     "iopub.status.busy": "2024-12-24T17:26:09.670711Z",
     "iopub.status.idle": "2024-12-24T17:26:09.961735Z",
     "shell.execute_reply": "2024-12-24T17:26:09.961099Z",
     "shell.execute_reply.started": "2024-12-24T17:26:09.671180Z"
    },
    "tags": []
   },
   "outputs": [
    {
     "data": {
      "application/vnd.jupyter.widget-view+json": {
       "model_id": "e77699b3751f44f4a63dc02e76b8210d",
       "version_major": 2,
       "version_minor": 0
      },
      "text/plain": [
       "VBox()"
      ]
     },
     "metadata": {},
     "output_type": "display_data"
    },
    {
     "data": {
      "application/vnd.jupyter.widget-view+json": {
       "model_id": "",
       "version_major": 2,
       "version_minor": 0
      },
      "text/plain": [
       "FloatProgress(value=0.0, bar_style='info', description='Progress:', layout=Layout(height='25px', width='50%'),…"
      ]
     },
     "metadata": {},
     "output_type": "display_data"
    }
   ],
   "source": [
    "clean_df = replace_values_with_mapping(clean_df, 'standardized_drug_name', consolidations_p)"
   ]
  },
  {
   "cell_type": "code",
   "execution_count": 189,
   "id": "f9632f65",
   "metadata": {
    "execution": {
     "iopub.execute_input": "2024-12-24T17:26:09.963786Z",
     "iopub.status.busy": "2024-12-24T17:26:09.963234Z",
     "iopub.status.idle": "2024-12-24T17:26:17.244205Z",
     "shell.execute_reply": "2024-12-24T17:26:17.243333Z",
     "shell.execute_reply.started": "2024-12-24T17:26:09.963749Z"
    },
    "tags": []
   },
   "outputs": [
    {
     "data": {
      "application/vnd.jupyter.widget-view+json": {
       "model_id": "f5ec1f0224cc41ccb0ad95af8f3f8b02",
       "version_major": 2,
       "version_minor": 0
      },
      "text/plain": [
       "VBox()"
      ]
     },
     "metadata": {},
     "output_type": "display_data"
    },
    {
     "data": {
      "application/vnd.jupyter.widget-view+json": {
       "model_id": "",
       "version_major": 2,
       "version_minor": 0
      },
      "text/plain": [
       "FloatProgress(value=0.0, bar_style='info', description='Progress:', layout=Layout(height='25px', width='50%'),…"
      ]
     },
     "metadata": {},
     "output_type": "display_data"
    },
    {
     "name": "stdout",
     "output_type": "stream",
     "text": [
      "+-------------+----------+----------+------------+----+---------------+----------------------+\n",
      "|mi_person_key| drug_date|  ADE_Date|   drug_name|Year|Hospitalization|standardized_drug_name|\n",
      "+-------------+----------+----------+------------+----+---------------+----------------------+\n",
      "|   1003816184|2020-03-17|2020-04-15|       p & s|2020|              0|                 p_&_s|\n",
      "|   1011005745|2020-11-15|2020-12-02|       p & s|2020|              0|                 p_&_s|\n",
      "|   1011005745|2019-03-25|2019-04-16|       p & s|2019|              0|                 p_&_s|\n",
      "|   1011005745|2020-07-23|2020-09-02|       p & s|2020|              0|                 p_&_s|\n",
      "|   1003816184|2020-03-17|2020-04-17|       p & s|2020|              0|                 p_&_s|\n",
      "|   1011005745|2020-09-02|2020-09-02|       p & s|2020|              0|                 p_&_s|\n",
      "|   1011005745|2019-03-21|2019-04-16|       p & s|2019|              0|                 p_&_s|\n",
      "|   1003816184|2020-03-17|2020-04-20|       p & s|2020|              0|                 p_&_s|\n",
      "|   1011005745|2019-10-23|2019-11-21|       p & s|2019|              0|                 p_&_s|\n",
      "|   1011005745|2019-11-25|2019-12-05|       p & s|2019|              0|                 p_&_s|\n",
      "|   1011005745|2019-10-23|2019-12-05|       p & s|2019|              0|                 p_&_s|\n",
      "|   1011005745|2019-03-21|2019-03-21|       p & s|2019|              0|                 p_&_s|\n",
      "|   1002238225|2016-06-23|2016-06-28|pa melatonin|2016|              0|          pa_melatonin|\n",
      "|   1018095016|2018-04-19|2018-05-31|pa melatonin|2018|              0|          pa_melatonin|\n",
      "|   1002238225|2016-06-23|2016-06-23|pa melatonin|2016|              0|          pa_melatonin|\n",
      "|   1000152306|2017-03-13|2017-03-30|pa melatonin|2017|              0|          pa_melatonin|\n",
      "|   1002238225|2016-06-23|2016-07-22|pa melatonin|2016|              0|          pa_melatonin|\n",
      "|   1009737827|2016-09-09|2016-09-09|pa melatonin|2016|              0|          pa_melatonin|\n",
      "|   1000152306|2017-06-02|2017-06-13|pa melatonin|2017|              0|          pa_melatonin|\n",
      "|   1008650223|2017-11-21|2017-12-20|pa melatonin|2017|              0|          pa_melatonin|\n",
      "+-------------+----------+----------+------------+----+---------------+----------------------+\n",
      "only showing top 20 rows"
     ]
    }
   ],
   "source": [
    "from pyspark.sql.functions import asc\n",
    "\n",
    "# Add a custom sort column that prioritizes names starting with 'p'\n",
    "sorted_unique_levels = clean_df.withColumn(\n",
    "    \"sort_priority\",\n",
    "    when(col(\"standardized_drug_name\").startswith(\"p\"), 0).otherwise(1)\n",
    ")\n",
    "\n",
    "# Sort by the custom sort priority, and then alphabetically by 'standardized_drug_name'\n",
    "sorted_unique_levels = sorted_unique_levels.orderBy(\n",
    "    col(\"sort_priority\"), \n",
    "    col(\"standardized_drug_name\").asc()\n",
    ")\n",
    "\n",
    "# Drop priority sort column so we can use for new cases\n",
    "sorted_unique_levels = sorted_unique_levels.drop(\"sort_priority\")\n",
    "\n",
    "# Show the sorted DataFrame\n",
    "sorted_unique_levels.show(n=20)  # Adjust 'n' to display more or fewer results"
   ]
  },
  {
   "cell_type": "code",
   "execution_count": 190,
   "id": "38c0b561",
   "metadata": {
    "execution": {
     "iopub.execute_input": "2024-12-24T17:26:17.245794Z",
     "iopub.status.busy": "2024-12-24T17:26:17.245539Z",
     "iopub.status.idle": "2024-12-24T17:26:17.292923Z",
     "shell.execute_reply": "2024-12-24T17:26:17.292332Z",
     "shell.execute_reply.started": "2024-12-24T17:26:17.245757Z"
    },
    "tags": []
   },
   "outputs": [
    {
     "data": {
      "application/vnd.jupyter.widget-view+json": {
       "model_id": "e40d79957bae4ccdbbb0ec8c344c6ff4",
       "version_major": 2,
       "version_minor": 0
      },
      "text/plain": [
       "VBox()"
      ]
     },
     "metadata": {},
     "output_type": "display_data"
    },
    {
     "data": {
      "application/vnd.jupyter.widget-view+json": {
       "model_id": "",
       "version_major": 2,
       "version_minor": 0
      },
      "text/plain": [
       "FloatProgress(value=0.0, bar_style='info', description='Progress:', layout=Layout(height='25px', width='50%'),…"
      ]
     },
     "metadata": {},
     "output_type": "display_data"
    }
   ],
   "source": [
    "# Q drug names\n",
    "\n",
    "consolidations_q = {\n",
    "    'quetiapine_fumarate': 'quetiapine',\n",
    "    'quetiapine_fumarate_er': 'quetiapine+er',\n",
    "    'quinapril_hydrochloride': 'quinapril',\n",
    "    'quinapril_hcl': 'quinapril',\n",
    "    'qnasl': 'beclomethasone',\n",
    "    'quartette': 'levonorgestrel+ethinyl_estradiol',\n",
    "    'quasense': 'levonorgestrel+ethinyl_estradiol',\n",
    "    'quillichew_er': 'methylphenidate+er',\n",
    "    'quillivant_xr': 'methylphenidate+er',\n",
    "    'quinidine_sulfate': 'quinidine',\n",
    "    'quinine_sulfate': 'quinine',\n",
    "    'qvar': 'beclomethasone',\n",
    "    'qvar_redihaler': 'beclomethasone'\n",
    "}"
   ]
  },
  {
   "cell_type": "code",
   "execution_count": 191,
   "id": "c76c2362",
   "metadata": {
    "execution": {
     "iopub.execute_input": "2024-12-24T17:26:17.294018Z",
     "iopub.status.busy": "2024-12-24T17:26:17.293711Z",
     "iopub.status.idle": "2024-12-24T17:26:17.545795Z",
     "shell.execute_reply": "2024-12-24T17:26:17.545002Z",
     "shell.execute_reply.started": "2024-12-24T17:26:17.293992Z"
    },
    "tags": []
   },
   "outputs": [
    {
     "data": {
      "application/vnd.jupyter.widget-view+json": {
       "model_id": "e4ab3014f2e441d6a01b285395573089",
       "version_major": 2,
       "version_minor": 0
      },
      "text/plain": [
       "VBox()"
      ]
     },
     "metadata": {},
     "output_type": "display_data"
    },
    {
     "data": {
      "application/vnd.jupyter.widget-view+json": {
       "model_id": "",
       "version_major": 2,
       "version_minor": 0
      },
      "text/plain": [
       "FloatProgress(value=0.0, bar_style='info', description='Progress:', layout=Layout(height='25px', width='50%'),…"
      ]
     },
     "metadata": {},
     "output_type": "display_data"
    }
   ],
   "source": [
    "clean_df = replace_values_with_mapping(clean_df, 'standardized_drug_name', consolidations_q)"
   ]
  },
  {
   "cell_type": "code",
   "execution_count": 192,
   "id": "1e318d0d",
   "metadata": {
    "execution": {
     "iopub.execute_input": "2024-12-24T17:26:17.547629Z",
     "iopub.status.busy": "2024-12-24T17:26:17.547276Z",
     "iopub.status.idle": "2024-12-24T17:26:24.952588Z",
     "shell.execute_reply": "2024-12-24T17:26:24.951438Z",
     "shell.execute_reply.started": "2024-12-24T17:26:17.547591Z"
    },
    "tags": []
   },
   "outputs": [
    {
     "data": {
      "application/vnd.jupyter.widget-view+json": {
       "model_id": "c47d92a35b11455f9c024e06c16500c1",
       "version_major": 2,
       "version_minor": 0
      },
      "text/plain": [
       "VBox()"
      ]
     },
     "metadata": {},
     "output_type": "display_data"
    },
    {
     "data": {
      "application/vnd.jupyter.widget-view+json": {
       "model_id": "",
       "version_major": 2,
       "version_minor": 0
      },
      "text/plain": [
       "FloatProgress(value=0.0, bar_style='info', description='Progress:', layout=Layout(height='25px', width='50%'),…"
      ]
     },
     "metadata": {},
     "output_type": "display_data"
    },
    {
     "name": "stdout",
     "output_type": "stream",
     "text": [
      "+-------------+----------+----------+---------+----+---------------+----------------------+\n",
      "|mi_person_key| drug_date|  ADE_Date|drug_name|Year|Hospitalization|standardized_drug_name|\n",
      "+-------------+----------+----------+---------+----+---------------+----------------------+\n",
      "|   1007583814|2017-09-25|2017-10-02| q-bid-dm|2017|              0|              q-bid-dm|\n",
      "|   1004672506|2016-09-11|2016-10-10|   q-dryl|2016|              0|                q-dryl|\n",
      "|   1000491134|2017-07-10|2017-07-21|   q-dryl|2017|              0|                q-dryl|\n",
      "|   1005760258|2016-02-13|2016-02-13|   q-dryl|2016|              0|                q-dryl|\n",
      "|   1002949821|2018-10-13|2018-10-13|   q-dryl|2018|              0|                q-dryl|\n",
      "|   1004672506|2016-09-11|2016-10-21|   q-dryl|2016|              0|                q-dryl|\n",
      "|   1000491134|2017-07-10|2017-07-10|   q-dryl|2017|              0|                q-dryl|\n",
      "|   1001005054|2016-01-25|2016-02-02|   q-dryl|2016|              0|                q-dryl|\n",
      "|   1005981029|2018-08-14|2018-08-14|   q-dryl|2018|              0|                q-dryl|\n",
      "|   1004672506|2016-09-11|2016-09-24|   q-dryl|2016|              0|                q-dryl|\n",
      "|   1003484633|2017-04-17|2017-04-17|   q-dryl|2017|              0|                q-dryl|\n",
      "|   1001005054|2016-01-25|2016-02-03|   q-dryl|2016|              0|                q-dryl|\n",
      "|   1001949984|2016-08-13|2016-08-31|   q-dryl|2016|              0|                q-dryl|\n",
      "|   1004672506|2016-05-02|2016-05-19|   q-dryl|2016|              0|                q-dryl|\n",
      "|   1006668470|2017-04-29|2017-05-08|   q-dryl|2017|              0|                q-dryl|\n",
      "|   1001434646|2016-09-12|2016-09-12|   q-dryl|2016|              0|                q-dryl|\n",
      "|   1004673992|2018-05-22|2018-06-28|   q-dryl|2018|              0|                q-dryl|\n",
      "|   1004672506|2016-05-02|2016-05-30|   q-dryl|2016|              0|                q-dryl|\n",
      "|   1009533174|2017-07-15|2017-08-29|   q-dryl|2017|              0|                q-dryl|\n",
      "|   1001581872|2016-06-10|2016-06-10|   q-dryl|2016|              0|                q-dryl|\n",
      "+-------------+----------+----------+---------+----+---------------+----------------------+\n",
      "only showing top 20 rows"
     ]
    }
   ],
   "source": [
    "from pyspark.sql.functions import asc\n",
    "\n",
    "# Add a custom sort column that prioritizes names starting with 'q'\n",
    "sorted_unique_levels = clean_df.withColumn(\n",
    "    \"sort_priority\",\n",
    "    when(col(\"standardized_drug_name\").startswith(\"q\"), 0).otherwise(1)\n",
    ")\n",
    "\n",
    "# Sort by the custom sort priority, and then alphabetically by 'standardized_drug_name'\n",
    "sorted_unique_levels = sorted_unique_levels.orderBy(\n",
    "    col(\"sort_priority\"), \n",
    "    col(\"standardized_drug_name\").asc()\n",
    ")\n",
    "\n",
    "# Drop priority sort column so we can use for new cases\n",
    "sorted_unique_levels = sorted_unique_levels.drop(\"sort_priority\")\n",
    "\n",
    "# Show the sorted DataFrame\n",
    "sorted_unique_levels.show(n=20)  # Adjust 'n' to display more or fewer results"
   ]
  },
  {
   "cell_type": "code",
   "execution_count": 193,
   "id": "04cf4df1",
   "metadata": {
    "execution": {
     "iopub.execute_input": "2024-12-24T17:26:24.953978Z",
     "iopub.status.busy": "2024-12-24T17:26:24.953791Z",
     "iopub.status.idle": "2024-12-24T17:26:25.003221Z",
     "shell.execute_reply": "2024-12-24T17:26:25.002432Z",
     "shell.execute_reply.started": "2024-12-24T17:26:24.953953Z"
    },
    "tags": []
   },
   "outputs": [
    {
     "data": {
      "application/vnd.jupyter.widget-view+json": {
       "model_id": "a5557a48ac4241979b7a2327ed28bcfd",
       "version_major": 2,
       "version_minor": 0
      },
      "text/plain": [
       "VBox()"
      ]
     },
     "metadata": {},
     "output_type": "display_data"
    },
    {
     "data": {
      "application/vnd.jupyter.widget-view+json": {
       "model_id": "",
       "version_major": 2,
       "version_minor": 0
      },
      "text/plain": [
       "FloatProgress(value=0.0, bar_style='info', description='Progress:', layout=Layout(height='25px', width='50%'),…"
      ]
     },
     "metadata": {},
     "output_type": "display_data"
    }
   ],
   "source": [
    "# R drug names\n",
    "\n",
    "consolidations_r = {\n",
    "    'raloxifene_hydrochloride': 'raloxifene',\n",
    "    'ranitidine_hydrochloride': 'ranitidine',\n",
    "    'reclast': 'zoledronic_acid',\n",
    "    'regenecare_ha': 'lidocaine',\n",
    "    'relion_ultra_thin_lancets': 'not_drug',\n",
    "    'repatha': 'evolocumab',\n",
    "    'repatha_sureclick': 'evolocumab',\n",
    "    'restasis': 'cyclosporine_ophthalmic',\n",
    "    'restasis_multidose': 'cyclosporine_ophthalmic',\n",
    "    'revlimid': 'lenalidomide',\n",
    "    'rexulti': 'brexpiprazole',\n",
    "    'reyataz': 'atazanavir',\n",
    "    'ribasphere': 'ribavirin',\n",
    "    'risedronate_sodium': 'risedronate',\n",
    "    'risedronate_sodium_dr': 'risedronate',\n",
    "    'rivastigmine_transdermal': 'rivastigmine',\n",
    "    'rosuvastatin_calcium': 'rosuvastatin',\n",
    "    'rozerem': 'ramelteon',\n",
    "    'rydapt': 'midostaurin'\n",
    "}\n"
   ]
  },
  {
   "cell_type": "code",
   "execution_count": 194,
   "id": "0589a058",
   "metadata": {
    "execution": {
     "iopub.execute_input": "2024-12-24T17:26:25.004697Z",
     "iopub.status.busy": "2024-12-24T17:26:25.004489Z",
     "iopub.status.idle": "2024-12-24T17:26:25.254284Z",
     "shell.execute_reply": "2024-12-24T17:26:25.253517Z",
     "shell.execute_reply.started": "2024-12-24T17:26:25.004671Z"
    },
    "tags": []
   },
   "outputs": [
    {
     "data": {
      "application/vnd.jupyter.widget-view+json": {
       "model_id": "3f6f3702c70947eebf993c8743b6f01d",
       "version_major": 2,
       "version_minor": 0
      },
      "text/plain": [
       "VBox()"
      ]
     },
     "metadata": {},
     "output_type": "display_data"
    },
    {
     "data": {
      "application/vnd.jupyter.widget-view+json": {
       "model_id": "",
       "version_major": 2,
       "version_minor": 0
      },
      "text/plain": [
       "FloatProgress(value=0.0, bar_style='info', description='Progress:', layout=Layout(height='25px', width='50%'),…"
      ]
     },
     "metadata": {},
     "output_type": "display_data"
    }
   ],
   "source": [
    "clean_df = replace_values_with_mapping(clean_df, 'standardized_drug_name', consolidations_r)"
   ]
  },
  {
   "cell_type": "code",
   "execution_count": 195,
   "id": "095b2073",
   "metadata": {
    "execution": {
     "iopub.execute_input": "2024-12-24T17:26:25.256051Z",
     "iopub.status.busy": "2024-12-24T17:26:25.255620Z",
     "iopub.status.idle": "2024-12-24T17:26:32.551194Z",
     "shell.execute_reply": "2024-12-24T17:26:32.550061Z",
     "shell.execute_reply.started": "2024-12-24T17:26:25.256008Z"
    },
    "tags": []
   },
   "outputs": [
    {
     "data": {
      "application/vnd.jupyter.widget-view+json": {
       "model_id": "dc25ed4b0e024186a72ae7a1f5265ff8",
       "version_major": 2,
       "version_minor": 0
      },
      "text/plain": [
       "VBox()"
      ]
     },
     "metadata": {},
     "output_type": "display_data"
    },
    {
     "data": {
      "application/vnd.jupyter.widget-view+json": {
       "model_id": "",
       "version_major": 2,
       "version_minor": 0
      },
      "text/plain": [
       "FloatProgress(value=0.0, bar_style='info', description='Progress:', layout=Layout(height='25px', width='50%'),…"
      ]
     },
     "metadata": {},
     "output_type": "display_data"
    },
    {
     "name": "stdout",
     "output_type": "stream",
     "text": [
      "+-------------+----------+----------+---------+----+---------------+----------------------+\n",
      "|mi_person_key| drug_date|  ADE_Date|drug_name|Year|Hospitalization|standardized_drug_name|\n",
      "+-------------+----------+----------+---------+----+---------------+----------------------+\n",
      "|   1003027291|2019-10-23|2019-11-13|r-gene 10|2019|              0|             r-gene_10|\n",
      "|   1021438694|2016-12-12|2016-12-15|r-gene 10|2016|              0|             r-gene_10|\n",
      "|   1021438694|2016-12-12|2017-01-17|r-gene 10|2017|              0|             r-gene_10|\n",
      "|   1012609248|2017-04-07|2017-05-01|r-gene 10|2017|              0|             r-gene_10|\n",
      "|   1001968675|2019-11-11|2019-11-11|r-gene 10|2019|              0|             r-gene_10|\n",
      "|   1012609248|2017-04-07|2017-04-07|r-gene 10|2017|              0|             r-gene_10|\n",
      "|   1000733677|2020-09-09|2020-09-09|r-gene 10|2020|              0|             r-gene_10|\n",
      "|   1001968675|2019-11-11|2019-11-14|r-gene 10|2019|              0|             r-gene_10|\n",
      "|   1003259618|2020-12-17|2020-12-17|r-gene 10|2020|              0|             r-gene_10|\n",
      "|   1000733677|2020-09-09|2020-10-15|r-gene 10|2020|              0|             r-gene_10|\n",
      "|   1000571665|2016-01-12|2016-02-22|r-gene 10|2016|              0|             r-gene_10|\n",
      "|   1000733677|2020-09-09|2020-10-16|r-gene 10|2020|              0|             r-gene_10|\n",
      "|   1009992768|2020-07-16|2020-07-16|r-gene 10|2020|              0|             r-gene_10|\n",
      "|   1000733677|2020-09-09|2020-10-13|r-gene 10|2020|              0|             r-gene_10|\n",
      "|   1000571665|2016-01-12|2016-01-25|r-gene 10|2016|              0|             r-gene_10|\n",
      "|   1000733677|2020-09-09|2020-09-30|r-gene 10|2020|              0|             r-gene_10|\n",
      "|   1006352289|2020-06-09|2020-07-09|r-gene 10|2020|              0|             r-gene_10|\n",
      "|   1000733677|2020-09-09|2020-10-14|r-gene 10|2020|              0|             r-gene_10|\n",
      "|   1000571665|2016-01-12|2016-01-12|r-gene 10|2016|              0|             r-gene_10|\n",
      "|   1000517479|2019-11-21|2019-12-09|r-gene 10|2019|              0|             r-gene_10|\n",
      "+-------------+----------+----------+---------+----+---------------+----------------------+\n",
      "only showing top 20 rows"
     ]
    }
   ],
   "source": [
    "from pyspark.sql.functions import asc\n",
    "\n",
    "# Add a custom sort column that prioritizes names starting with 'r'\n",
    "sorted_unique_levels = clean_df.withColumn(\n",
    "    \"sort_priority\",\n",
    "    when(col(\"standardized_drug_name\").startswith(\"r\"), 0).otherwise(1)\n",
    ")\n",
    "\n",
    "# Sort by the custom sort priority, and then alphabetically by 'standardized_drug_name'\n",
    "sorted_unique_levels = sorted_unique_levels.orderBy(\n",
    "    col(\"sort_priority\"), \n",
    "    col(\"standardized_drug_name\").asc()\n",
    ")\n",
    "\n",
    "# Drop sort priority column to use for new cases\n",
    "sorted_unique_levels = sorted_unique_levels.drop(\"sort_priority\")\n",
    "\n",
    "# Show the sorted DataFrame\n",
    "sorted_unique_levels.show(n=20)  # Adjust 'n' to display more or fewer results"
   ]
  },
  {
   "cell_type": "code",
   "execution_count": 196,
   "id": "19cfeb1e",
   "metadata": {
    "execution": {
     "iopub.execute_input": "2024-12-24T17:26:32.552803Z",
     "iopub.status.busy": "2024-12-24T17:26:32.552532Z",
     "iopub.status.idle": "2024-12-24T17:26:32.607587Z",
     "shell.execute_reply": "2024-12-24T17:26:32.606804Z",
     "shell.execute_reply.started": "2024-12-24T17:26:32.552762Z"
    },
    "tags": []
   },
   "outputs": [
    {
     "data": {
      "application/vnd.jupyter.widget-view+json": {
       "model_id": "5965ea5afa864d5c90c42beb565292c0",
       "version_major": 2,
       "version_minor": 0
      },
      "text/plain": [
       "VBox()"
      ]
     },
     "metadata": {},
     "output_type": "display_data"
    },
    {
     "data": {
      "application/vnd.jupyter.widget-view+json": {
       "model_id": "",
       "version_major": 2,
       "version_minor": 0
      },
      "text/plain": [
       "FloatProgress(value=0.0, bar_style='info', description='Progress:', layout=Layout(height='25px', width='50%'),…"
      ]
     },
     "metadata": {},
     "output_type": "display_data"
    }
   ],
   "source": [
    "# S drug names\n",
    "\n",
    "consolidations_s = {\n",
    "    'sertraline_hcl': 'sertraline',\n",
    "    'sumatriptan_succinate': 'sumatriptan',\n",
    "    'symbicort': 'budesonide+formoterol',\n",
    "    'synthroid': 'levothyroxine',\n",
    "    'senna': 'sennosides',\n",
    "    'senna_plus': 'sennosides+docusate',\n",
    "    'senna_s': 'sennosides+docusate',\n",
    "    'sevelamer_carbonate': 'sevelamer',\n",
    "    'sevelamer_hcl': 'sevelamer',\n",
    "    'sildenafil_citrate': 'sildenafil',\n",
    "    'sitagliptin_phosphate': 'sitagliptin',\n",
    "    'solifenacin_succinate': 'solifenacin',\n",
    "    'sotalol_hcl': 'sotalol',\n",
    "    'spiriva': 'tiotropium',\n",
    "    'sumatriptan_succinate': 'sumatriptan',\n",
    "    'symbicort': 'budesonide+formoterol'\n",
    "}"
   ]
  },
  {
   "cell_type": "code",
   "execution_count": 197,
   "id": "894a559a",
   "metadata": {
    "execution": {
     "iopub.execute_input": "2024-12-24T17:26:32.609026Z",
     "iopub.status.busy": "2024-12-24T17:26:32.608762Z",
     "iopub.status.idle": "2024-12-24T17:26:32.870447Z",
     "shell.execute_reply": "2024-12-24T17:26:32.869407Z",
     "shell.execute_reply.started": "2024-12-24T17:26:32.608985Z"
    },
    "tags": []
   },
   "outputs": [
    {
     "data": {
      "application/vnd.jupyter.widget-view+json": {
       "model_id": "6ba5b82cf763406cb19ab8134abbffb2",
       "version_major": 2,
       "version_minor": 0
      },
      "text/plain": [
       "VBox()"
      ]
     },
     "metadata": {},
     "output_type": "display_data"
    },
    {
     "data": {
      "application/vnd.jupyter.widget-view+json": {
       "model_id": "",
       "version_major": 2,
       "version_minor": 0
      },
      "text/plain": [
       "FloatProgress(value=0.0, bar_style='info', description='Progress:', layout=Layout(height='25px', width='50%'),…"
      ]
     },
     "metadata": {},
     "output_type": "display_data"
    }
   ],
   "source": [
    "clean_df = replace_values_with_mapping(clean_df, 'standardized_drug_name', consolidations_s)"
   ]
  },
  {
   "cell_type": "code",
   "execution_count": 198,
   "id": "e108c54e",
   "metadata": {
    "execution": {
     "iopub.execute_input": "2024-12-24T17:26:32.871707Z",
     "iopub.status.busy": "2024-12-24T17:26:32.871454Z",
     "iopub.status.idle": "2024-12-24T17:26:42.169141Z",
     "shell.execute_reply": "2024-12-24T17:26:42.168166Z",
     "shell.execute_reply.started": "2024-12-24T17:26:32.871679Z"
    },
    "tags": []
   },
   "outputs": [
    {
     "data": {
      "application/vnd.jupyter.widget-view+json": {
       "model_id": "13e0d3601a61450095c4e83ad137454a",
       "version_major": 2,
       "version_minor": 0
      },
      "text/plain": [
       "VBox()"
      ]
     },
     "metadata": {},
     "output_type": "display_data"
    },
    {
     "data": {
      "application/vnd.jupyter.widget-view+json": {
       "model_id": "",
       "version_major": 2,
       "version_minor": 0
      },
      "text/plain": [
       "FloatProgress(value=0.0, bar_style='info', description='Progress:', layout=Layout(height='25px', width='50%'),…"
      ]
     },
     "metadata": {},
     "output_type": "display_data"
    },
    {
     "name": "stdout",
     "output_type": "stream",
     "text": [
      "+-------------+----------+----------+--------------------+----+---------------+----------------------+\n",
      "|mi_person_key| drug_date|  ADE_Date|           drug_name|Year|Hospitalization|standardized_drug_name|\n",
      "+-------------+----------+----------+--------------------+----+---------------+----------------------+\n",
      "|   1007505161|2019-04-24|2019-04-24|sm skin cleanser ...|2019|              0|  s+sm_skin_cleanse...|\n",
      "|   1016048111|2016-06-17|2016-06-23|sm skin cleanser ...|2016|              0|  s+sm_skin_cleanse...|\n",
      "|   1016048111|2016-06-20|2016-06-23|sm skin cleanser ...|2016|              0|  s+sm_skin_cleanse...|\n",
      "|   1016048111|2016-06-17|2016-06-17|sm skin cleanser ...|2016|              0|  s+sm_skin_cleanse...|\n",
      "|   1000880001|2018-09-28|2018-09-28|                  s2|2018|              0|                    s2|\n",
      "|   1005982794|2017-01-16|2017-01-16|                  s2|2017|              0|                    s2|\n",
      "|   1003760589|2019-08-24|2019-08-30|                  s2|2019|              0|                    s2|\n",
      "|   1005982794|2017-01-16|2017-02-07|                  s2|2017|              0|                    s2|\n",
      "|   1013218302|2018-01-15|2018-02-26|                  s2|2018|              0|                    s2|\n",
      "|   1005982794|2017-01-16|2017-02-21|                  s2|2017|              0|                    s2|\n",
      "|   1000559585|2016-12-22|2016-12-22|                  s2|2016|              0|                    s2|\n",
      "|   1005982794|2017-01-16|2017-02-28|                  s2|2017|              0|                    s2|\n",
      "|   1013218302|2018-01-15|2018-01-16|                  s2|2018|              0|                    s2|\n",
      "|   1005982794|2017-01-16|2017-02-27|                  s2|2017|              0|                    s2|\n",
      "|   1000559585|2016-12-22|2017-01-30|                  s2|2017|              0|                    s2|\n",
      "|   1005982794|2017-01-16|2017-02-17|                  s2|2017|              0|                    s2|\n",
      "|   1013218302|2018-01-15|2018-01-29|                  s2|2018|              0|                    s2|\n",
      "|   1005982794|2017-01-16|2017-02-10|                  s2|2017|              0|                    s2|\n",
      "|   1000559585|2016-12-22|2016-12-23|                  s2|2016|              0|                    s2|\n",
      "|   1005982794|2017-01-16|2017-01-24|                  s2|2017|              0|                    s2|\n",
      "+-------------+----------+----------+--------------------+----+---------------+----------------------+\n",
      "only showing top 20 rows"
     ]
    }
   ],
   "source": [
    "from pyspark.sql.functions import asc\n",
    "\n",
    "# Add a custom sort column that prioritizes names starting with 's'\n",
    "sorted_unique_levels = clean_df.withColumn(\n",
    "    \"sort_priority\",\n",
    "    when(col(\"standardized_drug_name\").startswith(\"s\"), 0).otherwise(1)\n",
    ")\n",
    "\n",
    "# Sort by the custom sort priority, and then alphabetically by 'standardized_drug_name'\n",
    "sorted_unique_levels = sorted_unique_levels.orderBy(\n",
    "    col(\"sort_priority\"), \n",
    "    col(\"standardized_drug_name\").asc()\n",
    ")\n",
    "\n",
    "# Drop priority sort column so we can use for new cases\n",
    "sorted_unique_levels = sorted_unique_levels.drop(\"sort_priority\")\n",
    "\n",
    "# Show the sorted DataFrame\n",
    "sorted_unique_levels.show(n=20)  # Adjust 'n' to display more or fewer results"
   ]
  },
  {
   "cell_type": "code",
   "execution_count": 199,
   "id": "b6f01bfe",
   "metadata": {
    "execution": {
     "iopub.execute_input": "2024-12-24T17:26:42.170903Z",
     "iopub.status.busy": "2024-12-24T17:26:42.170490Z",
     "iopub.status.idle": "2024-12-24T17:26:42.304586Z",
     "shell.execute_reply": "2024-12-24T17:26:42.287993Z",
     "shell.execute_reply.started": "2024-12-24T17:26:42.170864Z"
    },
    "tags": []
   },
   "outputs": [
    {
     "data": {
      "application/vnd.jupyter.widget-view+json": {
       "model_id": "4df6ce9ef2574571a7dac43a3e849342",
       "version_major": 2,
       "version_minor": 0
      },
      "text/plain": [
       "VBox()"
      ]
     },
     "metadata": {},
     "output_type": "display_data"
    },
    {
     "data": {
      "application/vnd.jupyter.widget-view+json": {
       "model_id": "",
       "version_major": 2,
       "version_minor": 0
      },
      "text/plain": [
       "FloatProgress(value=0.0, bar_style='info', description='Progress:', layout=Layout(height='25px', width='50%'),…"
      ]
     },
     "metadata": {},
     "output_type": "display_data"
    }
   ],
   "source": [
    "# T drug names\n",
    "\n",
    "consolidations_t = {\n",
    "    'tamsulosin_hydrochloride': 'tamsulosin',\n",
    "    'testosterone_cypionate': 'testosterone',\n",
    "    'tiotropium_bromide': 'tiotropium',\n",
    "    'topiramate_er': 'topiramate+er',\n",
    "    'tramadol_hcl': 'tramadol',\n",
    "    'trazodone_hydrochloride': 'trazodone',\n",
    "    'triamcinolone_acetonide': 'triamcinolone',\n",
    "    'toujeo_solostar': 'insulin_glargine',\n",
    "    'travatan_z': 'travoprost',\n",
    "    'tresiba': 'insulin_degludec',\n",
    "    'trulicity': 'dulaglutide',\n",
    "    'tysabri': 'natalizumab'\n",
    "}"
   ]
  },
  {
   "cell_type": "code",
   "execution_count": 200,
   "id": "c771d27e",
   "metadata": {
    "execution": {
     "iopub.execute_input": "2024-12-24T17:26:42.306334Z",
     "iopub.status.busy": "2024-12-24T17:26:42.305882Z",
     "iopub.status.idle": "2024-12-24T17:26:42.592378Z",
     "shell.execute_reply": "2024-12-24T17:26:42.579529Z",
     "shell.execute_reply.started": "2024-12-24T17:26:42.306295Z"
    },
    "tags": []
   },
   "outputs": [
    {
     "data": {
      "application/vnd.jupyter.widget-view+json": {
       "model_id": "5daa093133164e59bfcff6432b83d8be",
       "version_major": 2,
       "version_minor": 0
      },
      "text/plain": [
       "VBox()"
      ]
     },
     "metadata": {},
     "output_type": "display_data"
    },
    {
     "data": {
      "application/vnd.jupyter.widget-view+json": {
       "model_id": "",
       "version_major": 2,
       "version_minor": 0
      },
      "text/plain": [
       "FloatProgress(value=0.0, bar_style='info', description='Progress:', layout=Layout(height='25px', width='50%'),…"
      ]
     },
     "metadata": {},
     "output_type": "display_data"
    }
   ],
   "source": [
    "clean_df = replace_values_with_mapping(clean_df, 'standardized_drug_name', consolidations_t)"
   ]
  },
  {
   "cell_type": "code",
   "execution_count": 201,
   "id": "ec0538f1",
   "metadata": {
    "execution": {
     "iopub.execute_input": "2024-12-24T17:26:42.598029Z",
     "iopub.status.busy": "2024-12-24T17:26:42.597675Z",
     "iopub.status.idle": "2024-12-24T17:26:52.015321Z",
     "shell.execute_reply": "2024-12-24T17:26:52.014554Z",
     "shell.execute_reply.started": "2024-12-24T17:26:42.597980Z"
    },
    "tags": []
   },
   "outputs": [
    {
     "data": {
      "application/vnd.jupyter.widget-view+json": {
       "model_id": "52e99910010c428e85a20bb4c9e43ffb",
       "version_major": 2,
       "version_minor": 0
      },
      "text/plain": [
       "VBox()"
      ]
     },
     "metadata": {},
     "output_type": "display_data"
    },
    {
     "data": {
      "application/vnd.jupyter.widget-view+json": {
       "model_id": "",
       "version_major": 2,
       "version_minor": 0
      },
      "text/plain": [
       "FloatProgress(value=0.0, bar_style='info', description='Progress:', layout=Layout(height='25px', width='50%'),…"
      ]
     },
     "metadata": {},
     "output_type": "display_data"
    },
    {
     "name": "stdout",
     "output_type": "stream",
     "text": [
      "+-------------+----------+----------+--------------------+----+---------------+----------------------+\n",
      "|mi_person_key| drug_date|  ADE_Date|           drug_name|Year|Hospitalization|standardized_drug_name|\n",
      "+-------------+----------+----------+--------------------+----+---------------+----------------------+\n",
      "|   1005395028|2016-11-26|2017-01-07|t:slim g4 insulin...|2017|              0|  t:slim_g4_insulin...|\n",
      "|   1005395028|2016-08-29|2016-09-22|t:slim g4 insulin...|2016|              0|  t:slim_g4_insulin...|\n",
      "|   1000199497|2016-02-19|2016-03-14|t:slim g4 insulin...|2016|              0|  t:slim_g4_insulin...|\n",
      "|   1005395028|2016-11-26|2017-01-05|t:slim g4 insulin...|2017|              0|  t:slim_g4_insulin...|\n",
      "|   1000199497|2016-02-19|2016-03-08|t:slim g4 insulin...|2016|              0|  t:slim_g4_insulin...|\n",
      "|   1000199497|2016-07-11|2016-08-03|t:slim g4 insulin...|2016|              0|  t:slim_g4_insulin...|\n",
      "|   1000199497|2016-03-18|2016-04-06|t:slim g4 insulin...|2016|              0|  t:slim_g4_insulin...|\n",
      "|   1005712528|2019-07-23|2019-08-28|t:slim insulin ca...|2019|              0|  t:slim_insulin_ca...|\n",
      "|   1013942006|2017-08-03|2017-08-22|t:slim insulin ca...|2017|              0|  t:slim_insulin_ca...|\n",
      "|   1013942006|2017-08-03|2017-08-25|t:slim insulin ca...|2017|              0|  t:slim_insulin_ca...|\n",
      "|   1013942006|2017-08-03|2017-09-12|t:slim insulin ca...|2017|              0|  t:slim_insulin_ca...|\n",
      "|   1007803536|2018-11-01|2018-12-13|t:slim t:lock  in...|2018|              0|  t:slim_t:lock__in...|\n",
      "|   1003291547|2018-11-15|2018-12-08|t:slim t:lock  in...|2018|              0|  t:slim_t:lock__in...|\n",
      "|   1012487791|2018-10-16|2018-11-29|t:slim t:lock  in...|2018|              0|  t:slim_t:lock__in...|\n",
      "|   1005395028|2018-03-07|2018-03-28|t:slim t:lock  in...|2018|              0|  t:slim_t:lock__in...|\n",
      "|   1011529942|2018-06-28|2018-06-28|t:slim t:lock  in...|2018|              0|  t:slim_t:lock__in...|\n",
      "|   1005395028|2018-03-07|2018-04-06|t:slim t:lock  in...|2018|              0|  t:slim_t:lock__in...|\n",
      "|   1003291547|2019-06-10|2019-07-15|t:slim t:lock  in...|2019|              0|  t:slim_t:lock__in...|\n",
      "|   1005712528|2019-08-20|2019-08-28|t:slim t:lock  in...|2019|              0|  t:slim_t:lock__in...|\n",
      "|   1005712528|2019-07-24|2019-08-28|t:slim t:lock  in...|2019|              0|  t:slim_t:lock__in...|\n",
      "+-------------+----------+----------+--------------------+----+---------------+----------------------+\n",
      "only showing top 20 rows"
     ]
    }
   ],
   "source": [
    "from pyspark.sql.functions import asc\n",
    "\n",
    "# Add a custom sort column that prioritizes names starting with 't'\n",
    "sorted_unique_levels = clean_df.withColumn(\n",
    "    \"sort_priority\",\n",
    "    when(col(\"standardized_drug_name\").startswith(\"t\"), 0).otherwise(1)\n",
    ")\n",
    "\n",
    "# Sort by the custom sort priority, and then alphabetically by 'standardized_drug_name'\n",
    "sorted_unique_levels = sorted_unique_levels.orderBy(\n",
    "    col(\"sort_priority\"), \n",
    "    col(\"standardized_drug_name\").asc()\n",
    ")\n",
    "\n",
    "# Drop priority sort column so we can use for new cases\n",
    "sorted_unique_levels = sorted_unique_levels.drop(\"sort_priority\")\n",
    "\n",
    "# Show the sorted DataFrame\n",
    "sorted_unique_levels.show(n=20)  # Adjust 'n' to display more or fewer results"
   ]
  },
  {
   "cell_type": "code",
   "execution_count": 202,
   "id": "8e942dd5",
   "metadata": {
    "execution": {
     "iopub.execute_input": "2024-12-24T17:26:52.016519Z",
     "iopub.status.busy": "2024-12-24T17:26:52.016303Z",
     "iopub.status.idle": "2024-12-24T17:26:52.063501Z",
     "shell.execute_reply": "2024-12-24T17:26:52.062642Z",
     "shell.execute_reply.started": "2024-12-24T17:26:52.016492Z"
    },
    "tags": []
   },
   "outputs": [
    {
     "data": {
      "application/vnd.jupyter.widget-view+json": {
       "model_id": "1500360e822d4c2c9c442fe92dff7f3f",
       "version_major": 2,
       "version_minor": 0
      },
      "text/plain": [
       "VBox()"
      ]
     },
     "metadata": {},
     "output_type": "display_data"
    },
    {
     "data": {
      "application/vnd.jupyter.widget-view+json": {
       "model_id": "",
       "version_major": 2,
       "version_minor": 0
      },
      "text/plain": [
       "FloatProgress(value=0.0, bar_style='info', description='Progress:', layout=Layout(height='25px', width='50%'),…"
      ]
     },
     "metadata": {},
     "output_type": "display_data"
    }
   ],
   "source": [
    "# U drug names\n",
    "\n",
    "consolidations_u = {\n",
    "    'unifine_safecontrol_pen_n': 'not_drug',\n",
    "    'ulticare_short_pen_needle': 'not_drug',\n",
    "    'ultra-care_lancets_30g': 'not_drug',\n",
    "    'unilet_lancets_micro-thin': 'not_drug',\n",
    "    'unistik_czt_normal': 'not_drug',\n",
    "    'ultra-care_alcohol_prep_p': 'not_drug',\n",
    "    'ultilet_lancets': 'not_drug',\n",
    "    'unisol_4': 'unisol'\n",
    "}"
   ]
  },
  {
   "cell_type": "code",
   "execution_count": 203,
   "id": "6789110f",
   "metadata": {
    "execution": {
     "iopub.execute_input": "2024-12-24T17:26:52.064647Z",
     "iopub.status.busy": "2024-12-24T17:26:52.064464Z",
     "iopub.status.idle": "2024-12-24T17:26:52.326476Z",
     "shell.execute_reply": "2024-12-24T17:26:52.325391Z",
     "shell.execute_reply.started": "2024-12-24T17:26:52.064622Z"
    },
    "tags": []
   },
   "outputs": [
    {
     "data": {
      "application/vnd.jupyter.widget-view+json": {
       "model_id": "bd5295729f364e9a80306e1093bee697",
       "version_major": 2,
       "version_minor": 0
      },
      "text/plain": [
       "VBox()"
      ]
     },
     "metadata": {},
     "output_type": "display_data"
    },
    {
     "data": {
      "application/vnd.jupyter.widget-view+json": {
       "model_id": "",
       "version_major": 2,
       "version_minor": 0
      },
      "text/plain": [
       "FloatProgress(value=0.0, bar_style='info', description='Progress:', layout=Layout(height='25px', width='50%'),…"
      ]
     },
     "metadata": {},
     "output_type": "display_data"
    }
   ],
   "source": [
    "clean_df = replace_values_with_mapping(clean_df, 'standardized_drug_name', consolidations_u)"
   ]
  },
  {
   "cell_type": "code",
   "execution_count": 204,
   "id": "cae621b7",
   "metadata": {
    "execution": {
     "iopub.execute_input": "2024-12-24T17:26:52.327700Z",
     "iopub.status.busy": "2024-12-24T17:26:52.327512Z",
     "iopub.status.idle": "2024-12-24T17:27:01.631256Z",
     "shell.execute_reply": "2024-12-24T17:27:01.630495Z",
     "shell.execute_reply.started": "2024-12-24T17:26:52.327675Z"
    },
    "tags": []
   },
   "outputs": [
    {
     "data": {
      "application/vnd.jupyter.widget-view+json": {
       "model_id": "d3bd8b6c8a724722b6b8fc209e9a1bd3",
       "version_major": 2,
       "version_minor": 0
      },
      "text/plain": [
       "VBox()"
      ]
     },
     "metadata": {},
     "output_type": "display_data"
    },
    {
     "data": {
      "application/vnd.jupyter.widget-view+json": {
       "model_id": "",
       "version_major": 2,
       "version_minor": 0
      },
      "text/plain": [
       "FloatProgress(value=0.0, bar_style='info', description='Progress:', layout=Layout(height='25px', width='50%'),…"
      ]
     },
     "metadata": {},
     "output_type": "display_data"
    },
    {
     "name": "stdout",
     "output_type": "stream",
     "text": [
      "+-------------+----------+----------+---------+----+---------------+----------------------+\n",
      "|mi_person_key| drug_date|  ADE_Date|drug_name|Year|Hospitalization|standardized_drug_name|\n",
      "+-------------+----------+----------+---------+----+---------------+----------------------+\n",
      "|   1006358716|2016-03-18|2016-03-18|   u-cort|2016|              0|                u-cort|\n",
      "|   1006358716|2016-03-18|2016-04-27|   u-cort|2016|              0|                u-cort|\n",
      "|   1006358716|2016-03-18|2016-04-05|   u-cort|2016|              0|                u-cort|\n",
      "|   1006358716|2016-03-18|2016-04-07|   u-cort|2016|              0|                u-cort|\n",
      "|   1006358716|2016-03-18|2016-04-19|   u-cort|2016|              0|                u-cort|\n",
      "|   1006358716|2016-03-18|2016-04-29|   u-cort|2016|              0|                u-cort|\n",
      "|   1008560349|2018-03-05|2018-04-03|ubiquinol|2018|              0|             ubiquinol|\n",
      "|   1006015978|2018-03-01|2018-03-05|ubiquinol|2018|              0|             ubiquinol|\n",
      "|   1008560349|2018-03-05|2018-04-17|ubiquinol|2018|              0|             ubiquinol|\n",
      "|   1006015978|2019-02-27|2019-03-19|ubiquinol|2019|              0|             ubiquinol|\n",
      "|   1008560349|2018-03-05|2018-04-11|ubiquinol|2018|              0|             ubiquinol|\n",
      "|   1006015978|2018-11-19|2018-12-04|ubiquinol|2018|              0|             ubiquinol|\n",
      "|   1008560349|2018-03-05|2018-03-26|ubiquinol|2018|              0|             ubiquinol|\n",
      "|   1008587881|2016-01-29|2016-02-03|ubiquinol|2016|              0|             ubiquinol|\n",
      "|   1008560349|2018-03-05|2018-04-10|ubiquinol|2018|              0|             ubiquinol|\n",
      "|   1006015978|2018-11-19|2018-12-05|ubiquinol|2018|              0|             ubiquinol|\n",
      "|   1008560349|2018-03-05|2018-03-30|ubiquinol|2018|              0|             ubiquinol|\n",
      "|   1001297720|2020-12-16|2020-12-16|ubiquinol|2020|              0|             ubiquinol|\n",
      "|   1006015978|2018-05-21|2018-05-22|ubiquinol|2018|              0|             ubiquinol|\n",
      "|   1008587881|2016-01-29|2016-02-12|ubiquinol|2016|              0|             ubiquinol|\n",
      "+-------------+----------+----------+---------+----+---------------+----------------------+\n",
      "only showing top 20 rows"
     ]
    }
   ],
   "source": [
    "from pyspark.sql.functions import asc\n",
    "\n",
    "# Add a custom sort column that prioritizes names starting with 'u'\n",
    "sorted_unique_levels = clean_df.withColumn(\n",
    "    \"sort_priority\",\n",
    "    when(col(\"standardized_drug_name\").startswith(\"u\"), 0).otherwise(1)\n",
    ")\n",
    "\n",
    "# Sort by the custom sort priority, and then alphabetically by 'standardized_drug_name'\n",
    "sorted_unique_levels = sorted_unique_levels.orderBy(\n",
    "    col(\"sort_priority\"), \n",
    "    col(\"standardized_drug_name\").asc()\n",
    ")\n",
    "\n",
    "# Drop priority sort column so we can use for new cases\n",
    "sorted_unique_levels = sorted_unique_levels.drop(\"sort_priority\")\n",
    "\n",
    "# Show the sorted DataFrame\n",
    "sorted_unique_levels.show(n=20)  # Adjust 'n' to display more or fewer results"
   ]
  },
  {
   "cell_type": "code",
   "execution_count": 205,
   "id": "0b556ae9",
   "metadata": {
    "execution": {
     "iopub.execute_input": "2024-12-24T17:27:01.632413Z",
     "iopub.status.busy": "2024-12-24T17:27:01.632094Z",
     "iopub.status.idle": "2024-12-24T17:27:01.683911Z",
     "shell.execute_reply": "2024-12-24T17:27:01.683224Z",
     "shell.execute_reply.started": "2024-12-24T17:27:01.632385Z"
    },
    "tags": []
   },
   "outputs": [
    {
     "data": {
      "application/vnd.jupyter.widget-view+json": {
       "model_id": "3f8112ff996b44b492c0837786a1871d",
       "version_major": 2,
       "version_minor": 0
      },
      "text/plain": [
       "VBox()"
      ]
     },
     "metadata": {},
     "output_type": "display_data"
    },
    {
     "data": {
      "application/vnd.jupyter.widget-view+json": {
       "model_id": "",
       "version_major": 2,
       "version_minor": 0
      },
      "text/plain": [
       "FloatProgress(value=0.0, bar_style='info', description='Progress:', layout=Layout(height='25px', width='50%'),…"
      ]
     },
     "metadata": {},
     "output_type": "display_data"
    }
   ],
   "source": [
    "# V drug names\n",
    "\n",
    "consolidations_v = {\n",
    "    'valtrex': 'valacyclovir',\n",
    "    'vancomycin_hcl': 'vancomycin',\n",
    "    'vascepa': 'icosapent_ethyl',\n",
    "    'venlafaxine_hcl': 'venlafaxine',\n",
    "    'venlafaxine_hcl_er': 'venlafaxine+er',\n",
    "    'ventolin_hfa': 'albuterol',\n",
    "    'verapamil_hcl': 'verapamil',\n",
    "    'verapamil_hcl_er': 'verapamil+er',\n",
    "    'vesicare': 'solifenacin',\n",
    "    'viagra': 'sildenafil',\n",
    "    'victoza': 'liraglutide',\n",
    "    'viibryd': 'vilazodone',\n",
    "    'vitamin_b-12': 'vitamin_b12',\n",
    "    'vitamin_b12': 'vitamin_b12',\n",
    "    'vitamin_d': 'vitamin_d',\n",
    "    'vitamin_d3': 'vitamin_d3',\n",
    "    'vitekta': 'elvitegravir',\n",
    "    'vistaril': 'hydroxyzine',\n",
    "    'vit_d': 'vitamin_d',\n",
    "    'voltaren': 'diclofenac',\n",
    "    'voriconazole': 'voriconazole',\n",
    "    'vraylar': 'cariprazine',\n",
    "    'vytorin': 'ezetimibe+simvastatin'\n",
    "}"
   ]
  },
  {
   "cell_type": "code",
   "execution_count": 206,
   "id": "a7835b16",
   "metadata": {
    "execution": {
     "iopub.execute_input": "2024-12-24T17:27:01.693209Z",
     "iopub.status.busy": "2024-12-24T17:27:01.693023Z",
     "iopub.status.idle": "2024-12-24T17:27:01.946748Z",
     "shell.execute_reply": "2024-12-24T17:27:01.945772Z",
     "shell.execute_reply.started": "2024-12-24T17:27:01.693185Z"
    },
    "tags": []
   },
   "outputs": [
    {
     "data": {
      "application/vnd.jupyter.widget-view+json": {
       "model_id": "3d580294eed448ca894851a4bca56dea",
       "version_major": 2,
       "version_minor": 0
      },
      "text/plain": [
       "VBox()"
      ]
     },
     "metadata": {},
     "output_type": "display_data"
    },
    {
     "data": {
      "application/vnd.jupyter.widget-view+json": {
       "model_id": "",
       "version_major": 2,
       "version_minor": 0
      },
      "text/plain": [
       "FloatProgress(value=0.0, bar_style='info', description='Progress:', layout=Layout(height='25px', width='50%'),…"
      ]
     },
     "metadata": {},
     "output_type": "display_data"
    }
   ],
   "source": [
    "clean_df = replace_values_with_mapping(clean_df, 'standardized_drug_name', consolidations_v)"
   ]
  },
  {
   "cell_type": "code",
   "execution_count": 207,
   "id": "bcdc6ee6",
   "metadata": {
    "execution": {
     "iopub.execute_input": "2024-12-24T17:27:01.950156Z",
     "iopub.status.busy": "2024-12-24T17:27:01.949799Z",
     "iopub.status.idle": "2024-12-24T17:27:11.301528Z",
     "shell.execute_reply": "2024-12-24T17:27:11.300848Z",
     "shell.execute_reply.started": "2024-12-24T17:27:01.950118Z"
    },
    "tags": []
   },
   "outputs": [
    {
     "data": {
      "application/vnd.jupyter.widget-view+json": {
       "model_id": "676c83d35f3040999c5e212022ccecfc",
       "version_major": 2,
       "version_minor": 0
      },
      "text/plain": [
       "VBox()"
      ]
     },
     "metadata": {},
     "output_type": "display_data"
    },
    {
     "data": {
      "application/vnd.jupyter.widget-view+json": {
       "model_id": "",
       "version_major": 2,
       "version_minor": 0
      },
      "text/plain": [
       "FloatProgress(value=0.0, bar_style='info', description='Progress:', layout=Layout(height='25px', width='50%'),…"
      ]
     },
     "metadata": {},
     "output_type": "display_data"
    },
    {
     "name": "stdout",
     "output_type": "stream",
     "text": [
      "+-------------+----------+----------+--------------------+----+---------------+----------------------+\n",
      "|mi_person_key| drug_date|  ADE_Date|           drug_name|Year|Hospitalization|standardized_drug_name|\n",
      "+-------------+----------+----------+--------------------+----+---------------+----------------------+\n",
      "|   1004461259|2018-01-24|2018-03-09|v-r childrens non...|2018|              0|  v-r_childrens_non...|\n",
      "|   1002574158|2018-04-20|2018-04-25|       v-r ear drops|2018|              0|         v-r_ear_drops|\n",
      "|   1000008247|2018-06-04|2018-06-11|       v-r ear drops|2018|              0|         v-r_ear_drops|\n",
      "|   1002574158|2018-04-20|2018-05-07|       v-r ear drops|2018|              0|         v-r_ear_drops|\n",
      "|   1001239609|2018-02-26|2018-03-08|       v-r ear drops|2018|              0|         v-r_ear_drops|\n",
      "|   1002574158|2018-04-20|2018-05-03|       v-r ear drops|2018|              0|         v-r_ear_drops|\n",
      "|   1000008247|2018-06-04|2018-06-16|       v-r ear drops|2018|              0|         v-r_ear_drops|\n",
      "|   1002574158|2018-04-20|2018-04-20|       v-r ear drops|2018|              0|         v-r_ear_drops|\n",
      "|   1001239609|2018-02-26|2018-04-04|       v-r ear drops|2018|              0|         v-r_ear_drops|\n",
      "|   1000008247|2018-06-04|2018-06-04|       v-r ear drops|2018|              0|         v-r_ear_drops|\n",
      "|   1001239609|2018-02-26|2018-02-26|       v-r ear drops|2018|              0|         v-r_ear_drops|\n",
      "|   1000008247|2018-06-04|2018-06-13|       v-r ear drops|2018|              0|         v-r_ear_drops|\n",
      "|   1000008247|2018-06-04|2018-07-05|       v-r ear drops|2018|              0|         v-r_ear_drops|\n",
      "|   1011873870|2018-09-02|2018-10-02|    valacyclovir hcl|2018|              0|      valacyclovir_hcl|\n",
      "|   1009981626|2016-11-17|2016-11-17|    valacyclovir hcl|2016|              0|      valacyclovir_hcl|\n",
      "|   1011873870|2018-09-02|2018-10-01|    valacyclovir hcl|2018|              0|      valacyclovir_hcl|\n",
      "|   1006256046|2018-03-19|2018-03-19|    valacyclovir hcl|2018|              0|      valacyclovir_hcl|\n",
      "|   1011873870|2018-08-06|2018-08-06|    valacyclovir hcl|2018|              0|      valacyclovir_hcl|\n",
      "|   1009981626|2016-11-17|2016-12-16|    valacyclovir hcl|2016|              0|      valacyclovir_hcl|\n",
      "|   1011873870|2018-10-03|2018-10-04|    valacyclovir hcl|2018|              0|      valacyclovir_hcl|\n",
      "+-------------+----------+----------+--------------------+----+---------------+----------------------+\n",
      "only showing top 20 rows"
     ]
    }
   ],
   "source": [
    "from pyspark.sql.functions import asc\n",
    "\n",
    "# Add a custom sort column that prioritizes names starting with 'v'\n",
    "sorted_unique_levels = clean_df.withColumn(\n",
    "    \"sort_priority\",\n",
    "    when(col(\"standardized_drug_name\").startswith(\"v\"), 0).otherwise(1)\n",
    ")\n",
    "\n",
    "# Sort by the custom sort priority, and then alphabetically by 'standardized_drug_name'\n",
    "sorted_unique_levels = sorted_unique_levels.orderBy(\n",
    "    col(\"sort_priority\"), \n",
    "    col(\"standardized_drug_name\").asc()\n",
    ")\n",
    "\n",
    "# Drop priority sort column so we can use for new cases\n",
    "sorted_unique_levels = sorted_unique_levels.drop(\"sort_priority\")\n",
    "\n",
    "# Show the sorted DataFrame\n",
    "sorted_unique_levels.show(n=20)  # Adjust 'n' to display more or fewer results"
   ]
  },
  {
   "cell_type": "code",
   "execution_count": 208,
   "id": "9c6944ce",
   "metadata": {
    "execution": {
     "iopub.execute_input": "2024-12-24T17:27:11.302781Z",
     "iopub.status.busy": "2024-12-24T17:27:11.302427Z",
     "iopub.status.idle": "2024-12-24T17:27:11.351687Z",
     "shell.execute_reply": "2024-12-24T17:27:11.350862Z",
     "shell.execute_reply.started": "2024-12-24T17:27:11.302739Z"
    },
    "tags": []
   },
   "outputs": [
    {
     "data": {
      "application/vnd.jupyter.widget-view+json": {
       "model_id": "b7190a379e3a4b4887a2cd68e101f0e6",
       "version_major": 2,
       "version_minor": 0
      },
      "text/plain": [
       "VBox()"
      ]
     },
     "metadata": {},
     "output_type": "display_data"
    },
    {
     "data": {
      "application/vnd.jupyter.widget-view+json": {
       "model_id": "",
       "version_major": 2,
       "version_minor": 0
      },
      "text/plain": [
       "FloatProgress(value=0.0, bar_style='info', description='Progress:', layout=Layout(height='25px', width='50%'),…"
      ]
     },
     "metadata": {},
     "output_type": "display_data"
    }
   ],
   "source": [
    "# W drug names\n",
    "\n",
    "consolidations_w = {\n",
    "    'warfarin_sodium': 'warfarin',\n",
    "    'wellbutrin_sr': 'bupropion',\n",
    "    'westhroid': 'thyroid',\n",
    "    'wymzya_fe': 'ethinyl_estradiol+norethindrone+iron',\n",
    "    'wal-fex_allergen': 'fexofenadine',\n",
    "    'wal-phed': 'pseudoephedrine',\n",
    "    'wal-itin_d_24_hour': 'loratadine+pseudoephedrine',\n",
    "    'wal-tussin_cough': 'guaifenesin',\n",
    "    'wal-tussin_cough_&_chest': 'guaifenesin',\n",
    "    'wal-zan_75': 'ranitidine',\n",
    "    'walgreens_glucose': 'glucose',\n",
    "    'walgreens_ultra_thin_lanc': 'not_drug',\n",
    "    'wp_thyroid': 'thyroid'\n",
    "}"
   ]
  },
  {
   "cell_type": "code",
   "execution_count": 209,
   "id": "00d97f77",
   "metadata": {
    "execution": {
     "iopub.execute_input": "2024-12-24T17:27:11.353284Z",
     "iopub.status.busy": "2024-12-24T17:27:11.353028Z",
     "iopub.status.idle": "2024-12-24T17:27:11.610208Z",
     "shell.execute_reply": "2024-12-24T17:27:11.609610Z",
     "shell.execute_reply.started": "2024-12-24T17:27:11.353246Z"
    },
    "tags": []
   },
   "outputs": [
    {
     "data": {
      "application/vnd.jupyter.widget-view+json": {
       "model_id": "5c8a1706234145988515559c799f3cf9",
       "version_major": 2,
       "version_minor": 0
      },
      "text/plain": [
       "VBox()"
      ]
     },
     "metadata": {},
     "output_type": "display_data"
    },
    {
     "data": {
      "application/vnd.jupyter.widget-view+json": {
       "model_id": "",
       "version_major": 2,
       "version_minor": 0
      },
      "text/plain": [
       "FloatProgress(value=0.0, bar_style='info', description='Progress:', layout=Layout(height='25px', width='50%'),…"
      ]
     },
     "metadata": {},
     "output_type": "display_data"
    }
   ],
   "source": [
    "clean_df = replace_values_with_mapping(clean_df, 'standardized_drug_name', consolidations_w)"
   ]
  },
  {
   "cell_type": "code",
   "execution_count": 210,
   "id": "399ebfe9",
   "metadata": {
    "execution": {
     "iopub.execute_input": "2024-12-24T17:27:11.612011Z",
     "iopub.status.busy": "2024-12-24T17:27:11.611581Z",
     "iopub.status.idle": "2024-12-24T17:27:20.925831Z",
     "shell.execute_reply": "2024-12-24T17:27:20.925089Z",
     "shell.execute_reply.started": "2024-12-24T17:27:11.611980Z"
    },
    "tags": []
   },
   "outputs": [
    {
     "data": {
      "application/vnd.jupyter.widget-view+json": {
       "model_id": "68a165ae18fa4507a27268cf0708d6d7",
       "version_major": 2,
       "version_minor": 0
      },
      "text/plain": [
       "VBox()"
      ]
     },
     "metadata": {},
     "output_type": "display_data"
    },
    {
     "data": {
      "application/vnd.jupyter.widget-view+json": {
       "model_id": "",
       "version_major": 2,
       "version_minor": 0
      },
      "text/plain": [
       "FloatProgress(value=0.0, bar_style='info', description='Progress:', layout=Layout(height='25px', width='50%'),…"
      ]
     },
     "metadata": {},
     "output_type": "display_data"
    },
    {
     "name": "stdout",
     "output_type": "stream",
     "text": [
      "+-------------+----------+----------+---------+----+---------------+----------------------+\n",
      "|mi_person_key| drug_date|  ADE_Date|drug_name|Year|Hospitalization|standardized_drug_name|\n",
      "+-------------+----------+----------+---------+----+---------------+----------------------+\n",
      "|   1003872992|2016-04-05|2016-04-22| wal-dram|2016|              0|              wal-dram|\n",
      "|   1003872992|2016-04-05|2016-05-10| wal-dram|2016|              0|              wal-dram|\n",
      "|   1003872992|2016-04-05|2016-04-05| wal-dram|2016|              0|              wal-dram|\n",
      "|   1003872992|2016-04-05|2016-04-19| wal-dram|2016|              0|              wal-dram|\n",
      "|   1003227736|2016-07-03|2016-08-04| wal-dryl|2016|              0|              wal-dryl|\n",
      "|   1000589789|2018-04-17|2018-05-18| wal-dryl|2018|              0|              wal-dryl|\n",
      "|   1003227736|2016-07-03|2016-08-08| wal-dryl|2016|              0|              wal-dryl|\n",
      "|   1002709924|2019-05-03|2019-05-03| wal-dryl|2019|              0|              wal-dryl|\n",
      "|   1003227736|2016-07-03|2016-08-12| wal-dryl|2016|              0|              wal-dryl|\n",
      "|   1000589789|2018-04-17|2018-04-24| wal-dryl|2018|              0|              wal-dryl|\n",
      "|   1000133460|2016-02-09|2016-03-10| wal-dryl|2016|              0|              wal-dryl|\n",
      "|   1011472335|2019-03-26|2019-03-26| wal-dryl|2019|              0|              wal-dryl|\n",
      "|   1000133460|2016-02-09|2016-03-24| wal-dryl|2016|              0|              wal-dryl|\n",
      "|   1007658338|2019-03-30|2019-04-13| wal-dryl|2019|              0|              wal-dryl|\n",
      "|   1000133460|2016-02-09|2016-02-16| wal-dryl|2016|              0|              wal-dryl|\n",
      "|   1005557702|2019-05-21|2019-05-22| wal-dryl|2019|              0|              wal-dryl|\n",
      "|   1000133460|2016-02-09|2016-02-23| wal-dryl|2016|              0|              wal-dryl|\n",
      "|   1007658338|2019-03-30|2019-04-12| wal-dryl|2019|              0|              wal-dryl|\n",
      "|   1000133460|2016-02-09|2016-03-22| wal-dryl|2016|              0|              wal-dryl|\n",
      "|   1007658338|2019-03-30|2019-04-05| wal-dryl|2019|              0|              wal-dryl|\n",
      "+-------------+----------+----------+---------+----+---------------+----------------------+\n",
      "only showing top 20 rows"
     ]
    }
   ],
   "source": [
    "from pyspark.sql.functions import asc\n",
    "\n",
    "# Add a custom sort column that prioritizes names starting with 'w'\n",
    "sorted_unique_levels = clean_df.withColumn(\n",
    "    \"sort_priority\",\n",
    "    when(col(\"standardized_drug_name\").startswith(\"w\"), 0).otherwise(1)\n",
    ")\n",
    "\n",
    "# Sort by the custom sort priority, and then alphabetically by 'standardized_drug_name'\n",
    "sorted_unique_levels = sorted_unique_levels.orderBy(\n",
    "    col(\"sort_priority\"), \n",
    "    col(\"standardized_drug_name\").asc()\n",
    ")\n",
    "\n",
    "# Drop priority sort column so we can use for new cases\n",
    "sorted_unique_levels = sorted_unique_levels.drop(\"sort_priority\")\n",
    "\n",
    "# Show the sorted DataFrame\n",
    "sorted_unique_levels.show(n=20)  # Adjust 'n' to display more or fewer results"
   ]
  },
  {
   "cell_type": "code",
   "execution_count": 211,
   "id": "0da391bd",
   "metadata": {
    "execution": {
     "iopub.execute_input": "2024-12-24T17:27:20.927091Z",
     "iopub.status.busy": "2024-12-24T17:27:20.926910Z",
     "iopub.status.idle": "2024-12-24T17:27:20.985108Z",
     "shell.execute_reply": "2024-12-24T17:27:20.984199Z",
     "shell.execute_reply.started": "2024-12-24T17:27:20.927065Z"
    },
    "tags": []
   },
   "outputs": [
    {
     "data": {
      "application/vnd.jupyter.widget-view+json": {
       "model_id": "57b2fe0b58224abb917097da06a14e95",
       "version_major": 2,
       "version_minor": 0
      },
      "text/plain": [
       "VBox()"
      ]
     },
     "metadata": {},
     "output_type": "display_data"
    },
    {
     "data": {
      "application/vnd.jupyter.widget-view+json": {
       "model_id": "",
       "version_major": 2,
       "version_minor": 0
      },
      "text/plain": [
       "FloatProgress(value=0.0, bar_style='info', description='Progress:', layout=Layout(height='25px', width='50%'),…"
      ]
     },
     "metadata": {},
     "output_type": "display_data"
    }
   ],
   "source": [
    "# X drug names\n",
    "\n",
    "consolidations_x = {\n",
    "    'xigduo_xr': 'dapagliflozin+metformin',\n",
    "    'xolair': 'omalizumab',\n",
    "    'xarelto': 'rivaroxaban',\n",
    "    'xanax': 'alprazolam',\n",
    "    'xeljanz': 'tofacitinib',\n",
    "    'xulane': 'ethinyl_estradiol+norelgestromin',\n",
    "    'xarelto_starter_pack': 'rivaroxaban',\n",
    "    'xofluza': 'baloxavir_marboxil',\n",
    "    'xyzal': 'levocetirizine',\n",
    "    'xtampza_er': 'oxycodone',\n",
    "    'xeomin': 'incobotulinumtoxina',\n",
    "    'xifaxan': 'rifaximin',\n",
    "    'xylocaine': 'lidocaine',\n",
    "    'xalatan': 'latanoprost',\n",
    "    'xgeva': 'denosumab',\n",
    "    'xofluza': 'baloxavir_marboxil',\n",
    "    'xarelto_dose_pack': 'rivaroxaban',\n",
    "    'xcopri': 'cenobamate',\n",
    "    'xeljanz_xr': 'tofacitinib',\n",
    "    'xyrem': 'sodium_oxybate',\n",
    "    'xylocaine': 'lidocaine',\n",
    "    'xylocaine-mpf': 'lidocaine',\n",
    "    'xylocaine-mpf+epinephrine': 'lidocaine+epinephrine',\n",
    "    'xylocaine_jelly': 'lidocaine_gel',\n",
    "    'xylocaine+epinephrine': 'lidocaine+epinephrine'\n",
    "}"
   ]
  },
  {
   "cell_type": "code",
   "execution_count": 212,
   "id": "a261a4b5",
   "metadata": {
    "execution": {
     "iopub.execute_input": "2024-12-24T17:27:20.986388Z",
     "iopub.status.busy": "2024-12-24T17:27:20.986139Z",
     "iopub.status.idle": "2024-12-24T17:27:21.275409Z",
     "shell.execute_reply": "2024-12-24T17:27:21.274595Z",
     "shell.execute_reply.started": "2024-12-24T17:27:20.986352Z"
    },
    "tags": []
   },
   "outputs": [
    {
     "data": {
      "application/vnd.jupyter.widget-view+json": {
       "model_id": "fc4ad2adc4f5473d81bce904e26c10d6",
       "version_major": 2,
       "version_minor": 0
      },
      "text/plain": [
       "VBox()"
      ]
     },
     "metadata": {},
     "output_type": "display_data"
    },
    {
     "data": {
      "application/vnd.jupyter.widget-view+json": {
       "model_id": "",
       "version_major": 2,
       "version_minor": 0
      },
      "text/plain": [
       "FloatProgress(value=0.0, bar_style='info', description='Progress:', layout=Layout(height='25px', width='50%'),…"
      ]
     },
     "metadata": {},
     "output_type": "display_data"
    }
   ],
   "source": [
    "clean_df = replace_values_with_mapping(clean_df, 'standardized_drug_name', consolidations_x)"
   ]
  },
  {
   "cell_type": "code",
   "execution_count": 213,
   "id": "0b3b9dd4",
   "metadata": {
    "execution": {
     "iopub.execute_input": "2024-12-24T17:27:21.276869Z",
     "iopub.status.busy": "2024-12-24T17:27:21.276643Z",
     "iopub.status.idle": "2024-12-24T17:27:30.642623Z",
     "shell.execute_reply": "2024-12-24T17:27:30.642026Z",
     "shell.execute_reply.started": "2024-12-24T17:27:21.276837Z"
    },
    "tags": []
   },
   "outputs": [
    {
     "data": {
      "application/vnd.jupyter.widget-view+json": {
       "model_id": "0d99958420a94dd2ab28823a59bde6c3",
       "version_major": 2,
       "version_minor": 0
      },
      "text/plain": [
       "VBox()"
      ]
     },
     "metadata": {},
     "output_type": "display_data"
    },
    {
     "data": {
      "application/vnd.jupyter.widget-view+json": {
       "model_id": "",
       "version_major": 2,
       "version_minor": 0
      },
      "text/plain": [
       "FloatProgress(value=0.0, bar_style='info', description='Progress:', layout=Layout(height='25px', width='50%'),…"
      ]
     },
     "metadata": {},
     "output_type": "display_data"
    },
    {
     "name": "stdout",
     "output_type": "stream",
     "text": [
      "+-------------+----------+----------+---------+----+---------------+----------------------+\n",
      "|mi_person_key| drug_date|  ADE_Date|drug_name|Year|Hospitalization|standardized_drug_name|\n",
      "+-------------+----------+----------+---------+----+---------------+----------------------+\n",
      "|   1014241627|2016-04-19|2016-05-16|  x-viate|2016|              0|               x-viate|\n",
      "|   1013126012|2016-10-24|2016-10-24|  x-viate|2016|              0|               x-viate|\n",
      "|   1001492116|2016-04-19|2016-05-02|  x-viate|2016|              0|               x-viate|\n",
      "|   1013126012|2016-10-24|2016-11-04|  x-viate|2016|              0|               x-viate|\n",
      "|   1005131005|2016-12-02|2016-12-02|  x-viate|2016|              0|               x-viate|\n",
      "|   1001492116|2016-04-19|2016-04-27|  x-viate|2016|              0|               x-viate|\n",
      "|   1005131005|2016-12-02|2017-01-12|  x-viate|2017|              0|               x-viate|\n",
      "|   1001492116|2016-04-19|2016-05-26|  x-viate|2016|              0|               x-viate|\n",
      "|   1005131005|2016-12-02|2016-12-09|  x-viate|2016|              0|               x-viate|\n",
      "|   1005131005|2016-12-02|2017-01-09|  x-viate|2017|              0|               x-viate|\n",
      "|   1005131005|2016-12-02|2016-12-12|  x-viate|2016|              0|               x-viate|\n",
      "|   1005131005|2016-12-02|2016-12-05|  x-viate|2016|              0|               x-viate|\n",
      "|   1005131005|2016-12-02|2016-12-22|  x-viate|2016|              0|               x-viate|\n",
      "|   1005131005|2016-12-02|2016-12-29|  x-viate|2016|              0|               x-viate|\n",
      "|   1005131005|2016-12-02|2016-12-16|  x-viate|2016|              0|               x-viate|\n",
      "|   1002246982|2019-12-10|2020-01-03|    xalix|2020|              0|                 xalix|\n",
      "|   1004426061|2018-06-19|2018-07-14|    xalix|2018|              0|                 xalix|\n",
      "|   1002246982|2019-12-12|2020-01-03|    xalix|2020|              0|                 xalix|\n",
      "|   1002246982|2019-12-10|2019-12-10|    xalix|2019|              0|                 xalix|\n",
      "|   1004426061|2018-06-19|2018-08-01|    xalix|2018|              0|                 xalix|\n",
      "+-------------+----------+----------+---------+----+---------------+----------------------+\n",
      "only showing top 20 rows"
     ]
    }
   ],
   "source": [
    "from pyspark.sql.functions import asc\n",
    "\n",
    "# Add a custom sort column that prioritizes names starting with 'x'\n",
    "sorted_unique_levels = clean_df.withColumn(\n",
    "    \"sort_priority\",\n",
    "    when(col(\"standardized_drug_name\").startswith(\"x\"), 0).otherwise(1)\n",
    ")\n",
    "\n",
    "# Sort by the custom sort priority, and then alphabetically by 'standardized_drug_name'\n",
    "sorted_unique_levels = sorted_unique_levels.orderBy(\n",
    "    col(\"sort_priority\"), \n",
    "    col(\"standardized_drug_name\").asc()\n",
    ")\n",
    "\n",
    "# Drop priority sort column so we can use for new cases\n",
    "sorted_unique_levels = sorted_unique_levels.drop(\"sort_priority\")\n",
    "\n",
    "# Show the sorted DataFrame\n",
    "sorted_unique_levels.show(n=20)  # Adjust 'n' to display more or fewer results"
   ]
  },
  {
   "cell_type": "code",
   "execution_count": 214,
   "id": "44e6487d",
   "metadata": {
    "execution": {
     "iopub.execute_input": "2024-12-24T17:27:30.644012Z",
     "iopub.status.busy": "2024-12-24T17:27:30.643633Z",
     "iopub.status.idle": "2024-12-24T17:27:30.698759Z",
     "shell.execute_reply": "2024-12-24T17:27:30.698034Z",
     "shell.execute_reply.started": "2024-12-24T17:27:30.643985Z"
    },
    "tags": []
   },
   "outputs": [
    {
     "data": {
      "application/vnd.jupyter.widget-view+json": {
       "model_id": "b6cd52d77f9e4dd981497d70532783f9",
       "version_major": 2,
       "version_minor": 0
      },
      "text/plain": [
       "VBox()"
      ]
     },
     "metadata": {},
     "output_type": "display_data"
    },
    {
     "data": {
      "application/vnd.jupyter.widget-view+json": {
       "model_id": "",
       "version_major": 2,
       "version_minor": 0
      },
      "text/plain": [
       "FloatProgress(value=0.0, bar_style='info', description='Progress:', layout=Layout(height='25px', width='50%'),…"
      ]
     },
     "metadata": {},
     "output_type": "display_data"
    }
   ],
   "source": [
    "# Y drug names\n",
    "\n",
    "consolidations_y = {\n",
    "    'yaz': 'ethinyl_estradiol+drospirenone',\n",
    "    'yasmin': 'ethinyl_estradiol+drospirenone',\n",
    "    'yuvafem': 'estradiol',\n",
    "    'yosprala': 'aspirin+omeprazole',\n",
    "    'yondelis': 'trabectedin',\n",
    "    'yohimbine': 'yohimbine',\n",
    "    'yupelri': 'revefenacin'\n",
    "}"
   ]
  },
  {
   "cell_type": "code",
   "execution_count": 215,
   "id": "302977be",
   "metadata": {
    "execution": {
     "iopub.execute_input": "2024-12-24T17:27:30.699984Z",
     "iopub.status.busy": "2024-12-24T17:27:30.699795Z",
     "iopub.status.idle": "2024-12-24T17:27:30.953113Z",
     "shell.execute_reply": "2024-12-24T17:27:30.952285Z",
     "shell.execute_reply.started": "2024-12-24T17:27:30.699959Z"
    },
    "tags": []
   },
   "outputs": [
    {
     "data": {
      "application/vnd.jupyter.widget-view+json": {
       "model_id": "6c0711ec8d0f4f7098d7a65880c719b2",
       "version_major": 2,
       "version_minor": 0
      },
      "text/plain": [
       "VBox()"
      ]
     },
     "metadata": {},
     "output_type": "display_data"
    },
    {
     "data": {
      "application/vnd.jupyter.widget-view+json": {
       "model_id": "",
       "version_major": 2,
       "version_minor": 0
      },
      "text/plain": [
       "FloatProgress(value=0.0, bar_style='info', description='Progress:', layout=Layout(height='25px', width='50%'),…"
      ]
     },
     "metadata": {},
     "output_type": "display_data"
    }
   ],
   "source": [
    "clean_df = replace_values_with_mapping(clean_df, 'standardized_drug_name', consolidations_y)"
   ]
  },
  {
   "cell_type": "code",
   "execution_count": 216,
   "id": "8c5e4314",
   "metadata": {
    "execution": {
     "iopub.execute_input": "2024-12-24T17:27:30.954353Z",
     "iopub.status.busy": "2024-12-24T17:27:30.954163Z",
     "iopub.status.idle": "2024-12-24T17:27:40.283800Z",
     "shell.execute_reply": "2024-12-24T17:27:40.283095Z",
     "shell.execute_reply.started": "2024-12-24T17:27:30.954327Z"
    },
    "tags": []
   },
   "outputs": [
    {
     "data": {
      "application/vnd.jupyter.widget-view+json": {
       "model_id": "99c22a75d4794b22b5a61db9c58690ae",
       "version_major": 2,
       "version_minor": 0
      },
      "text/plain": [
       "VBox()"
      ]
     },
     "metadata": {},
     "output_type": "display_data"
    },
    {
     "data": {
      "application/vnd.jupyter.widget-view+json": {
       "model_id": "",
       "version_major": 2,
       "version_minor": 0
      },
      "text/plain": [
       "FloatProgress(value=0.0, bar_style='info', description='Progress:', layout=Layout(height='25px', width='50%'),…"
      ]
     },
     "metadata": {},
     "output_type": "display_data"
    },
    {
     "name": "stdout",
     "output_type": "stream",
     "text": [
      "+-------------+----------+----------+--------------------+----+---------------+----------------------+\n",
      "|mi_person_key| drug_date|  ADE_Date|           drug_name|Year|Hospitalization|standardized_drug_name|\n",
      "+-------------+----------+----------+--------------------+----+---------------+----------------------+\n",
      "|   1007041735|2020-01-23|2020-01-31|              y-tuss|2020|              0|                y-tuss|\n",
      "|   1007041735|2020-01-23|2020-01-23|              y-tuss|2020|              0|                y-tuss|\n",
      "|   1003679493|2016-06-05|2016-07-12|              yf-vax|2016|              0|                yf-vax|\n",
      "|   1015659454|2017-05-19|2017-05-25|              yf-vax|2017|              0|                yf-vax|\n",
      "|   1003467651|2018-06-28|2018-08-08|your life multi a...|2018|              0|  your_life_multi_a...|\n",
      "|   1006994438|2020-04-15|2020-05-15|your life multi a...|2020|              0|  your_life_multi_a...|\n",
      "|   1003467651|2018-06-28|2018-07-24|your life multi a...|2018|              0|  your_life_multi_a...|\n",
      "|   1006994438|2020-04-15|2020-04-15|your life multi a...|2020|              0|  your_life_multi_a...|\n",
      "|   1003467651|2018-06-28|2018-06-28|your life multi a...|2018|              0|  your_life_multi_a...|\n",
      "|   1001513511|2019-12-04|2020-01-02|centrum silver ad...|2020|              0|  +centrum_silver_a...|\n",
      "|   1001513511|2019-12-04|2019-12-05|centrum silver ad...|2019|              0|  +centrum_silver_a...|\n",
      "|   1001513511|2019-12-04|2020-01-16|centrum silver ad...|2020|              0|  +centrum_silver_a...|\n",
      "|   1001513511|2019-12-04|2019-12-12|centrum silver ad...|2019|              0|  +centrum_silver_a...|\n",
      "|   1001513511|2019-12-04|2020-01-09|centrum silver ad...|2020|              0|  +centrum_silver_a...|\n",
      "|   1001513511|2019-12-04|2019-12-19|centrum silver ad...|2019|              0|  +centrum_silver_a...|\n",
      "|   1001513511|2019-12-04|2020-01-06|centrum silver ad...|2020|              0|  +centrum_silver_a...|\n",
      "|   1001513511|2019-12-04|2019-12-26|centrum silver ad...|2019|              0|  +centrum_silver_a...|\n",
      "|   1007535737|2019-12-20|2020-01-24|sm tussin dm max/...|2020|              0|  +cough_+sm_tussin...|\n",
      "|   1014480836|2020-01-20|2020-01-31|sm tussin dm max/...|2020|              0|  +cough_+sm_tussin...|\n",
      "|   1007535737|2019-12-20|2020-01-09|sm tussin dm max/...|2020|              0|  +cough_+sm_tussin...|\n",
      "+-------------+----------+----------+--------------------+----+---------------+----------------------+\n",
      "only showing top 20 rows"
     ]
    }
   ],
   "source": [
    "from pyspark.sql.functions import asc\n",
    "\n",
    "# Add a custom sort column that prioritizes names starting with 'y'\n",
    "sorted_unique_levels = clean_df.withColumn(\n",
    "    \"sort_priority\",\n",
    "    when(col(\"standardized_drug_name\").startswith(\"y\"), 0).otherwise(1)\n",
    ")\n",
    "\n",
    "# Sort by the custom sort priority, and then alphabetically by 'standardized_drug_name'\n",
    "sorted_unique_levels = sorted_unique_levels.orderBy(\n",
    "    col(\"sort_priority\"), \n",
    "    col(\"standardized_drug_name\").asc()\n",
    ")\n",
    "\n",
    "# Drop priority sort column so we can use for new cases\n",
    "sorted_unique_levels = sorted_unique_levels.drop(\"sort_priority\")\n",
    "\n",
    "# Show the sorted DataFrame\n",
    "sorted_unique_levels.show(n=20)  # Adjust 'n' to display more or fewer results"
   ]
  },
  {
   "cell_type": "code",
   "execution_count": 217,
   "id": "de295f41",
   "metadata": {
    "execution": {
     "iopub.execute_input": "2024-12-24T17:27:40.285206Z",
     "iopub.status.busy": "2024-12-24T17:27:40.284832Z",
     "iopub.status.idle": "2024-12-24T17:27:40.334778Z",
     "shell.execute_reply": "2024-12-24T17:27:40.334015Z",
     "shell.execute_reply.started": "2024-12-24T17:27:40.285178Z"
    },
    "tags": []
   },
   "outputs": [
    {
     "data": {
      "application/vnd.jupyter.widget-view+json": {
       "model_id": "3922ba8834bf4dc6af5343d2a35face5",
       "version_major": 2,
       "version_minor": 0
      },
      "text/plain": [
       "VBox()"
      ]
     },
     "metadata": {},
     "output_type": "display_data"
    },
    {
     "data": {
      "application/vnd.jupyter.widget-view+json": {
       "model_id": "",
       "version_major": 2,
       "version_minor": 0
      },
      "text/plain": [
       "FloatProgress(value=0.0, bar_style='info', description='Progress:', layout=Layout(height='25px', width='50%'),…"
      ]
     },
     "metadata": {},
     "output_type": "display_data"
    }
   ],
   "source": [
    "# Z drug names\n",
    "\n",
    "consolidations_z = {\n",
    "    'zenpep': 'pancrelipase',\n",
    "    'zithromax': 'azithromycin',\n",
    "    'zolpidem_tartrate': 'zolpidem',\n",
    "    'zyprexa': 'olanzapine',\n",
    "    'zylet': 'lotepraxol+tobramycin',\n",
    "    'zerbaxa': 'ceftolozane+tazobactam',\n",
    "    'zyloprim': 'allopurinol',\n",
    "    'zirgan': 'ganciclovir_ophthalmic',\n",
    "    'ziprasidone_hcl': 'ziprasidone',\n",
    "    'zolpimist': 'zolpidem',\n",
    "    'zostrix': 'capsaicin',\n",
    "    'zofran': 'ondansetron',\n",
    "    'zyrtec': 'cetirizine',\n",
    "    'zantac': 'ranitidine',\n",
    "    'zetia': 'ezetimibe',\n",
    "    'zovirax': 'acyclovir',\n",
    "    'zocor': 'simvastatin',\n",
    "    'zoloft': 'sertraline'\n",
    "}"
   ]
  },
  {
   "cell_type": "code",
   "execution_count": 218,
   "id": "466c1386",
   "metadata": {
    "execution": {
     "iopub.execute_input": "2024-12-24T17:27:40.335966Z",
     "iopub.status.busy": "2024-12-24T17:27:40.335634Z",
     "iopub.status.idle": "2024-12-24T17:27:40.590572Z",
     "shell.execute_reply": "2024-12-24T17:27:40.588266Z",
     "shell.execute_reply.started": "2024-12-24T17:27:40.335939Z"
    },
    "tags": []
   },
   "outputs": [
    {
     "data": {
      "application/vnd.jupyter.widget-view+json": {
       "model_id": "4d717b626bbb4f8285c5fe047f45a125",
       "version_major": 2,
       "version_minor": 0
      },
      "text/plain": [
       "VBox()"
      ]
     },
     "metadata": {},
     "output_type": "display_data"
    },
    {
     "data": {
      "application/vnd.jupyter.widget-view+json": {
       "model_id": "",
       "version_major": 2,
       "version_minor": 0
      },
      "text/plain": [
       "FloatProgress(value=0.0, bar_style='info', description='Progress:', layout=Layout(height='25px', width='50%'),…"
      ]
     },
     "metadata": {},
     "output_type": "display_data"
    }
   ],
   "source": [
    "clean_df = replace_values_with_mapping(clean_df, 'standardized_drug_name', consolidations_d)"
   ]
  },
  {
   "cell_type": "code",
   "execution_count": 219,
   "id": "adeecd6b",
   "metadata": {
    "execution": {
     "iopub.execute_input": "2024-12-24T17:27:40.594042Z",
     "iopub.status.busy": "2024-12-24T17:27:40.593546Z",
     "iopub.status.idle": "2024-12-24T17:27:49.920693Z",
     "shell.execute_reply": "2024-12-24T17:27:49.919804Z",
     "shell.execute_reply.started": "2024-12-24T17:27:40.593996Z"
    },
    "tags": []
   },
   "outputs": [
    {
     "data": {
      "application/vnd.jupyter.widget-view+json": {
       "model_id": "188984ca909c4ee4a08f418ad7d4c075",
       "version_major": 2,
       "version_minor": 0
      },
      "text/plain": [
       "VBox()"
      ]
     },
     "metadata": {},
     "output_type": "display_data"
    },
    {
     "data": {
      "application/vnd.jupyter.widget-view+json": {
       "model_id": "",
       "version_major": 2,
       "version_minor": 0
      },
      "text/plain": [
       "FloatProgress(value=0.0, bar_style='info', description='Progress:', layout=Layout(height='25px', width='50%'),…"
      ]
     },
     "metadata": {},
     "output_type": "display_data"
    },
    {
     "name": "stdout",
     "output_type": "stream",
     "text": [
      "+-------------+----------+----------+---------+----+---------------+----------------------+\n",
      "|mi_person_key| drug_date|  ADE_Date|drug_name|Year|Hospitalization|standardized_drug_name|\n",
      "+-------------+----------+----------+---------+----+---------------+----------------------+\n",
      "|   1003140408|2018-08-31|2018-08-31|    z-bum|2018|              0|                 z-bum|\n",
      "|   1001455899|2020-05-26|2020-07-02|  z-clinz|2020|              0|               z-clinz|\n",
      "|   1001455899|2020-05-26|2020-05-26|  z-clinz|2020|              0|               z-clinz|\n",
      "|   1001076222|2018-03-30|2018-03-30|  zaditor|2018|              0|               zaditor|\n",
      "|   1019023358|2016-03-18|2016-04-26|  zaditor|2016|              0|               zaditor|\n",
      "|   1001580784|2018-07-24|2018-08-01|  zaditor|2018|              0|               zaditor|\n",
      "|   1007907253|2018-04-25|2018-04-25|  zaditor|2018|              0|               zaditor|\n",
      "|   1001580784|2018-09-17|2018-09-28|  zaditor|2018|              0|               zaditor|\n",
      "|   1019023358|2016-03-18|2016-03-22|  zaditor|2016|              0|               zaditor|\n",
      "|   1001580784|2018-07-24|2018-07-24|  zaditor|2018|              0|               zaditor|\n",
      "|   1007402067|2016-04-13|2016-04-14|  zaditor|2016|              0|               zaditor|\n",
      "|   1001580784|2018-09-17|2018-10-08|  zaditor|2018|              0|               zaditor|\n",
      "|   1019023358|2016-03-18|2016-03-18|  zaditor|2016|              0|               zaditor|\n",
      "|   1001580784|2018-07-24|2018-08-07|  zaditor|2018|              0|               zaditor|\n",
      "|   1018681176|2018-05-01|2018-05-01|  zaditor|2018|              0|               zaditor|\n",
      "|   1001580784|2018-07-24|2018-08-20|  zaditor|2018|              0|               zaditor|\n",
      "|   1019023358|2016-05-14|2016-06-20|  zaditor|2016|              0|               zaditor|\n",
      "|   1001580784|2018-09-17|2018-10-28|  zaditor|2018|              0|               zaditor|\n",
      "|   1004839581|2018-02-20|2018-02-20|  zaditor|2018|              0|               zaditor|\n",
      "|   1001580784|2018-10-25|2018-10-28|  zaditor|2018|              0|               zaditor|\n",
      "+-------------+----------+----------+---------+----+---------------+----------------------+\n",
      "only showing top 20 rows"
     ]
    }
   ],
   "source": [
    "from pyspark.sql.functions import asc\n",
    "\n",
    "# Add a custom sort column that prioritizes names starting with 'z'\n",
    "sorted_unique_levels = clean_df.withColumn(\n",
    "    \"sort_priority\",\n",
    "    when(col(\"standardized_drug_name\").startswith(\"z\"), 0).otherwise(1)\n",
    ")\n",
    "\n",
    "# Sort by the custom sort priority, and then alphabetically by 'standardized_drug_name'\n",
    "sorted_unique_levels = sorted_unique_levels.orderBy(\n",
    "    col(\"sort_priority\"), \n",
    "    col(\"standardized_drug_name\").asc()\n",
    ")\n",
    "\n",
    "# Drop priority sort column so we can use for new cases\n",
    "sorted_unique_levels = sorted_unique_levels.drop(\"sort_priority\")\n",
    "\n",
    "# Show the sorted DataFrame\n",
    "sorted_unique_levels.show(n=20)  # Adjust 'n' to display more or fewer results"
   ]
  },
  {
   "cell_type": "code",
   "execution_count": 220,
   "id": "ac654535",
   "metadata": {
    "execution": {
     "iopub.execute_input": "2024-12-24T17:27:49.922382Z",
     "iopub.status.busy": "2024-12-24T17:27:49.921945Z",
     "iopub.status.idle": "2024-12-24T17:27:50.007075Z",
     "shell.execute_reply": "2024-12-24T17:27:50.005167Z",
     "shell.execute_reply.started": "2024-12-24T17:27:49.922343Z"
    },
    "tags": []
   },
   "outputs": [
    {
     "data": {
      "application/vnd.jupyter.widget-view+json": {
       "model_id": "82c289f6f20c45d38ea26cbc148897f4",
       "version_major": 2,
       "version_minor": 0
      },
      "text/plain": [
       "VBox()"
      ]
     },
     "metadata": {},
     "output_type": "display_data"
    },
    {
     "data": {
      "application/vnd.jupyter.widget-view+json": {
       "model_id": "",
       "version_major": 2,
       "version_minor": 0
      },
      "text/plain": [
       "FloatProgress(value=0.0, bar_style='info', description='Progress:', layout=Layout(height='25px', width='50%'),…"
      ]
     },
     "metadata": {},
     "output_type": "display_data"
    }
   ],
   "source": [
    "# Not drugs\n",
    "\n",
    "consolidations_not_drugs = {\n",
    "    '3ml_luer-lok_syringe': 'not_drug',\n",
    "    'bd_insulin_syringe': 'not_drug',\n",
    "    'truedraw_lancing_device': 'not_drug',\n",
    "    'kroger_lancing_device': 'not_drug',\n",
    "    'alcohol_prep_pads': 'not_drug',\n",
    "    'lancets': 'not_drug',\n",
    "    'catheters': 'not_drug',\n",
    "    'cvs_moisturizing_cream': 'not_drug',\n",
    "    'hrt_cream_base': 'not_drug',\n",
    "    'systane_gel': 'not_drug',\n",
    "    'arnica_gel': 'not_drug',\n",
    "    'cvs_moisturizing_lotion': 'not_drug',\n",
    "    'salicylic_acid_lotion': 'not_drug',\n",
    "    'silverseal_hydrogel_dress': 'not_drug',\n",
    "    'carrasyn_hydrogel_wound_d': 'not_drug',\n",
    "    'ra_saline_nasal_spray': 'not_drug',\n",
    "    'little_noses_saline': 'not_drug',\n",
    "    'refresh_liquigel': 'not_drug',\n",
    "    'eye_irrigating_solutions': 'not_drug',\n",
    "    'control_solutions_for_glucose_meters': 'not_drug',\n",
    "    'vaginal_cream_applicators': 'not_drug',\n",
    "    'silica_gel_packets': 'not_drug',\n",
    "    'alcohol_prep_pads': 'not_drug',\n",
    "    'prodigy_twist_top_lancets': 'not_drug',\n",
    "    'alcohol_swabs': 'not_drug',\n",
    "    'sm_alcohol_prep_pads': 'not_drug',\n",
    "    'sterile_water_for_irrigat': 'not_drug',\n",
    "    'dexcom_g5_mobile_transmit': 'not_drug',\n",
    "    'easy_touch_32gx6mm': 'not_drug',\n",
    "    'ulticare_short_pen_needle': 'not_drug',\n",
    "    'global_inject_ease_insuli': 'not_drug',\n",
    "    'e-z-disk': 'not_drug',\n",
    "    'accu-chek_guide': 'not_drug',\n",
    "    'true_metrix': 'not_drug',\n",
    "    't:flex': 'not_drug',\n",
    "    't:slim': 'not_drug',\n",
    "    'prodigy_pocket_no_match_gluc': 'not_drug',\n",
    "    'compact_space_chamber/ant': 'not_drug',\n",
    "    'onetouch_suresoft_lancing': 'not_drug',\n",
    "    'relion_ultra_thin_lancets': 'not_drug',\n",
    "    'bd_pen_needle/mini/ultra-': 'not_drug',\n",
    "    'accu-chek_fastclix_lancet': 'not_drug',\n",
    "    'adjustable_lancing_device': 'not_drug',\n",
    "    'bd_1ml_tuberculin_syringe': 'not_drug',\n",
    "    'novofine_autocover_pen_ne': 'not_drug',\n",
    "    'unifine_pentips_plus_31gx': 'not_drug',\n",
    "    'optichamber_diamond': 'not_drug',\n",
    "    'bayer_microlet_lancets': 'not_drug',\n",
    "    'onetouch_delica_lancets_e': 'not_drug',\n",
    "    'trueplus_lancets_30g_ultr': 'not_drug',\n",
    "    'freestyle_libre/sensor/fl': 'not_drug',\n",
    "    'relion_pen_needles/31g_x': 'not_drug',\n",
    "    'bd_pen_needle/nano_2nd_ge': 'not_drug',\n",
    "    'ulticare_insulin_syringe/': 'not_drug',\n",
    "    'accu-chek_aviva': 'not_drug'\n",
    "}"
   ]
  },
  {
   "cell_type": "code",
   "execution_count": 221,
   "id": "668f1381",
   "metadata": {
    "execution": {
     "iopub.execute_input": "2024-12-24T17:27:50.009156Z",
     "iopub.status.busy": "2024-12-24T17:27:50.008898Z",
     "iopub.status.idle": "2024-12-24T17:27:50.327090Z",
     "shell.execute_reply": "2024-12-24T17:27:50.326028Z",
     "shell.execute_reply.started": "2024-12-24T17:27:50.009118Z"
    },
    "tags": []
   },
   "outputs": [
    {
     "data": {
      "application/vnd.jupyter.widget-view+json": {
       "model_id": "f281a06163804c23a0a24071bca21104",
       "version_major": 2,
       "version_minor": 0
      },
      "text/plain": [
       "VBox()"
      ]
     },
     "metadata": {},
     "output_type": "display_data"
    },
    {
     "data": {
      "application/vnd.jupyter.widget-view+json": {
       "model_id": "",
       "version_major": 2,
       "version_minor": 0
      },
      "text/plain": [
       "FloatProgress(value=0.0, bar_style='info', description='Progress:', layout=Layout(height='25px', width='50%'),…"
      ]
     },
     "metadata": {},
     "output_type": "display_data"
    }
   ],
   "source": [
    "clean_df = replace_values_with_mapping(clean_df, 'standardized_drug_name', consolidations_not_drugs)"
   ]
  },
  {
   "cell_type": "code",
   "execution_count": 222,
   "id": "b8984ab1",
   "metadata": {
    "execution": {
     "iopub.execute_input": "2024-12-24T17:27:50.329943Z",
     "iopub.status.busy": "2024-12-24T17:27:50.329341Z",
     "iopub.status.idle": "2024-12-24T17:27:57.696641Z",
     "shell.execute_reply": "2024-12-24T17:27:57.695870Z",
     "shell.execute_reply.started": "2024-12-24T17:27:50.329902Z"
    },
    "tags": []
   },
   "outputs": [
    {
     "data": {
      "application/vnd.jupyter.widget-view+json": {
       "model_id": "5d5ee689716a471eb20d0ea66adb09ea",
       "version_major": 2,
       "version_minor": 0
      },
      "text/plain": [
       "VBox()"
      ]
     },
     "metadata": {},
     "output_type": "display_data"
    },
    {
     "data": {
      "application/vnd.jupyter.widget-view+json": {
       "model_id": "",
       "version_major": 2,
       "version_minor": 0
      },
      "text/plain": [
       "FloatProgress(value=0.0, bar_style='info', description='Progress:', layout=Layout(height='25px', width='50%'),…"
      ]
     },
     "metadata": {},
     "output_type": "display_data"
    },
    {
     "name": "stdout",
     "output_type": "stream",
     "text": [
      "+----------------------+-------+\n",
      "|standardized_drug_name|  count|\n",
      "+----------------------+-------+\n",
      "|           amoxicillin|1968898|\n",
      "|             albuterol|1404116|\n",
      "|           montelukast| 924671|\n",
      "|  clonidine_hydroch...| 845305|\n",
      "|       methylphenidate| 833450|\n",
      "|            guanfacine| 692627|\n",
      "|              cefdinir| 655702|\n",
      "|          prednisolone| 653299|\n",
      "|            cetirizine| 607289|\n",
      "|          azithromycin| 563921|\n",
      "|               vyvanse| 531135|\n",
      "|  amoxicillin+clavu...| 522423|\n",
      "|  fluticasone_propi...| 500985|\n",
      "|  amphetamine+dextr...| 492556|\n",
      "|         triamcinolone| 416960|\n",
      "|              nystatin| 344970|\n",
      "|         guanfacine+er| 340888|\n",
      "|       ondansetron+odt| 336166|\n",
      "|            sertraline| 329458|\n",
      "|              not_drug| 320230|\n",
      "|        ranitidine_hcl| 309129|\n",
      "|             mupirocin| 300741|\n",
      "|           risperidone| 298291|\n",
      "|            cephalexin| 289759|\n",
      "|  polyethylene_glyc...| 281462|\n",
      "|           flovent_hfa| 274922|\n",
      "|           oseltamivir| 273164|\n",
      "|        hydrocortisone| 259357|\n",
      "|            budesonide| 242757|\n",
      "|         levetiracetam| 236368|\n",
      "|             ibuprofen| 226380|\n",
      "|  loratadine_childrens| 222430|\n",
      "|            loratadine| 216127|\n",
      "|        beclomethasone| 210296|\n",
      "|  sulfamethoxazole+...| 198607|\n",
      "|              concerta| 193077|\n",
      "|           adderall_xr| 186948|\n",
      "|         oxcarbazepine| 174285|\n",
      "|          aripiprazole| 173165|\n",
      "|             trazodone| 169549|\n",
      "|               unknown| 164641|\n",
      "|             ofloxacin| 153544|\n",
      "|  fluoxetine_hydroc...| 152381|\n",
      "|           atomoxetine| 150721|\n",
      "|  polymyxin_b_sulfa...| 147224|\n",
      "|            famotidine| 142594|\n",
      "|       hydroxyzine_hcl| 137458|\n",
      "|            prednisone| 136410|\n",
      "|         albuterol+hfa| 134741|\n",
      "|           epinephrine| 122156|\n",
      "+----------------------+-------+\n",
      "only showing top 50 rows"
     ]
    }
   ],
   "source": [
    "from pyspark.sql.functions import col\n",
    "\n",
    "# Group by drug name and get counts\n",
    "unique_levels_clean = clean_df.groupBy(\"standardized_drug_name\").count()\n",
    "\n",
    "# Order by count in descending order\n",
    "unique_levels_clean = unique_levels_clean.orderBy(col(\"count\").desc())\n",
    "\n",
    "# Show the sorted results\n",
    "unique_levels_clean.show(50)"
   ]
  },
  {
   "cell_type": "code",
   "execution_count": 223,
   "id": "5409ff7c",
   "metadata": {
    "execution": {
     "iopub.execute_input": "2024-12-24T17:27:57.698041Z",
     "iopub.status.busy": "2024-12-24T17:27:57.697802Z",
     "iopub.status.idle": "2024-12-24T17:27:59.015899Z",
     "shell.execute_reply": "2024-12-24T17:27:59.014736Z",
     "shell.execute_reply.started": "2024-12-24T17:27:57.698004Z"
    },
    "tags": []
   },
   "outputs": [
    {
     "data": {
      "application/vnd.jupyter.widget-view+json": {
       "model_id": "5942ae0fb87945618fb5b2bf755fe260",
       "version_major": 2,
       "version_minor": 0
      },
      "text/plain": [
       "VBox()"
      ]
     },
     "metadata": {},
     "output_type": "display_data"
    },
    {
     "data": {
      "application/vnd.jupyter.widget-view+json": {
       "model_id": "",
       "version_major": 2,
       "version_minor": 0
      },
      "text/plain": [
       "FloatProgress(value=0.0, bar_style='info', description='Progress:', layout=Layout(height='25px', width='50%'),…"
      ]
     },
     "metadata": {},
     "output_type": "display_data"
    }
   ],
   "source": [
    "clean_df = clean_df.cache()"
   ]
  },
  {
   "cell_type": "code",
   "execution_count": 224,
   "id": "61984ace",
   "metadata": {
    "execution": {
     "iopub.execute_input": "2024-12-24T17:27:59.017623Z",
     "iopub.status.busy": "2024-12-24T17:27:59.017363Z",
     "iopub.status.idle": "2024-12-24T17:27:59.084754Z",
     "shell.execute_reply": "2024-12-24T17:27:59.082048Z",
     "shell.execute_reply.started": "2024-12-24T17:27:59.017585Z"
    },
    "tags": []
   },
   "outputs": [
    {
     "data": {
      "application/vnd.jupyter.widget-view+json": {
       "model_id": "ae8e32b831884df39b98a372144fe7d2",
       "version_major": 2,
       "version_minor": 0
      },
      "text/plain": [
       "VBox()"
      ]
     },
     "metadata": {},
     "output_type": "display_data"
    },
    {
     "data": {
      "application/vnd.jupyter.widget-view+json": {
       "model_id": "",
       "version_major": 2,
       "version_minor": 0
      },
      "text/plain": [
       "FloatProgress(value=0.0, bar_style='info', description='Progress:', layout=Layout(height='25px', width='50%'),…"
      ]
     },
     "metadata": {},
     "output_type": "display_data"
    }
   ],
   "source": [
    "from pyspark.sql.functions import col\n",
    "\n",
    "# Drop rows where standardized_drug_name is 'not_drug' or 'unknown'\n",
    "clean_df = clean_df.filter(~col('standardized_drug_name').isin('not_drug', 'unknown'))"
   ]
  },
  {
   "cell_type": "code",
   "execution_count": 225,
   "id": "433ea321",
   "metadata": {
    "execution": {
     "iopub.execute_input": "2024-12-24T17:27:59.087321Z",
     "iopub.status.busy": "2024-12-24T17:27:59.087023Z",
     "iopub.status.idle": "2024-12-24T17:28:12.396218Z",
     "shell.execute_reply": "2024-12-24T17:28:12.395544Z",
     "shell.execute_reply.started": "2024-12-24T17:27:59.087260Z"
    },
    "tags": []
   },
   "outputs": [
    {
     "data": {
      "application/vnd.jupyter.widget-view+json": {
       "model_id": "ea50a804e1f7465aa28adb70619a84f7",
       "version_major": 2,
       "version_minor": 0
      },
      "text/plain": [
       "VBox()"
      ]
     },
     "metadata": {},
     "output_type": "display_data"
    },
    {
     "data": {
      "application/vnd.jupyter.widget-view+json": {
       "model_id": "",
       "version_major": 2,
       "version_minor": 0
      },
      "text/plain": [
       "FloatProgress(value=0.0, bar_style='info', description='Progress:', layout=Layout(height='25px', width='50%'),…"
      ]
     },
     "metadata": {},
     "output_type": "display_data"
    },
    {
     "name": "stdout",
     "output_type": "stream",
     "text": [
      "+----------------------+-------+\n",
      "|standardized_drug_name|  count|\n",
      "+----------------------+-------+\n",
      "|           amoxicillin|1968898|\n",
      "|             albuterol|1404116|\n",
      "|           montelukast| 924671|\n",
      "|  clonidine_hydroch...| 845305|\n",
      "|       methylphenidate| 833450|\n",
      "|            guanfacine| 692627|\n",
      "|              cefdinir| 655702|\n",
      "|          prednisolone| 653299|\n",
      "|            cetirizine| 607289|\n",
      "|          azithromycin| 563921|\n",
      "|               vyvanse| 531135|\n",
      "|  amoxicillin+clavu...| 522423|\n",
      "|  fluticasone_propi...| 500985|\n",
      "|  amphetamine+dextr...| 492556|\n",
      "|         triamcinolone| 416960|\n",
      "|              nystatin| 344970|\n",
      "|         guanfacine+er| 340888|\n",
      "|       ondansetron+odt| 336166|\n",
      "|            sertraline| 329458|\n",
      "|        ranitidine_hcl| 309129|\n",
      "|             mupirocin| 300741|\n",
      "|           risperidone| 298291|\n",
      "|            cephalexin| 289759|\n",
      "|  polyethylene_glyc...| 281462|\n",
      "|           flovent_hfa| 274922|\n",
      "|           oseltamivir| 273164|\n",
      "|        hydrocortisone| 259357|\n",
      "|            budesonide| 242757|\n",
      "|         levetiracetam| 236368|\n",
      "|             ibuprofen| 226380|\n",
      "|  loratadine_childrens| 222430|\n",
      "|            loratadine| 216127|\n",
      "|        beclomethasone| 210296|\n",
      "|  sulfamethoxazole+...| 198607|\n",
      "|              concerta| 193077|\n",
      "|           adderall_xr| 186948|\n",
      "|         oxcarbazepine| 174285|\n",
      "|          aripiprazole| 173165|\n",
      "|             trazodone| 169549|\n",
      "|             ofloxacin| 153544|\n",
      "|  fluoxetine_hydroc...| 152381|\n",
      "|           atomoxetine| 150721|\n",
      "|  polymyxin_b_sulfa...| 147224|\n",
      "|            famotidine| 142594|\n",
      "|       hydroxyzine_hcl| 137458|\n",
      "|            prednisone| 136410|\n",
      "|         albuterol+hfa| 134741|\n",
      "|           epinephrine| 122156|\n",
      "|            focalin_xr| 121275|\n",
      "|          erythromycin| 120612|\n",
      "+----------------------+-------+\n",
      "only showing top 50 rows"
     ]
    }
   ],
   "source": [
    "from pyspark.sql.functions import col\n",
    "\n",
    "# Group by drug name and get counts\n",
    "levels_unique = clean_df.groupBy(\"standardized_drug_name\").count()\n",
    "\n",
    "# Order by count in descending order\n",
    "levels_unique = levels_unique.orderBy(col(\"count\").desc())\n",
    "\n",
    "# Show the sorted results\n",
    "levels_unique.show(50)"
   ]
  },
  {
   "cell_type": "code",
   "execution_count": 226,
   "id": "37300890",
   "metadata": {
    "execution": {
     "iopub.execute_input": "2024-12-24T17:28:12.397492Z",
     "iopub.status.busy": "2024-12-24T17:28:12.397221Z",
     "iopub.status.idle": "2024-12-24T17:28:17.709623Z",
     "shell.execute_reply": "2024-12-24T17:28:17.708881Z",
     "shell.execute_reply.started": "2024-12-24T17:28:12.397435Z"
    },
    "tags": []
   },
   "outputs": [
    {
     "data": {
      "application/vnd.jupyter.widget-view+json": {
       "model_id": "0c11fc1de98d4b8bbd571d08a3ccf7a7",
       "version_major": 2,
       "version_minor": 0
      },
      "text/plain": [
       "VBox()"
      ]
     },
     "metadata": {},
     "output_type": "display_data"
    },
    {
     "data": {
      "application/vnd.jupyter.widget-view+json": {
       "model_id": "",
       "version_major": 2,
       "version_minor": 0
      },
      "text/plain": [
       "FloatProgress(value=0.0, bar_style='info', description='Progress:', layout=Layout(height='25px', width='50%'),…"
      ]
     },
     "metadata": {},
     "output_type": "display_data"
    }
   ],
   "source": [
    "# Reduce the number of partitions to optimize data collection\n",
    "levels_unique = levels_unique.coalesce(1)  # Reduce to 1 partition\n",
    "\n",
    "# Collect the results as a pandas DataFrame\n",
    "unique_drug_names = levels_unique.toPandas()"
   ]
  },
  {
   "cell_type": "code",
   "execution_count": 227,
   "id": "0b2dbb58",
   "metadata": {
    "execution": {
     "iopub.execute_input": "2024-12-24T17:28:17.710878Z",
     "iopub.status.busy": "2024-12-24T17:28:17.710684Z",
     "iopub.status.idle": "2024-12-24T17:28:17.961947Z",
     "shell.execute_reply": "2024-12-24T17:28:17.960964Z",
     "shell.execute_reply.started": "2024-12-24T17:28:17.710853Z"
    },
    "tags": []
   },
   "outputs": [
    {
     "data": {
      "application/vnd.jupyter.widget-view+json": {
       "model_id": "dae1446f8deb477abe2b29080edc16b3",
       "version_major": 2,
       "version_minor": 0
      },
      "text/plain": [
       "VBox()"
      ]
     },
     "metadata": {},
     "output_type": "display_data"
    },
    {
     "data": {
      "application/vnd.jupyter.widget-view+json": {
       "model_id": "",
       "version_major": 2,
       "version_minor": 0
      },
      "text/plain": [
       "FloatProgress(value=0.0, bar_style='info', description='Progress:', layout=Layout(height='25px', width='50%'),…"
      ]
     },
     "metadata": {},
     "output_type": "display_data"
    }
   ],
   "source": [
    "import pandas as pd\n",
    "from io import BytesIO\n",
    "import boto3\n",
    "\n",
    "# Initialize a boto3 client\n",
    "s3_client = boto3.client('s3')\n",
    "\n",
    "# Define S3 bucket and path\n",
    "s3_bucket = \"pgx-repository\"\n",
    "drug_name_s3_path = f\"ade-risk-model/Step3_Normalize_Drug_Name/drug_names_cleaned_{cohort}.csv\"\n",
    "\n",
    "# Create a buffer\n",
    "csv_buffer = BytesIO()\n",
    "unique_drug_names.to_csv(csv_buffer, index=False)\n",
    "csv_buffer.seek(0)\n",
    "\n",
    "# Upload the buffer\n",
    "s3_client.upload_fileobj(\n",
    "    csv_buffer,\n",
    "    s3_bucket,\n",
    "    drug_name_s3_path\n",
    ")"
   ]
  },
  {
   "cell_type": "code",
   "execution_count": 253,
   "id": "1448df37",
   "metadata": {
    "execution": {
     "iopub.execute_input": "2024-12-24T17:33:39.187454Z",
     "iopub.status.busy": "2024-12-24T17:33:39.187215Z",
     "iopub.status.idle": "2024-12-24T17:33:39.460874Z",
     "shell.execute_reply": "2024-12-24T17:33:39.459936Z",
     "shell.execute_reply.started": "2024-12-24T17:33:39.187426Z"
    },
    "tags": []
   },
   "outputs": [
    {
     "data": {
      "application/vnd.jupyter.widget-view+json": {
       "model_id": "ffda46774c5c46af883406d330381b38",
       "version_major": 2,
       "version_minor": 0
      },
      "text/plain": [
       "VBox()"
      ]
     },
     "metadata": {},
     "output_type": "display_data"
    },
    {
     "data": {
      "application/vnd.jupyter.widget-view+json": {
       "model_id": "",
       "version_major": 2,
       "version_minor": 0
      },
      "text/plain": [
       "FloatProgress(value=0.0, bar_style='info', description='Progress:', layout=Layout(height='25px', width='50%'),…"
      ]
     },
     "metadata": {},
     "output_type": "display_data"
    }
   ],
   "source": [
    "train_df = clean_df.filter((col(\"year\") >= 2016) & (col(\"year\") <= 2018)).distinct()\n",
    "test_df = clean_df.filter(col(\"year\") == 2019).distinct()"
   ]
  },
  {
   "cell_type": "code",
   "execution_count": 254,
   "id": "98612674",
   "metadata": {
    "execution": {
     "iopub.execute_input": "2024-12-24T17:33:43.928336Z",
     "iopub.status.busy": "2024-12-24T17:33:43.927994Z",
     "iopub.status.idle": "2024-12-24T17:33:49.614961Z",
     "shell.execute_reply": "2024-12-24T17:33:49.383341Z",
     "shell.execute_reply.started": "2024-12-24T17:33:43.928292Z"
    },
    "tags": []
   },
   "outputs": [
    {
     "data": {
      "application/vnd.jupyter.widget-view+json": {
       "model_id": "18fc7e678c8846ed98c9a379ab2d7828",
       "version_major": 2,
       "version_minor": 0
      },
      "text/plain": [
       "VBox()"
      ]
     },
     "metadata": {},
     "output_type": "display_data"
    },
    {
     "data": {
      "application/vnd.jupyter.widget-view+json": {
       "model_id": "",
       "version_major": 2,
       "version_minor": 0
      },
      "text/plain": [
       "FloatProgress(value=0.0, bar_style='info', description='Progress:', layout=Layout(height='25px', width='50%'),…"
      ]
     },
     "metadata": {},
     "output_type": "display_data"
    },
    {
     "name": "stdout",
     "output_type": "stream",
     "text": [
      "Warning: There are 399182 overlapping mi_person_keys between train and test datasets."
     ]
    }
   ],
   "source": [
    "# Get distinct mi_person_keys from both datasets\n",
    "train_keys = train_df.select(\"mi_person_key\").distinct()\n",
    "test_keys = test_df.select(\"mi_person_key\").distinct()\n",
    "\n",
    "# Check for overlapping keys using a left anti join\n",
    "overlap_keys = train_keys.join(test_keys, train_keys.mi_person_key == test_keys.mi_person_key, \"left_anti\")\n",
    "\n",
    "# Count to see if there are any overlapping keys\n",
    "overlap_count = overlap_keys.count()\n",
    "\n",
    "if overlap_count == 0:\n",
    "    print(\"No overlapping mi_person_keys between train and test datasets.\")\n",
    "else:\n",
    "    print(f\"Warning: There are {overlap_count} overlapping mi_person_keys between train and test datasets.\")\n",
    "    # Remove overlapping mi_person_keys from the test dataset using a left anti join\n",
    "    test_df = test_df.join(train_keys, [\"mi_person_key\"], \"left_anti\")\n"
   ]
  },
  {
   "cell_type": "code",
   "execution_count": 255,
   "id": "a2c34e40",
   "metadata": {
    "execution": {
     "iopub.execute_input": "2024-12-24T17:34:12.397202Z",
     "iopub.status.busy": "2024-12-24T17:34:12.396942Z",
     "iopub.status.idle": "2024-12-24T17:34:12.455948Z",
     "shell.execute_reply": "2024-12-24T17:34:12.455133Z",
     "shell.execute_reply.started": "2024-12-24T17:34:12.397165Z"
    },
    "tags": []
   },
   "outputs": [
    {
     "data": {
      "application/vnd.jupyter.widget-view+json": {
       "model_id": "d98dde039056440e8470a6bd6fdf91a2",
       "version_major": 2,
       "version_minor": 0
      },
      "text/plain": [
       "VBox()"
      ]
     },
     "metadata": {},
     "output_type": "display_data"
    },
    {
     "data": {
      "application/vnd.jupyter.widget-view+json": {
       "model_id": "",
       "version_major": 2,
       "version_minor": 0
      },
      "text/plain": [
       "FloatProgress(value=0.0, bar_style='info', description='Progress:', layout=Layout(height='25px', width='50%'),…"
      ]
     },
     "metadata": {},
     "output_type": "display_data"
    }
   ],
   "source": [
    "# # Calculate and show hospitalization counts for both dataframes\n",
    "def count_values(df, column_name):\n",
    "    # Count the occurrences of each value in the specified column\n",
    "    count_df = df.groupBy(column_name).count()\n",
    "    # Show the result\n",
    "    count_df.show()"
   ]
  },
  {
   "cell_type": "code",
   "execution_count": 256,
   "id": "d0fd1961",
   "metadata": {
    "execution": {
     "iopub.execute_input": "2024-12-24T17:34:14.033323Z",
     "iopub.status.busy": "2024-12-24T17:34:14.033054Z",
     "iopub.status.idle": "2024-12-24T17:34:19.361628Z",
     "shell.execute_reply": "2024-12-24T17:34:19.360892Z",
     "shell.execute_reply.started": "2024-12-24T17:34:14.033292Z"
    },
    "tags": []
   },
   "outputs": [
    {
     "data": {
      "application/vnd.jupyter.widget-view+json": {
       "model_id": "dbf29d3126464e3ba44b893527d3acaa",
       "version_major": 2,
       "version_minor": 0
      },
      "text/plain": [
       "VBox()"
      ]
     },
     "metadata": {},
     "output_type": "display_data"
    },
    {
     "data": {
      "application/vnd.jupyter.widget-view+json": {
       "model_id": "",
       "version_major": 2,
       "version_minor": 0
      },
      "text/plain": [
       "FloatProgress(value=0.0, bar_style='info', description='Progress:', layout=Layout(height='25px', width='50%'),…"
      ]
     },
     "metadata": {},
     "output_type": "display_data"
    },
    {
     "name": "stdout",
     "output_type": "stream",
     "text": [
      "Counts for Training Dataset:\n",
      "+---------------+--------+\n",
      "|hospitalization|   count|\n",
      "+---------------+--------+\n",
      "|              0|14896216|\n",
      "|              1|    1399|\n",
      "+---------------+--------+"
     ]
    }
   ],
   "source": [
    "print(\"Counts for Training Dataset:\")\n",
    "count_values(train_df, \"hospitalization\")"
   ]
  },
  {
   "cell_type": "code",
   "execution_count": 257,
   "id": "b281a659",
   "metadata": {
    "execution": {
     "iopub.execute_input": "2024-12-24T17:34:20.982938Z",
     "iopub.status.busy": "2024-12-24T17:34:20.982475Z",
     "iopub.status.idle": "2024-12-24T17:34:26.740308Z",
     "shell.execute_reply": "2024-12-24T17:34:26.735005Z",
     "shell.execute_reply.started": "2024-12-24T17:34:20.982906Z"
    },
    "tags": []
   },
   "outputs": [
    {
     "data": {
      "application/vnd.jupyter.widget-view+json": {
       "model_id": "d41f45b142a74006ab7c386b24989e9a",
       "version_major": 2,
       "version_minor": 0
      },
      "text/plain": [
       "VBox()"
      ]
     },
     "metadata": {},
     "output_type": "display_data"
    },
    {
     "data": {
      "application/vnd.jupyter.widget-view+json": {
       "model_id": "",
       "version_major": 2,
       "version_minor": 0
      },
      "text/plain": [
       "FloatProgress(value=0.0, bar_style='info', description='Progress:', layout=Layout(height='25px', width='50%'),…"
      ]
     },
     "metadata": {},
     "output_type": "display_data"
    },
    {
     "name": "stdout",
     "output_type": "stream",
     "text": [
      "Counts for Test Dataset:\n",
      "+---------------+-------+\n",
      "|hospitalization|  count|\n",
      "+---------------+-------+\n",
      "|              0|1658051|\n",
      "|              1|    131|\n",
      "+---------------+-------+"
     ]
    }
   ],
   "source": [
    "print(\"Counts for Test Dataset:\")\n",
    "count_values(test_df, \"hospitalization\")"
   ]
  },
  {
   "cell_type": "code",
   "execution_count": 258,
   "id": "71a25ff6",
   "metadata": {
    "execution": {
     "iopub.execute_input": "2024-12-24T17:34:35.767987Z",
     "iopub.status.busy": "2024-12-24T17:34:35.767623Z",
     "iopub.status.idle": "2024-12-24T17:34:35.852156Z",
     "shell.execute_reply": "2024-12-24T17:34:35.851289Z",
     "shell.execute_reply.started": "2024-12-24T17:34:35.767938Z"
    },
    "tags": []
   },
   "outputs": [
    {
     "data": {
      "application/vnd.jupyter.widget-view+json": {
       "model_id": "acb2103c14c84ee297c97f418074168c",
       "version_major": 2,
       "version_minor": 0
      },
      "text/plain": [
       "VBox()"
      ]
     },
     "metadata": {},
     "output_type": "display_data"
    },
    {
     "data": {
      "application/vnd.jupyter.widget-view+json": {
       "model_id": "",
       "version_major": 2,
       "version_minor": 0
      },
      "text/plain": [
       "FloatProgress(value=0.0, bar_style='info', description='Progress:', layout=Layout(height='25px', width='50%'),…"
      ]
     },
     "metadata": {},
     "output_type": "display_data"
    },
    {
     "name": "stdout",
     "output_type": "stream",
     "text": [
      "['mi_person_key', 'drug_date', 'ADE_Date', 'drug_name', 'Year', 'Hospitalization', 'standardized_drug_name']"
     ]
    }
   ],
   "source": [
    "train_df.columns"
   ]
  },
  {
   "cell_type": "code",
   "execution_count": 259,
   "id": "e40d414d-04be-445c-9dc2-fdb12ee293e3",
   "metadata": {
    "execution": {
     "iopub.execute_input": "2024-12-24T17:34:41.077728Z",
     "iopub.status.busy": "2024-12-24T17:34:41.077448Z",
     "iopub.status.idle": "2024-12-24T17:34:41.140876Z",
     "shell.execute_reply": "2024-12-24T17:34:41.140007Z",
     "shell.execute_reply.started": "2024-12-24T17:34:41.077697Z"
    },
    "tags": []
   },
   "outputs": [
    {
     "data": {
      "application/vnd.jupyter.widget-view+json": {
       "model_id": "220129ed47b944b783fbe4384455bcf8",
       "version_major": 2,
       "version_minor": 0
      },
      "text/plain": [
       "VBox()"
      ]
     },
     "metadata": {},
     "output_type": "display_data"
    },
    {
     "data": {
      "application/vnd.jupyter.widget-view+json": {
       "model_id": "",
       "version_major": 2,
       "version_minor": 0
      },
      "text/plain": [
       "FloatProgress(value=0.0, bar_style='info', description='Progress:', layout=Layout(height='25px', width='50%'),…"
      ]
     },
     "metadata": {},
     "output_type": "display_data"
    },
    {
     "name": "stdout",
     "output_type": "stream",
     "text": [
      "['mi_person_key', 'drug_date', 'ADE_Date', 'drug_name', 'Year', 'Hospitalization', 'standardized_drug_name']"
     ]
    }
   ],
   "source": [
    "test_df.columns"
   ]
  },
  {
   "cell_type": "code",
   "execution_count": 260,
   "id": "8a620e9e",
   "metadata": {
    "execution": {
     "iopub.execute_input": "2024-12-24T17:35:04.347600Z",
     "iopub.status.busy": "2024-12-24T17:35:04.347343Z",
     "iopub.status.idle": "2024-12-24T17:35:04.613816Z",
     "shell.execute_reply": "2024-12-24T17:35:04.613058Z",
     "shell.execute_reply.started": "2024-12-24T17:35:04.347568Z"
    },
    "tags": []
   },
   "outputs": [
    {
     "data": {
      "application/vnd.jupyter.widget-view+json": {
       "model_id": "757534e8a9894681b547ceb31d8f9ef2",
       "version_major": 2,
       "version_minor": 0
      },
      "text/plain": [
       "VBox()"
      ]
     },
     "metadata": {},
     "output_type": "display_data"
    },
    {
     "data": {
      "application/vnd.jupyter.widget-view+json": {
       "model_id": "",
       "version_major": 2,
       "version_minor": 0
      },
      "text/plain": [
       "FloatProgress(value=0.0, bar_style='info', description='Progress:', layout=Layout(height='25px', width='50%'),…"
      ]
     },
     "metadata": {},
     "output_type": "display_data"
    }
   ],
   "source": [
    "from pyspark.sql.functions import col\n",
    "\n",
    "# Convert mi_person_key to string and select specific columns for train and test sets\n",
    "test_df = test_df.select(\n",
    "    col(\"mi_person_key\").cast(\"string\").alias(\"mi_person_key\"),\n",
    "    \"drug_date\",\n",
    "    \"ADE_Date\",\n",
    "    \"standardized_drug_name\",\n",
    "    \"Hospitalization\"\n",
    ")\n",
    "\n",
    "train_df = train_df.select(\n",
    "    col(\"mi_person_key\").cast(\"string\").alias(\"mi_person_key\"),\n",
    "    \"drug_date\",\n",
    "    \"ADE_Date\",\n",
    "    \"standardized_drug_name\",\n",
    "    \"Hospitalization\"\n",
    ")"
   ]
  },
  {
   "cell_type": "code",
   "execution_count": 261,
   "id": "09e8f1eb",
   "metadata": {
    "execution": {
     "iopub.execute_input": "2024-12-24T17:35:11.208777Z",
     "iopub.status.busy": "2024-12-24T17:35:11.208431Z",
     "iopub.status.idle": "2024-12-24T17:35:11.308990Z",
     "shell.execute_reply": "2024-12-24T17:35:11.306892Z",
     "shell.execute_reply.started": "2024-12-24T17:35:11.208734Z"
    },
    "tags": []
   },
   "outputs": [
    {
     "data": {
      "application/vnd.jupyter.widget-view+json": {
       "model_id": "ba96f78fc9bf493b9912733d8605ab31",
       "version_major": 2,
       "version_minor": 0
      },
      "text/plain": [
       "VBox()"
      ]
     },
     "metadata": {},
     "output_type": "display_data"
    },
    {
     "data": {
      "application/vnd.jupyter.widget-view+json": {
       "model_id": "",
       "version_major": 2,
       "version_minor": 0
      },
      "text/plain": [
       "FloatProgress(value=0.0, bar_style='info', description='Progress:', layout=Layout(height='25px', width='50%'),…"
      ]
     },
     "metadata": {},
     "output_type": "display_data"
    }
   ],
   "source": [
    "train_df = train_df.withColumnRenamed(\"Hospitalization\", \"label\")\n",
    "test_df = test_df.withColumnRenamed(\"Hospitalization\", \"label\")"
   ]
  },
  {
   "cell_type": "code",
   "execution_count": 262,
   "id": "eade1a88",
   "metadata": {
    "execution": {
     "iopub.execute_input": "2024-12-24T17:35:14.008922Z",
     "iopub.status.busy": "2024-12-24T17:35:14.008676Z",
     "iopub.status.idle": "2024-12-24T17:35:14.085841Z",
     "shell.execute_reply": "2024-12-24T17:35:14.082427Z",
     "shell.execute_reply.started": "2024-12-24T17:35:14.008894Z"
    },
    "tags": []
   },
   "outputs": [
    {
     "data": {
      "application/vnd.jupyter.widget-view+json": {
       "model_id": "69de0835ea134b9f8d06f8e982e08539",
       "version_major": 2,
       "version_minor": 0
      },
      "text/plain": [
       "VBox()"
      ]
     },
     "metadata": {},
     "output_type": "display_data"
    },
    {
     "data": {
      "application/vnd.jupyter.widget-view+json": {
       "model_id": "",
       "version_major": 2,
       "version_minor": 0
      },
      "text/plain": [
       "FloatProgress(value=0.0, bar_style='info', description='Progress:', layout=Layout(height='25px', width='50%'),…"
      ]
     },
     "metadata": {},
     "output_type": "display_data"
    },
    {
     "name": "stdout",
     "output_type": "stream",
     "text": [
      "Train DataFrame Schema:\n",
      "root\n",
      " |-- mi_person_key: string (nullable = true)\n",
      " |-- drug_date: date (nullable = true)\n",
      " |-- ADE_Date: date (nullable = true)\n",
      " |-- standardized_drug_name: string (nullable = true)\n",
      " |-- label: string (nullable = false)\n",
      "\n",
      "\n",
      "Test DataFrame Schema:\n",
      "root\n",
      " |-- mi_person_key: string (nullable = true)\n",
      " |-- drug_date: date (nullable = true)\n",
      " |-- ADE_Date: date (nullable = true)\n",
      " |-- standardized_drug_name: string (nullable = true)\n",
      " |-- label: string (nullable = false)"
     ]
    }
   ],
   "source": [
    "print(\"Train DataFrame Schema:\")\n",
    "train_df.printSchema()\n",
    "print(\"\\nTest DataFrame Schema:\")\n",
    "test_df.printSchema()"
   ]
  },
  {
   "cell_type": "code",
   "execution_count": 263,
   "id": "47f9a98c",
   "metadata": {
    "execution": {
     "iopub.execute_input": "2024-12-24T17:35:23.933325Z",
     "iopub.status.busy": "2024-12-24T17:35:23.933029Z",
     "iopub.status.idle": "2024-12-24T17:35:24.192492Z",
     "shell.execute_reply": "2024-12-24T17:35:24.191626Z",
     "shell.execute_reply.started": "2024-12-24T17:35:23.933291Z"
    },
    "tags": []
   },
   "outputs": [
    {
     "data": {
      "application/vnd.jupyter.widget-view+json": {
       "model_id": "ea7c7ea6f437496a94923d150b3a3c1c",
       "version_major": 2,
       "version_minor": 0
      },
      "text/plain": [
       "VBox()"
      ]
     },
     "metadata": {},
     "output_type": "display_data"
    },
    {
     "data": {
      "application/vnd.jupyter.widget-view+json": {
       "model_id": "",
       "version_major": 2,
       "version_minor": 0
      },
      "text/plain": [
       "FloatProgress(value=0.0, bar_style='info', description='Progress:', layout=Layout(height='25px', width='50%'),…"
      ]
     },
     "metadata": {},
     "output_type": "display_data"
    },
    {
     "name": "stdout",
     "output_type": "stream",
     "text": [
      "DataFrame[mi_person_key: string, drug_date: date, ADE_Date: date, standardized_drug_name: string, label: string]"
     ]
    }
   ],
   "source": [
    "train_df.cache()\n",
    "test_df.cache()"
   ]
  },
  {
   "cell_type": "code",
   "execution_count": 265,
   "id": "9169317e",
   "metadata": {
    "execution": {
     "iopub.execute_input": "2024-12-24T17:36:14.772480Z",
     "iopub.status.busy": "2024-12-24T17:36:14.772242Z",
     "iopub.status.idle": "2024-12-24T17:36:26.075744Z",
     "shell.execute_reply": "2024-12-24T17:36:26.075084Z",
     "shell.execute_reply.started": "2024-12-24T17:36:14.772452Z"
    },
    "tags": []
   },
   "outputs": [
    {
     "data": {
      "application/vnd.jupyter.widget-view+json": {
       "model_id": "d06560f7d2c940f6a2daabd5ff49e789",
       "version_major": 2,
       "version_minor": 0
      },
      "text/plain": [
       "VBox()"
      ]
     },
     "metadata": {},
     "output_type": "display_data"
    },
    {
     "data": {
      "application/vnd.jupyter.widget-view+json": {
       "model_id": "",
       "version_major": 2,
       "version_minor": 0
      },
      "text/plain": [
       "FloatProgress(value=0.0, bar_style='info', description='Progress:', layout=Layout(height='25px', width='50%'),…"
      ]
     },
     "metadata": {},
     "output_type": "display_data"
    },
    {
     "name": "stdout",
     "output_type": "stream",
     "text": [
      "Train dataset saved to s3://pgx-repository/ade-risk-model/Step5_Time_to_Event_Model/1_input_datasets/cohort1/train\n",
      "Test dataset saved to s3://pgx-repository/ade-risk-model/Step5_Time_to_Event_Model/1_input_datasets/cohort1/test"
     ]
    }
   ],
   "source": [
    "# Paths for saving datasets to S3\n",
    "s3_bucket = f\"s3://pgx-repository/ade-risk-model/Step5_Time_to_Event_Model/1_input_datasets/{cohort}\"\n",
    "train_output_path = f\"{s3_bucket}/train\"\n",
    "test_output_path = f\"{s3_bucket}/test\"\n",
    "\n",
    "# Save train and test DataFrames to S3 in Parquet format\n",
    "train_df.write.mode(\"overwrite\").parquet(train_output_path)\n",
    "test_df.write.mode(\"overwrite\").parquet(test_output_path)\n",
    "\n",
    "print(f\"Train dataset saved to {train_output_path}\")\n",
    "print(f\"Test dataset saved to {test_output_path}\")\n"
   ]
  },
  {
   "cell_type": "code",
   "execution_count": 266,
   "id": "cdb9966e",
   "metadata": {
    "execution": {
     "iopub.execute_input": "2024-12-24T17:36:37.752961Z",
     "iopub.status.busy": "2024-12-24T17:36:37.752726Z",
     "iopub.status.idle": "2024-12-24T17:36:37.868993Z",
     "shell.execute_reply": "2024-12-24T17:36:37.868338Z",
     "shell.execute_reply.started": "2024-12-24T17:36:37.752931Z"
    },
    "tags": []
   },
   "outputs": [
    {
     "data": {
      "application/vnd.jupyter.widget-view+json": {
       "model_id": "4caeb8e62738488f916ea2c341113038",
       "version_major": 2,
       "version_minor": 0
      },
      "text/plain": [
       "VBox()"
      ]
     },
     "metadata": {},
     "output_type": "display_data"
    },
    {
     "data": {
      "application/vnd.jupyter.widget-view+json": {
       "model_id": "",
       "version_major": 2,
       "version_minor": 0
      },
      "text/plain": [
       "FloatProgress(value=0.0, bar_style='info', description='Progress:', layout=Layout(height='25px', width='50%'),…"
      ]
     },
     "metadata": {},
     "output_type": "display_data"
    }
   ],
   "source": [
    "from pyspark.ml.feature import StringIndexer, OneHotEncoder, VectorAssembler\n",
    "from pyspark.ml import Pipeline\n",
    "\n",
    "# Step 1: StringIndexer for mi_person_key (categorical feature)\n",
    "person_key_indexer = StringIndexer(inputCol=\"mi_person_key\", outputCol=\"person_key_index\", handleInvalid=\"keep\")\n",
    "\n",
    "# Step 2: StringIndexer for standardized_drug_name\n",
    "drug_name_indexer = StringIndexer(inputCol=\"standardized_drug_name\", outputCol=\"drug_name_index\", handleInvalid=\"keep\")\n",
    "\n",
    "# Step 3: OneHotEncoder for drug_name_index (leave mi_person_key as indexed)\n",
    "one_hot_encoder = OneHotEncoder(inputCol=\"drug_name_index\", outputCol=\"drug_name_one_hot\")\n",
    "\n",
    "# Step 4: VectorAssembler to combine features (include person_key_index)\n",
    "assembler = VectorAssembler(\n",
    "    inputCols=[\"person_key_index\", \"drug_name_one_hot\"],  # Include mi_person_key as an indexed categorical feature\n",
    "    outputCol=\"features\"\n",
    ")\n",
    "\n",
    "# Create a pipeline\n",
    "pipeline = Pipeline(stages=[person_key_indexer, drug_name_indexer, one_hot_encoder, assembler])\n"
   ]
  },
  {
   "cell_type": "code",
   "execution_count": 249,
   "id": "c6c892ba",
   "metadata": {
    "execution": {
     "iopub.execute_input": "2024-12-24T17:30:36.326465Z",
     "iopub.status.busy": "2024-12-24T17:30:36.326210Z",
     "iopub.status.idle": "2024-12-24T17:30:49.658602Z",
     "shell.execute_reply": "2024-12-24T17:30:49.657428Z",
     "shell.execute_reply.started": "2024-12-24T17:30:36.326416Z"
    },
    "tags": []
   },
   "outputs": [
    {
     "data": {
      "application/vnd.jupyter.widget-view+json": {
       "model_id": "8c1bd163f7744c95afbc22a889ba6498",
       "version_major": 2,
       "version_minor": 0
      },
      "text/plain": [
       "VBox()"
      ]
     },
     "metadata": {},
     "output_type": "display_data"
    },
    {
     "data": {
      "application/vnd.jupyter.widget-view+json": {
       "model_id": "",
       "version_major": 2,
       "version_minor": 0
      },
      "text/plain": [
       "FloatProgress(value=0.0, bar_style='info', description='Progress:', layout=Layout(height='25px', width='50%'),…"
      ]
     },
     "metadata": {},
     "output_type": "display_data"
    },
    {
     "name": "stdout",
     "output_type": "stream",
     "text": [
      "+-------------+----------------+-------------------------+---------------+------------------+---------------------------+-----+\n",
      "|mi_person_key|person_key_index|standardized_drug_name   |drug_name_index|drug_name_one_hot |features                   |label|\n",
      "+-------------+----------------+-------------------------+---------------+------------------+---------------------------+-----+\n",
      "|1000272491   |22377.0         |amoxicillin+clavulanate_p|7.0            |(5344,[7],[1.0])  |(5345,[0,8],[22377.0,1.0]) |0    |\n",
      "|1000304459   |1910.0          |vyvanse                  |13.0           |(5344,[13],[1.0]) |(5345,[0,14],[1910.0,1.0]) |0    |\n",
      "|1000406357   |2996.0          |mirtazapine              |128.0          |(5344,[128],[1.0])|(5345,[0,129],[2996.0,1.0])|0    |\n",
      "|1000545101   |44217.0         |vyvanse                  |13.0           |(5344,[13],[1.0]) |(5345,[0,14],[44217.0,1.0])|0    |\n",
      "|1000644696   |1962.0          |cvs_childrens_allergy    |169.0          |(5344,[169],[1.0])|(5345,[0,170],[1962.0,1.0])|0    |\n",
      "+-------------+----------------+-------------------------+---------------+------------------+---------------------------+-----+\n",
      "only showing top 5 rows"
     ]
    }
   ],
   "source": [
    "# Fit and transform the data\n",
    "pipeline_model = pipeline.fit(train_df)\n",
    "\n",
    "# Transform the dataset\n",
    "processed_train_df = pipeline_model.transform(train_df)\n",
    "processed_test_df = pipeline_model.transform(test_df)\n",
    "\n",
    "# Inspect the transformed DataFrame\n",
    "processed_train_df.select(\"mi_person_key\", \"person_key_index\", \"standardized_drug_name\", \"drug_name_index\", \"drug_name_one_hot\", \"features\", \"label\").show(5, truncate=False)\n"
   ]
  },
  {
   "cell_type": "code",
   "execution_count": 268,
   "id": "88fae0a8",
   "metadata": {
    "execution": {
     "iopub.execute_input": "2024-12-24T17:38:11.714019Z",
     "iopub.status.busy": "2024-12-24T17:38:11.713669Z",
     "iopub.status.idle": "2024-12-24T17:39:15.335227Z",
     "shell.execute_reply": "2024-12-24T17:39:15.334542Z",
     "shell.execute_reply.started": "2024-12-24T17:38:11.713973Z"
    },
    "tags": []
   },
   "outputs": [
    {
     "data": {
      "application/vnd.jupyter.widget-view+json": {
       "model_id": "d66fa55e26294f5fb932daa5c34ea02d",
       "version_major": 2,
       "version_minor": 0
      },
      "text/plain": [
       "VBox()"
      ]
     },
     "metadata": {},
     "output_type": "display_data"
    },
    {
     "data": {
      "application/vnd.jupyter.widget-view+json": {
       "model_id": "",
       "version_major": 2,
       "version_minor": 0
      },
      "text/plain": [
       "FloatProgress(value=0.0, bar_style='info', description='Progress:', layout=Layout(height='25px', width='50%'),…"
      ]
     },
     "metadata": {},
     "output_type": "display_data"
    },
    {
     "name": "stdout",
     "output_type": "stream",
     "text": [
      "Processed Train dataset saved to s3://pgx-repository/ade-risk-model/Step5_Time_to_Event_Model/2_processed_datasets/cohort1/train\n",
      "Processed Test dataset saved to s3://pgx-repository/ade-risk-model/Step5_Time_to_Event_Model/2_processed_datasets/cohort1/test\n",
      "Feature information for cohort1 saved to s3://pgx-repository/ade-risk-model/Step5_Time_to_Event_Model/2_processed_datasets/cohort1/feature_info_cohort1.json"
     ]
    }
   ],
   "source": [
    "import json\n",
    "import boto3\n",
    "import io\n",
    "\n",
    "# Paths for saving processed datasets to S3\n",
    "s3_bucket = f\"s3://pgx-repository/ade-risk-model/Step5_Time_to_Event_Model/2_processed_datasets/{cohort}\"\n",
    "processed_train_output_path = f\"{s3_bucket}/train\"\n",
    "processed_test_output_path = f\"{s3_bucket}/test\"\n",
    "feature_info_path = f\"{s3_bucket}/feature_info_{cohort}.json\"\n",
    "\n",
    "# Save train and test DataFrames to S3 in Parquet format\n",
    "processed_train_df.write.mode(\"overwrite\").parquet(processed_train_output_path)\n",
    "processed_test_df.write.mode(\"overwrite\").parquet(processed_test_output_path)\n",
    "\n",
    "print(f\"Processed Train dataset saved to {processed_train_output_path}\")\n",
    "print(f\"Processed Test dataset saved to {processed_test_output_path}\")\n",
    "\n",
    "# Extract feature names from StringIndexer\n",
    "index_to_category = {i: category for i, category in enumerate(pipeline_model.stages[1].labels)}\n",
    "feature_names = [\n",
    "    f\"{category} | drug_name_index_{i}\"  # Use a separator (e.g., ->) here\n",
    "    for i, category in index_to_category.items()\n",
    "]\n",
    "\n",
    "# Save feature names and types\n",
    "feature_info = {\n",
    "    \"names\": feature_names,\n",
    "    \"types\": \"one-hot encoded vector\",\n",
    "    \"source_column\": \"drug_name\"\n",
    "}\n",
    "\n",
    "# Save the JSON to S3 using an in-memory buffer\n",
    "bucket_name = s3_bucket.split('/')[2]\n",
    "s3_key = \"/\".join(s3_bucket.split('/')[3:]) + f\"/feature_info_{cohort}.json\"\n",
    "\n",
    "buffer = io.BytesIO()\n",
    "buffer.write(json.dumps(feature_info, indent=4).encode('utf-8'))\n",
    "buffer.seek(0)\n",
    "\n",
    "s3_client.upload_fileobj(buffer, bucket_name, s3_key)\n",
    "\n",
    "print(f\"Feature information for {cohort} saved to {feature_info_path}\")"
   ]
  },
  {
   "cell_type": "code",
   "execution_count": null,
   "id": "05c11d7a",
   "metadata": {},
   "outputs": [],
   "source": []
  }
 ],
 "metadata": {
  "kernelspec": {
   "display_name": "PySpark",
   "language": "python",
   "name": "pysparkkernel"
  },
  "language_info": {
   "codemirror_mode": {
    "name": "python",
    "version": 3
   },
   "file_extension": ".py",
   "mimetype": "text/x-python",
   "name": "pyspark",
   "pygments_lexer": "python3"
  }
 },
 "nbformat": 4,
 "nbformat_minor": 5
}
